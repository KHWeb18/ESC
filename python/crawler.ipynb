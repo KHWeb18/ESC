{
 "cells": [
  {
   "cell_type": "code",
   "execution_count": 1,
   "id": "27e6d4f7",
   "metadata": {},
   "outputs": [
    {
     "name": "stdout",
     "output_type": "stream",
     "text": [
      "Requirement already satisfied: requests in c:\\users\\ms109\\anaconda3\\lib\\site-packages (2.25.1)\n",
      "Requirement already satisfied: beautifulsoup4 in c:\\users\\ms109\\anaconda3\\lib\\site-packages (4.9.3)\n",
      "Requirement already satisfied: soupsieve>1.2 in c:\\users\\ms109\\anaconda3\\lib\\site-packages (from beautifulsoup4) (2.2.1)\n",
      "Requirement already satisfied: urllib3<1.27,>=1.21.1 in c:\\users\\ms109\\anaconda3\\lib\\site-packages (from requests) (1.26.4)\n",
      "Requirement already satisfied: idna<3,>=2.5 in c:\\users\\ms109\\anaconda3\\lib\\site-packages (from requests) (2.10)\n",
      "Requirement already satisfied: certifi>=2017.4.17 in c:\\users\\ms109\\anaconda3\\lib\\site-packages (from requests) (2020.12.5)\n",
      "Requirement already satisfied: chardet<5,>=3.0.2 in c:\\users\\ms109\\anaconda3\\lib\\site-packages (from requests) (4.0.0)\n",
      "Note: you may need to restart the kernel to use updated packages.\n"
     ]
    }
   ],
   "source": [
    "pip install requests beautifulsoup4"
   ]
  },
  {
   "cell_type": "code",
   "execution_count": null,
   "id": "57070972",
   "metadata": {},
   "outputs": [],
   "source": [
    "pip install selenium"
   ]
  },
  {
   "cell_type": "code",
   "execution_count": 7,
   "id": "7c6857ff",
   "metadata": {
    "scrolled": true
   },
   "outputs": [
    {
     "name": "stdout",
     "output_type": "stream",
     "text": [
      " * Serving Flask app \"__main__\" (lazy loading)\n",
      " * Environment: production\n",
      "   WARNING: This is a development server. Do not use it in a production deployment.\n",
      "   Use a production WSGI server instead.\n",
      " * Debug mode: off\n"
     ]
    },
    {
     "name": "stderr",
     "output_type": "stream",
     "text": [
      " * Running on http://localhost:8080/ (Press CTRL+C to quit)\n",
      "127.0.0.1 - - [09/Nov/2021 22:16:21] \"\u001B[37mGET /newsCrawler HTTP/1.1\u001B[0m\" 200 -\n",
      "127.0.0.1 - - [09/Nov/2021 22:16:24] \"\u001B[33mGET / HTTP/1.1\u001B[0m\" 404 -\n"
     ]
    }
   ],
   "source": [
    "from flask import Flask, url_for, request, jsonify\n",
    "from flask_cors import CORS, cross_origin\n",
    "\n",
    "import json\n",
    "\n",
    "app = Flask(__name__)\n",
    "CORS(app)\n",
    "\n",
    "@app.route('/newsCrawler', methods = ['GET', 'POST'])                                                                                                                                                                                                                                                                                                                                 \n",
    "def test():\n",
    "    \n",
    "    data = titles\n",
    "\n",
    "    \n",
    "    return jsonify(data)\n",
    "\n",
    "\n",
    "if __name__ == '__main__':\n",
    "    app.run(debug=False,host=\"localhost\",port=8080)\n"
   ]
  },
  {
   "cell_type": "code",
   "execution_count": 21,
   "id": "3d740fec",
   "metadata": {
    "scrolled": false
   },
   "outputs": [
    {
     "name": "stdout",
     "output_type": "stream",
     "text": [
      "                                               기사 제목  \\\n",
      "0                     포스코인터·이래AMS, 美 전기차 리비안에 부품 공급    \n",
      "1    현대차, 미국서 '전기차 제조시기' 일부러 늦추려는 이유는 [車 UP & DOWN]    \n",
      "2              정의선, \"전기차 美서 생산 계획···시기 보고 있다\"[뒷북비즈]    \n",
      "3                 정의선 회장 \"배터리 직접생산 안해, 전기차 美생산 계획중\"    \n",
      "4                   정의선 현대차 회장 \"전기차 美생산 계획…시기 보고있다\"    \n",
      "5      \"보조금 없이 통할까\" BMW, 韓 전기차 시장 노린 'iX·iX3' 국내 출시    \n",
      "6                            中 오포, 이르면 2년내 첫 전기차 출시    \n",
      "7                아우디, ‘서울 모빌리티쇼’서 전기차 등 4종 한국 최초 공개    \n",
      "8                  EV9에 니로까지 전기차 라인업 확대…전동화 꿈틀대는 기아    \n",
      "9                      \"턱 없이 부족한 전기차 공용충전기, 원인은...\"    \n",
      "10                        양주 옥정신도시에 초급속 전기차 충전시설 구축    \n",
      "11                                   전기차 大戰 '충전 ON'    \n",
      "12            테슬라와 리비안의 시소게임…美 전기차 대장주의 엇갈리는 시세, 왜?    \n",
      "13          “전기차 수요 폭발…이차전지 시장, 2030년 2510억弗 규모 전망”    \n",
      "14                             1억4630만원 BMW 전기차 나왔다    \n",
      "15                 정의선 \"미국서 전기차 생산 계획\" 공식 언급…시기는 미정    \n",
      "16                           中 오포, 이르면 2년내 첫 전기차 출시    \n",
      "17                 EV9에 니로까지 전기차 라인업 확대…전동화 꿈틀대는 기아    \n",
      "18                                   전기차 大戰 '충전 ON'    \n",
      "19            테슬라와 리비안의 시소게임…美 전기차 대장주의 엇갈리는 시세, 왜?    \n",
      "20                     \"턱 없이 부족한 전기차 공용충전기, 원인은...\"    \n",
      "21                        양주 옥정신도시에 초급속 전기차 충전시설 구축    \n",
      "22          “전기차 수요 폭발…이차전지 시장, 2030년 2510억弗 규모 전망”    \n",
      "23                             1억4630만원 BMW 전기차 나왔다    \n",
      "24            아우디, 서울모빌리티쇼에 전기차 'Q4 e-트론' 등 18대 총출동    \n",
      "25                 文만난 코스타리카 대통령 \"한국의 수소·전기차 우선 고려\"    \n",
      "26                           GM, 전기차 이어 전기보트 시장 노린다    \n",
      "27            여한구 \"한미 신통상 공조 강화…철강·전기차 등 현안 해결도 요구\"    \n",
      "28               \"전기차 구독하세요\"…현대차, 모빌리티 구독 플랫폼 제주 진출    \n",
      "29              '수소에 전기차까지'...SK E&S, ‘자본잠식’ 회사에 베팅    \n",
      "\n",
      "                                                 기사주소  \n",
      "0   https://m.news.naver.com/read?mode=LSD&mid=sec...  \n",
      "1   https://m.news.naver.com/read?mode=LSD&mid=sec...  \n",
      "2   https://m.news.naver.com/read?mode=LSD&mid=sec...  \n",
      "3   https://m.news.naver.com/read?mode=LSD&mid=sec...  \n",
      "4   https://m.news.naver.com/read?mode=LSD&mid=sec...  \n",
      "5   https://m.news.naver.com/read?mode=LSD&mid=sec...  \n",
      "6   https://m.news.naver.com/read?mode=LSD&mid=sec...  \n",
      "7   https://m.news.naver.com/read?mode=LSD&mid=sec...  \n",
      "8   https://m.news.naver.com/read?mode=LSD&mid=sec...  \n",
      "9   https://m.news.naver.com/read?mode=LSD&mid=sec...  \n",
      "10  https://m.news.naver.com/read?mode=LSD&mid=sec...  \n",
      "11  https://m.news.naver.com/read?mode=LSD&mid=sec...  \n",
      "12  https://m.news.naver.com/read?mode=LSD&mid=sec...  \n",
      "13  https://m.news.naver.com/read?mode=LSD&mid=sec...  \n",
      "14  https://m.news.naver.com/read?mode=LSD&mid=sec...  \n",
      "15  https://m.news.naver.com/read?mode=LSD&mid=sec...  \n",
      "16  https://m.news.naver.com/read?mode=LSD&mid=sec...  \n",
      "17  https://m.news.naver.com/read?mode=LSD&mid=sec...  \n",
      "18  https://m.news.naver.com/read?mode=LSD&mid=sec...  \n",
      "19  https://m.news.naver.com/read?mode=LSD&mid=sec...  \n",
      "20  https://m.news.naver.com/read?mode=LSD&mid=sec...  \n",
      "21  https://m.news.naver.com/read?mode=LSD&mid=sec...  \n",
      "22  https://m.news.naver.com/read?mode=LSD&mid=sec...  \n",
      "23  https://m.news.naver.com/read?mode=LSD&mid=sec...  \n",
      "24  https://m.news.naver.com/read?mode=LSD&mid=sec...  \n",
      "25  https://m.news.naver.com/read?mode=LSD&mid=sec...  \n",
      "26  https://m.news.naver.com/read?mode=LSD&mid=sec...  \n",
      "27  https://m.news.naver.com/read?mode=LSD&mid=sec...  \n",
      "28  https://m.news.naver.com/read?mode=LSD&mid=sec...  \n",
      "29  https://m.news.naver.com/read?mode=LSD&mid=sec...  \n"
     ]
    }
   ],
   "source": [
    "import requests\n",
    "from bs4 import BeautifulSoup\n",
    "import pandas as pd\n",
    "\n",
    "#result_df = pd.DataFrame()\n",
    "\n",
    "titles = []\n",
    "search_word = '전기차'\n",
    "i = '10'\n",
    "\n",
    "for i in range(1, 10, 5):\n",
    "    \n",
    "    url = f'https://m.search.naver.com/search.naver?where=m_news&sm=mtb_jum&query={search_word}&start={i}'\n",
    "    req = requests.get(url)\n",
    "    html = req.text\n",
    "    soup = BeautifulSoup(html, 'html.parser')\n",
    "    search_result = soup.select_one('.list_news')\n",
    "\n",
    "\n",
    "    news_links = soup.find_all(\"a\", attrs = {\"class\":\"news_tit\"})\n",
    "\n",
    "    for title in news_links:\n",
    "        titles.append(title.get_text())\n",
    "        #a_tag = search_result.select('#news_result_list > li:nth-child(1) > div > a')\n",
    "        \n",
    "        #linsk = soup.select('a[href]')\n",
    "\n",
    "             \n",
    "        url = title.attrs['href']  \n",
    "        #url = title.attrs[ url['href'] for url in soup.find_all('a', attrs={'class':'news_tit'}) ]\n",
    "        \n",
    "        #titles.append(url)\n",
    "        \n",
    "\n",
    "\n",
    "    #import json\n",
    "\n",
    "\n",
    "    #with open(\"data.json\", \"w\", encoding='utf-8') as f: \n",
    "     #   json.dump(titles, f, ensure_ascii=False)    \n",
    "    \n",
    "\n",
    "    news_df = pd.DataFrame({ '기사 제목':titles,'기사주소':url})\n",
    "    \n",
    "    news_df.to_csv(\"news.csv\", encoding='euc-kr')\n",
    "    \n",
    "    \n",
    "print(df)\n",
    "#soup\n",
    "#print(html)"
   ]
  },
  {
   "cell_type": "code",
   "execution_count": 2,
   "id": "43256833",
   "metadata": {},
   "outputs": [
    {
     "name": "stdout",
     "output_type": "stream",
     "text": [
      "{\n",
      "\"lastBuildDate\": \"Wed, 24 Nov 2021 20:14:26 +0900\",\n",
      "\"total\": 687794,\n",
      "\"start\": 1,\n",
      "\"display\": 10,\n",
      "\"items\": [\n",
      "{\n",
      "\"title\": \"대미 수출 비중 ‘17년 만에 최대’… 반도체·이차전지 타고 한국 수출구도도...\",\n",
      "\"originallink\": \"https://hankookilbo.com/News/Read/A2021112409130003734?did=NA\",\n",
      "\"link\": \"https://news.naver.com/main/read.naver?mode=LSD&mid=sec&sid1=101&oid=469&aid=0000643078\",\n",
      "\"description\": \"따른 <b>전기차</b> 배터리 수요로 반도체와 이차전지 등의 대미 수출이 최근 2년간 50%나 급증하면서 수출 비중도 늘었다. 특히 국내 기업들의 중국 현지매출은 2013년 정점(2,502억 달러)을 찍었다가 2019년 1,475억 달러까지... \",\n",
      "\"pubDate\": \"Wed, 24 Nov 2021 20:01:00 +0900\"\n",
      "\n",
      "},\n",
      "{\n",
      "\"title\": \"“<b>전기차</b> 덕에… 車 디자인에도 변화 가능성 열려”\",\n",
      "\"originallink\": \"http://www.segye.com/content/html/2021/11/24/20211124515575.html?OutUrl=naver\",\n",
      "\"link\": \"https://news.naver.com/main/read.naver?mode=LSD&mid=sec&sid1=103&oid=022&aid=0003641340\",\n",
      "\"description\": \"특성” “<b>전기차</b> 덕분에 자동차 디자인에도 변화의 가능성이 열렸다.” 세계적 자동차 디자이너인 피터... 슈라이어 사장은 “<b>전기차</b>나 자율주행 같은 기술은 구동 방식, 내장 디자인 등 차의 운영방식을 크게 바꿀 것”... \",\n",
      "\"pubDate\": \"Wed, 24 Nov 2021 19:58:00 +0900\"\n",
      "\n",
      "},\n",
      "{\n",
      "\"title\": \"대구 스타벤처기업 네트워킹데이…유니콘 육성\",\n",
      "\"originallink\": \"http://www.dkilbo.com/news/articleView.html?idxno=350170\",\n",
      "\"link\": \"http://www.dkilbo.com/news/articleView.html?idxno=350170\",\n",
      "\"description\": \"난치성 신경질환 치료제를 개발하는 ㈜아스트로젠(2020년)도 중소벤처기업부 아기유니콘 선정 및 150억 투자유치를 이끌어 냈고, 모빌리티분야 혁신기업으로 주목받고 있는 ㈜드림에이스는 올해 미국 폭스콘의 <b>전기차</b>... \",\n",
      "\"pubDate\": \"Wed, 24 Nov 2021 19:56:00 +0900\"\n",
      "\n",
      "},\n",
      "{\n",
      "\"title\": \"[산학협력단 브리핑] <b>전기차</b> 전성시대\",\n",
      "\"originallink\": \"http://www.ggilbo.com/news/articleView.html?idxno=881577\",\n",
      "\"link\": \"http://www.ggilbo.com/news/articleView.html?idxno=881577\",\n",
      "\"description\": \"이호근 대덕대 자동차학과 교수 미국 <b>전기차</b> 기업 '리비안'이 테슬라의 대항마로 지난주 화려하게 시장... 리비안은 2009년 설립됐고, 미국에서 인기가 많은 픽업트럭을 <b>전기차</b>로 만드는데 있어서는 가장 경쟁력이 앞선... \",\n",
      "\"pubDate\": \"Wed, 24 Nov 2021 19:54:00 +0900\"\n",
      "\n",
      "},\n",
      "{\n",
      "\"title\": \"폴스타 '프리셉트 콘셉트', 2024년 '폴스타5'로 등장\",\n",
      "\"originallink\": \"http://www.gpkorea.com/news/articleView.html?idxno=80283\",\n",
      "\"link\": \"http://www.gpkorea.com/news/articleView.html?idxno=80283\",\n",
      "\"description\": \"볼보 <b>전기차</b> 브랜드 폴스타는 지난해 새로운 EV 모델로 프리셉트 콘셉트를 선보였으며 지난 23일(현지시간)에는 소셜미디어 계정을 통해 생산 준비가 거의 완료된 시제품 사진을 공개했다. 이미지 속 차량은 패스트백과... \",\n",
      "\"pubDate\": \"Wed, 24 Nov 2021 19:38:00 +0900\"\n",
      "\n",
      "},\n",
      "{\n",
      "\"title\": \"저비용에 파격 인센티브, 배터리업계 `선벨트`로 집결\",\n",
      "\"originallink\": \"http://www.dt.co.kr/contents.html?article_no=2021112502101632033001&ref=naver\",\n",
      "\"link\": \"https://news.naver.com/main/read.naver?mode=LSD&mid=sec&sid1=101&oid=029&aid=0002707883\",\n",
      "\"description\": \"미국에서 생산되는 도요타의 하이브리드차(HEV)는 물론 순수 <b>전기차</b>에 탑재될 배터리를 자체적으로 조달하겠다는 구상으로 보인다. 앞서 도요타는 미국내 <b>전기차</b> 배터리 사업을 위해 총 34억 달러(약 4조원)을... \",\n",
      "\"pubDate\": \"Wed, 24 Nov 2021 19:36:00 +0900\"\n",
      "\n",
      "},\n",
      "{\n",
      "\"title\": \"친환경사업 투자 신한카드, 1000억 `ESG 채권` 발행\",\n",
      "\"originallink\": \"http://www.dt.co.kr/contents.html?article_no=2021112502100963075002&ref=naver\",\n",
      "\"link\": \"https://news.naver.com/main/read.naver?mode=LSD&mid=sec&sid1=101&oid=029&aid=0002707878\",\n",
      "\"description\": \"3년 만기, 2.478% 금리로 발행된 이 채권은 재생에너지, <b>전기차</b>, 고효율 에너지 등 친환경적인 사업분야에 투자할 자금조달을 목적으로 발행한 그린본드다. 조달된 자금은 <b>전기차</b> 등 친환경 차량을 구매하는 고객에게... \",\n",
      "\"pubDate\": \"Wed, 24 Nov 2021 19:34:00 +0900\"\n",
      "\n",
      "},\n",
      "{\n",
      "\"title\": \"“집·자동차 드려요”…오스트리아서 ‘백신 복권’ 출시\",\n",
      "\"originallink\": \"http://www.ichannela.com/news/main/news_detailPage.do?publishId=000000274999\",\n",
      "\"link\": \"https://news.naver.com/main/read.naver?mode=LSD&mid=sec&sid1=104&oid=449&aid=0000218354\",\n",
      "\"description\": \"오스트리아 공영방송은 백신 접종자를 대상으로 단독주택과 <b>전기차</b> 등을 1천 개의 경품을 주는 '백신 복권'을 출시했습니다. [수잔 드라팔릭/ 오스트리아 사마리아인 연합 회장] &quot;이 센터와 빈뿐만 아니라 오스트리아... \",\n",
      "\"pubDate\": \"Wed, 24 Nov 2021 19:32:00 +0900\"\n",
      "\n",
      "},\n",
      "{\n",
      "\"title\": \"고급 <b>전기차</b> '샤이 테크' 열풍…수줍음으로 빚은 럭셔리\",\n",
      "\"originallink\": \"http://www.econovill.com/news/articleView.html?idxno=556704\",\n",
      "\"link\": \"http://www.econovill.com/news/articleView.html?idxno=556704\",\n",
      "\"description\": \" 샤이 테크(shy tech)가 최근 고급 <b>전기차</b> 시장에서 새로운 화두로 떠오르고 있다. 샤이 테크는 평소 이용자... 첨단 기능을 제공하는 동시에 차량의 디자인을 단순화시킴으로써 <b>전기차</b>의 고급감을 강화하는 요소로... \",\n",
      "\"pubDate\": \"Wed, 24 Nov 2021 19:24:00 +0900\"\n",
      "\n",
      "},\n",
      "{\n",
      "\"title\": \"충전 중 SM3 <b>전기차</b>서 불…주민 긴급 대피\",\n",
      "\"originallink\": \"http://mbn.mk.co.kr/pages/news/newsView.php?category=mbn00009&news_seq_no=4645766\",\n",
      "\"link\": \"https://news.naver.com/main/read.naver?mode=LSD&mid=sec&sid1=102&oid=057&aid=0001623718\",\n",
      "\"description\": \"오늘(24일) 오전 8시쯤 충북 충주시 호암동의 한 아파트 지하주차장에 세워진 르노삼성 SM3 Z.E <b>전기차</b>에서 불이 나 1시간 20분 만에 꺼졌습니다. 당시 <b>전기차</b>는 급속 충전기와 연결된 상태로, 불길에 휩싸이자 주차장에... \",\n",
      "\"pubDate\": \"Wed, 24 Nov 2021 19:20:00 +0900\"\n",
      "\n",
      "}\n",
      "]\n",
      "}\n",
      "\n"
     ]
    }
   ],
   "source": [
    "import urllib.request\n",
    "\n",
    "client_id = \"5nrnaEfIpurFYmS5F4WP\"\n",
    "client_secret = \"vR2SYXZNPB\"\n",
    "encText = urllib.parse.quote(\"전기차\") # 검색할 키워드\n",
    "\n",
    "url = \"https://openapi.naver.com/v1/search/news?query=\" + encText # json 결과가 필요할 때 사용\n",
    "# url = \"https://openapi.naver.com/v1/search/news.xml?query=\" + encText # xml 결과가 필요할 때 사용\n",
    "\n",
    "request = urllib.request.Request(url)\n",
    "request.add_header(\"X-Naver-Client-Id\", client_id)\n",
    "request.add_header(\"X-Naver-Client-Secret\", client_secret)\n",
    "response = urllib.request.urlopen(request)\n",
    "rescode = response.getcode()\n",
    "if(rescode == 200):\n",
    "    response_body = response.read()\n",
    "    print(response_body.decode('utf-8'))\n",
    "    \n",
    "else:\n",
    "    print(\"Error Code:\" + rescode)\n",
    "\n",
    "\n",
    "\n"
   ]
  },
  {
   "cell_type": "code",
   "execution_count": null,
   "outputs": [
    {
     "name": "stdout",
     "output_type": "stream",
     "text": [
      " * Serving Flask app \"__main__\" (lazy loading)\r\n",
      " * Environment: production\r\n",
      "   WARNING: This is a development server. Do not use it in a production deployment.\r\n",
      "   Use a production WSGI server instead.\r\n",
      " * Debug mode: off\r\n"
     ]
    },
    {
     "name": "stderr",
     "output_type": "stream",
     "text": [
      " * Running on http://127.0.0.1:5000/ (Press CTRL+C to quit)\n",
      "127.0.0.1 - - [24/Nov/2021 20:01:32] \"\u001B[33mGET / HTTP/1.1\u001B[0m\" 404 -\n",
      "127.0.0.1 - - [24/Nov/2021 20:01:32] \"\u001B[33mGET /favicon.ico HTTP/1.1\u001B[0m\" 404 -\n",
      "127.0.0.1 - - [24/Nov/2021 20:01:35] \"\u001B[37mGET /news HTTP/1.1\u001B[0m\" 200 -\n"
     ]
    }
   ],
   "source": [
    "!pip install flask_cors"
   ],
   "metadata": {
    "collapsed": false,
    "pycharm": {
     "name": "#%%\n"
    }
   }
  },
  {
   "cell_type": "code",
   "execution_count": 4,
   "outputs": [
    {
     "name": "stdout",
     "output_type": "stream",
     "text": [
      "{'lastBuildDate': 'Wed, 24 Nov 2021 20:57:36 +0900', 'total': 687796, 'start': 1, 'display': 10, 'items': [{'title': '구자근 의원, ‘차량내 비상전원 설치 의무화’ <b>전기차</b> 안전 토론회 개최', 'originallink': 'http://www.lawissue.co.kr/view.php?ud=2021112420200338b3279dfb36_12', 'link': 'http://www.lawissue.co.kr/view.php?ud=2021112420200338b3279dfb36_12', 'description': '구자근 의원이 24일 국회의원회관 제2소회의실에서 ‘화재시 대피 어려운 <b>전기차</b>, 현황과 대안-차량 내... 인사들과 <b>전기차</b>, 배터리 관련 업계에서 다양하게 참석했다. 이번 토론회는 <b>전기차</b> 화재 및 유사시에 대비한 차량내... ', 'pubDate': 'Wed, 24 Nov 2021 20:22:00 +0900'}, {'title': '싱가포르 관광객 다시 제주 온다', 'originallink': 'http://www.jemin.com/news/articleView.html?idxno=727856', 'link': 'http://www.jemin.com/news/articleView.html?idxno=727856', 'description': '싱가포르 관광객이 <b>전기차</b>를 렌트해 자가운전으로 도내 주요 관광지를 여행하기 때문에 거리두기를 지키며 안전 관광을 즐길 수 있다. 제주관광공사 관계자는 &quot;팬데믹 이후 소규모, 안전 관광, 청정 관광지로 관광... ', 'pubDate': 'Wed, 24 Nov 2021 20:18:00 +0900'}, {'title': '대미 수출 비중 ‘17년 만에 최대’… 반도체·이차전지 타고 한국 수출구도도...', 'originallink': 'https://hankookilbo.com/News/Read/A2021112409130003734?did=NA', 'link': 'https://news.naver.com/main/read.naver?mode=LSD&mid=sec&sid1=101&oid=469&aid=0000643078', 'description': '따른 <b>전기차</b> 배터리 수요로 반도체와 이차전지 등의 대미 수출이 최근 2년간 50%나 급증하면서 수출 비중도 늘었다. 특히 국내 기업들의 중국 현지매출은 2013년 정점(2,502억 달러)을 찍었다가 2019년 1,475억 달러까지... ', 'pubDate': 'Wed, 24 Nov 2021 20:01:00 +0900'}, {'title': '“<b>전기차</b> 덕에… 車 디자인에도 변화 가능성 열려”', 'originallink': 'http://www.segye.com/content/html/2021/11/24/20211124515575.html?OutUrl=naver', 'link': 'https://news.naver.com/main/read.naver?mode=LSD&mid=sec&sid1=103&oid=022&aid=0003641340', 'description': '특성” “<b>전기차</b> 덕분에 자동차 디자인에도 변화의 가능성이 열렸다.” 세계적 자동차 디자이너인 피터... 슈라이어 사장은 “<b>전기차</b>나 자율주행 같은 기술은 구동 방식, 내장 디자인 등 차의 운영방식을 크게 바꿀 것”... ', 'pubDate': 'Wed, 24 Nov 2021 19:58:00 +0900'}, {'title': '대구 스타벤처기업 네트워킹데이…유니콘 육성', 'originallink': 'http://www.dkilbo.com/news/articleView.html?idxno=350170', 'link': 'http://www.dkilbo.com/news/articleView.html?idxno=350170', 'description': '난치성 신경질환 치료제를 개발하는 ㈜아스트로젠(2020년)도 중소벤처기업부 아기유니콘 선정 및 150억 투자유치를 이끌어 냈고, 모빌리티분야 혁신기업으로 주목받고 있는 ㈜드림에이스는 올해 미국 폭스콘의 <b>전기차</b>... ', 'pubDate': 'Wed, 24 Nov 2021 19:56:00 +0900'}, {'title': '[산학협력단 브리핑] <b>전기차</b> 전성시대', 'originallink': 'http://www.ggilbo.com/news/articleView.html?idxno=881577', 'link': 'http://www.ggilbo.com/news/articleView.html?idxno=881577', 'description': \"이호근 대덕대 자동차학과 교수 미국 <b>전기차</b> 기업 '리비안'이 테슬라의 대항마로 지난주 화려하게 시장... 리비안은 2009년 설립됐고, 미국에서 인기가 많은 픽업트럭을 <b>전기차</b>로 만드는데 있어서는 가장 경쟁력이 앞선... \", 'pubDate': 'Wed, 24 Nov 2021 19:54:00 +0900'}, {'title': \"폴스타 '프리셉트 콘셉트', 2024년 '폴스타5'로 등장\", 'originallink': 'http://www.gpkorea.com/news/articleView.html?idxno=80283', 'link': 'http://www.gpkorea.com/news/articleView.html?idxno=80283', 'description': '볼보 <b>전기차</b> 브랜드 폴스타는 지난해 새로운 EV 모델로 프리셉트 콘셉트를 선보였으며 지난 23일(현지시간)에는 소셜미디어 계정을 통해 생산 준비가 거의 완료된 시제품 사진을 공개했다. 이미지 속 차량은 패스트백과... ', 'pubDate': 'Wed, 24 Nov 2021 19:38:00 +0900'}, {'title': '저비용에 파격 인센티브, 배터리업계 `선벨트`로 집결', 'originallink': 'http://www.dt.co.kr/contents.html?article_no=2021112502101632033001&ref=naver', 'link': 'https://news.naver.com/main/read.naver?mode=LSD&mid=sec&sid1=101&oid=029&aid=0002707883', 'description': '미국에서 생산되는 도요타의 하이브리드차(HEV)는 물론 순수 <b>전기차</b>에 탑재될 배터리를 자체적으로 조달하겠다는 구상으로 보인다. 앞서 도요타는 미국내 <b>전기차</b> 배터리 사업을 위해 총 34억 달러(약 4조원)을... ', 'pubDate': 'Wed, 24 Nov 2021 19:36:00 +0900'}, {'title': '친환경사업 투자 신한카드, 1000억 `ESG 채권` 발행', 'originallink': 'http://www.dt.co.kr/contents.html?article_no=2021112502100963075002&ref=naver', 'link': 'https://news.naver.com/main/read.naver?mode=LSD&mid=sec&sid1=101&oid=029&aid=0002707878', 'description': '3년 만기, 2.478% 금리로 발행된 이 채권은 재생에너지, <b>전기차</b>, 고효율 에너지 등 친환경적인 사업분야에 투자할 자금조달을 목적으로 발행한 그린본드다. 조달된 자금은 <b>전기차</b> 등 친환경 차량을 구매하는 고객에게... ', 'pubDate': 'Wed, 24 Nov 2021 19:34:00 +0900'}, {'title': '“집·자동차 드려요”…오스트리아서 ‘백신 복권’ 출시', 'originallink': 'http://www.ichannela.com/news/main/news_detailPage.do?publishId=000000274999', 'link': 'https://news.naver.com/main/read.naver?mode=LSD&mid=sec&sid1=104&oid=449&aid=0000218354', 'description': \"오스트리아 공영방송은 백신 접종자를 대상으로 단독주택과 <b>전기차</b> 등을 1천 개의 경품을 주는 '백신 복권'을 출시했습니다. [수잔 드라팔릭/ 오스트리아 사마리아인 연합 회장] &quot;이 센터와 빈뿐만 아니라 오스트리아... \", 'pubDate': 'Wed, 24 Nov 2021 19:32:00 +0900'}]}\n"
     ]
    }
   ],
   "source": [
    "# 네이버 뉴스 api json\n",
    "import requests\n",
    "\n",
    "client_id = \"5nrnaEfIpurFYmS5F4WP\"\n",
    "client_secret = \"vR2SYXZNPB\"\n",
    "\n",
    "keyword = '전기차'\n",
    "url = \"https://openapi.naver.com/v1/search/news.json\"\n",
    "\n",
    "headers = {\"X-Naver-Client-Id\":client_id, \"X-Naver-Client-Secret\":client_secret}\n",
    "\n",
    "params = {'query':keyword, 'display':10, 'start':1, 'sort':'date'}\n",
    "\n",
    "r = requests.get(url, params = params, headers = headers)\n",
    "\n",
    "j = r.json()\n",
    "print(j)"
   ],
   "metadata": {
    "collapsed": false,
    "pycharm": {
     "name": "#%%\n"
    }
   }
  },
  {
   "cell_type": "code",
   "execution_count": null,
   "outputs": [
    {
     "name": "stdout",
     "output_type": "stream",
     "text": [
      " * Serving Flask app \"__main__\" (lazy loading)\r\n",
      " * Environment: production\r\n",
      "   WARNING: This is a development server. Do not use it in a production deployment.\r\n",
      "   Use a production WSGI server instead.\r\n",
      " * Debug mode: off\r\n"
     ]
    },
    {
     "name": "stderr",
     "output_type": "stream",
     "text": [
      " * Running on http://127.0.0.1:5000/ (Press CTRL+C to quit)\n",
      "127.0.0.1 - - [24/Nov/2021 20:57:49] \"\u001B[37mGET /news HTTP/1.1\u001B[0m\" 200 -\n",
      "127.0.0.1 - - [24/Nov/2021 20:57:49] \"\u001B[33mGET /images/icons/gear.png HTTP/1.1\u001B[0m\" 404 -\n",
      "127.0.0.1 - - [24/Nov/2021 21:03:55] \"\u001B[37mGET /news HTTP/1.1\u001B[0m\" 200 -\n",
      "127.0.0.1 - - [24/Nov/2021 21:03:55] \"\u001B[33mGET /images/icons/gear.png HTTP/1.1\u001B[0m\" 404 -\n",
      "127.0.0.1 - - [24/Nov/2021 21:04:00] \"\u001B[37mGET /news HTTP/1.1\u001B[0m\" 200 -\n",
      "127.0.0.1 - - [24/Nov/2021 21:05:16] \"\u001B[37mGET /news HTTP/1.1\u001B[0m\" 200 -\n",
      "127.0.0.1 - - [24/Nov/2021 21:06:31] \"\u001B[37mGET /news HTTP/1.1\u001B[0m\" 200 -\n",
      "127.0.0.1 - - [24/Nov/2021 21:08:13] \"\u001B[37mGET /news HTTP/1.1\u001B[0m\" 200 -\n",
      "127.0.0.1 - - [24/Nov/2021 21:08:46] \"\u001B[37mGET /news HTTP/1.1\u001B[0m\" 200 -\n",
      "127.0.0.1 - - [24/Nov/2021 21:09:02] \"\u001B[37mGET /news HTTP/1.1\u001B[0m\" 200 -\n",
      "127.0.0.1 - - [24/Nov/2021 21:09:12] \"\u001B[37mGET /news HTTP/1.1\u001B[0m\" 200 -\n",
      "127.0.0.1 - - [24/Nov/2021 21:11:33] \"\u001B[37mGET /news HTTP/1.1\u001B[0m\" 200 -\n",
      "127.0.0.1 - - [24/Nov/2021 21:13:43] \"\u001B[37mGET /news HTTP/1.1\u001B[0m\" 200 -\n",
      "127.0.0.1 - - [24/Nov/2021 21:14:58] \"\u001B[37mGET /news HTTP/1.1\u001B[0m\" 200 -\n",
      "127.0.0.1 - - [24/Nov/2021 21:15:28] \"\u001B[37mGET /news HTTP/1.1\u001B[0m\" 200 -\n",
      "127.0.0.1 - - [24/Nov/2021 21:16:10] \"\u001B[37mGET /news HTTP/1.1\u001B[0m\" 200 -\n",
      "127.0.0.1 - - [24/Nov/2021 21:16:45] \"\u001B[37mGET /news HTTP/1.1\u001B[0m\" 200 -\n",
      "127.0.0.1 - - [24/Nov/2021 21:17:50] \"\u001B[37mGET /news HTTP/1.1\u001B[0m\" 200 -\n",
      "127.0.0.1 - - [24/Nov/2021 21:20:24] \"\u001B[37mGET /news HTTP/1.1\u001B[0m\" 200 -\n",
      "127.0.0.1 - - [24/Nov/2021 21:20:39] \"\u001B[37mGET /news HTTP/1.1\u001B[0m\" 200 -\n",
      "127.0.0.1 - - [24/Nov/2021 21:21:02] \"\u001B[37mGET /news HTTP/1.1\u001B[0m\" 200 -\n",
      "127.0.0.1 - - [24/Nov/2021 21:22:03] \"\u001B[37mGET /news HTTP/1.1\u001B[0m\" 200 -\n"
     ]
    }
   ],
   "source": [
    "from flask import Flask, request, jsonify\n",
    "from flask_cors import CORS\n",
    "\n",
    "app = Flask(__name__)\n",
    "CORS(app)\n",
    "\n",
    "@app.route('/news') #test api\n",
    "def news():\n",
    "    return j\n",
    "\n",
    "if __name__ == \"__main__\":\n",
    "    app.run()\n"
   ],
   "metadata": {
    "collapsed": false,
    "pycharm": {
     "name": "#%%\n",
     "is_executing": true
    }
   }
  }
 ],
 "metadata": {
  "kernelspec": {
   "display_name": "Python 3",
   "language": "python",
   "name": "python3"
  },
  "language_info": {
   "codemirror_mode": {
    "name": "ipython",
    "version": 3
   },
   "file_extension": ".py",
   "mimetype": "text/x-python",
   "name": "python",
   "nbconvert_exporter": "python",
   "pygments_lexer": "ipython3",
   "version": "3.8.8"
  }
 },
 "nbformat": 4,
 "nbformat_minor": 5
}