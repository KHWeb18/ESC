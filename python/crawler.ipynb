{
 "cells": [
  {
   "cell_type": "code",
   "execution_count": 1,
   "id": "27e6d4f7",
   "metadata": {},
   "outputs": [
    {
     "name": "stdout",
     "output_type": "stream",
     "text": [
      "Requirement already satisfied: requests in c:\\users\\ms109\\anaconda3\\lib\\site-packages (2.25.1)\n",
      "Requirement already satisfied: beautifulsoup4 in c:\\users\\ms109\\anaconda3\\lib\\site-packages (4.9.3)\n",
      "Requirement already satisfied: soupsieve>1.2 in c:\\users\\ms109\\anaconda3\\lib\\site-packages (from beautifulsoup4) (2.2.1)\n",
      "Requirement already satisfied: urllib3<1.27,>=1.21.1 in c:\\users\\ms109\\anaconda3\\lib\\site-packages (from requests) (1.26.4)\n",
      "Requirement already satisfied: idna<3,>=2.5 in c:\\users\\ms109\\anaconda3\\lib\\site-packages (from requests) (2.10)\n",
      "Requirement already satisfied: certifi>=2017.4.17 in c:\\users\\ms109\\anaconda3\\lib\\site-packages (from requests) (2020.12.5)\n",
      "Requirement already satisfied: chardet<5,>=3.0.2 in c:\\users\\ms109\\anaconda3\\lib\\site-packages (from requests) (4.0.0)\n",
      "Note: you may need to restart the kernel to use updated packages.\n"
     ]
    }
   ],
   "source": [
    "pip install requests beautifulsoup4"
   ]
  },
  {
   "cell_type": "code",
   "execution_count": null,
   "id": "57070972",
   "metadata": {},
   "outputs": [],
   "source": [
    "pip install selenium"
   ]
  },
  {
   "cell_type": "code",
   "execution_count": 7,
   "id": "7c6857ff",
   "metadata": {
    "scrolled": true
   },
   "outputs": [
    {
     "name": "stdout",
     "output_type": "stream",
     "text": [
      " * Serving Flask app \"__main__\" (lazy loading)\n",
      " * Environment: production\n",
      "   WARNING: This is a development server. Do not use it in a production deployment.\n",
      "   Use a production WSGI server instead.\n",
      " * Debug mode: off\n"
     ]
    },
    {
     "name": "stderr",
     "output_type": "stream",
     "text": [
      " * Running on http://localhost:8080/ (Press CTRL+C to quit)\n",
      "127.0.0.1 - - [09/Nov/2021 22:16:21] \"\u001B[37mGET /newsCrawler HTTP/1.1\u001B[0m\" 200 -\n",
      "127.0.0.1 - - [09/Nov/2021 22:16:24] \"\u001B[33mGET / HTTP/1.1\u001B[0m\" 404 -\n"
     ]
    }
   ],
   "source": [
    "from flask import Flask, url_for, request, jsonify\n",
    "from flask_cors import CORS, cross_origin\n",
    "\n",
    "import json\n",
    "\n",
    "app = Flask(__name__)\n",
    "CORS(app)\n",
    "\n",
    "@app.route('/newsCrawler', methods = ['GET', 'POST'])                                                                                                                                                                                                                                                                                                                                 \n",
    "def test():\n",
    "    \n",
    "    data = titles\n",
    "\n",
    "    \n",
    "    return jsonify(data)\n",
    "\n",
    "\n",
    "if __name__ == '__main__':\n",
    "    app.run(debug=False,host=\"localhost\",port=8080)\n"
   ]
  },
  {
   "cell_type": "code",
   "execution_count": 21,
   "id": "3d740fec",
   "metadata": {
    "scrolled": false
   },
   "outputs": [
    {
     "name": "stdout",
     "output_type": "stream",
     "text": [
      "                                               기사 제목  \\\n",
      "0                     포스코인터·이래AMS, 美 전기차 리비안에 부품 공급    \n",
      "1    현대차, 미국서 '전기차 제조시기' 일부러 늦추려는 이유는 [車 UP & DOWN]    \n",
      "2              정의선, \"전기차 美서 생산 계획···시기 보고 있다\"[뒷북비즈]    \n",
      "3                 정의선 회장 \"배터리 직접생산 안해, 전기차 美생산 계획중\"    \n",
      "4                   정의선 현대차 회장 \"전기차 美생산 계획…시기 보고있다\"    \n",
      "5      \"보조금 없이 통할까\" BMW, 韓 전기차 시장 노린 'iX·iX3' 국내 출시    \n",
      "6                            中 오포, 이르면 2년내 첫 전기차 출시    \n",
      "7                아우디, ‘서울 모빌리티쇼’서 전기차 등 4종 한국 최초 공개    \n",
      "8                  EV9에 니로까지 전기차 라인업 확대…전동화 꿈틀대는 기아    \n",
      "9                      \"턱 없이 부족한 전기차 공용충전기, 원인은...\"    \n",
      "10                        양주 옥정신도시에 초급속 전기차 충전시설 구축    \n",
      "11                                   전기차 大戰 '충전 ON'    \n",
      "12            테슬라와 리비안의 시소게임…美 전기차 대장주의 엇갈리는 시세, 왜?    \n",
      "13          “전기차 수요 폭발…이차전지 시장, 2030년 2510억弗 규모 전망”    \n",
      "14                             1억4630만원 BMW 전기차 나왔다    \n",
      "15                 정의선 \"미국서 전기차 생산 계획\" 공식 언급…시기는 미정    \n",
      "16                           中 오포, 이르면 2년내 첫 전기차 출시    \n",
      "17                 EV9에 니로까지 전기차 라인업 확대…전동화 꿈틀대는 기아    \n",
      "18                                   전기차 大戰 '충전 ON'    \n",
      "19            테슬라와 리비안의 시소게임…美 전기차 대장주의 엇갈리는 시세, 왜?    \n",
      "20                     \"턱 없이 부족한 전기차 공용충전기, 원인은...\"    \n",
      "21                        양주 옥정신도시에 초급속 전기차 충전시설 구축    \n",
      "22          “전기차 수요 폭발…이차전지 시장, 2030년 2510억弗 규모 전망”    \n",
      "23                             1억4630만원 BMW 전기차 나왔다    \n",
      "24            아우디, 서울모빌리티쇼에 전기차 'Q4 e-트론' 등 18대 총출동    \n",
      "25                 文만난 코스타리카 대통령 \"한국의 수소·전기차 우선 고려\"    \n",
      "26                           GM, 전기차 이어 전기보트 시장 노린다    \n",
      "27            여한구 \"한미 신통상 공조 강화…철강·전기차 등 현안 해결도 요구\"    \n",
      "28               \"전기차 구독하세요\"…현대차, 모빌리티 구독 플랫폼 제주 진출    \n",
      "29              '수소에 전기차까지'...SK E&S, ‘자본잠식’ 회사에 베팅    \n",
      "\n",
      "                                                 기사주소  \n",
      "0   https://m.news.naver.com/read?mode=LSD&mid=sec...  \n",
      "1   https://m.news.naver.com/read?mode=LSD&mid=sec...  \n",
      "2   https://m.news.naver.com/read?mode=LSD&mid=sec...  \n",
      "3   https://m.news.naver.com/read?mode=LSD&mid=sec...  \n",
      "4   https://m.news.naver.com/read?mode=LSD&mid=sec...  \n",
      "5   https://m.news.naver.com/read?mode=LSD&mid=sec...  \n",
      "6   https://m.news.naver.com/read?mode=LSD&mid=sec...  \n",
      "7   https://m.news.naver.com/read?mode=LSD&mid=sec...  \n",
      "8   https://m.news.naver.com/read?mode=LSD&mid=sec...  \n",
      "9   https://m.news.naver.com/read?mode=LSD&mid=sec...  \n",
      "10  https://m.news.naver.com/read?mode=LSD&mid=sec...  \n",
      "11  https://m.news.naver.com/read?mode=LSD&mid=sec...  \n",
      "12  https://m.news.naver.com/read?mode=LSD&mid=sec...  \n",
      "13  https://m.news.naver.com/read?mode=LSD&mid=sec...  \n",
      "14  https://m.news.naver.com/read?mode=LSD&mid=sec...  \n",
      "15  https://m.news.naver.com/read?mode=LSD&mid=sec...  \n",
      "16  https://m.news.naver.com/read?mode=LSD&mid=sec...  \n",
      "17  https://m.news.naver.com/read?mode=LSD&mid=sec...  \n",
      "18  https://m.news.naver.com/read?mode=LSD&mid=sec...  \n",
      "19  https://m.news.naver.com/read?mode=LSD&mid=sec...  \n",
      "20  https://m.news.naver.com/read?mode=LSD&mid=sec...  \n",
      "21  https://m.news.naver.com/read?mode=LSD&mid=sec...  \n",
      "22  https://m.news.naver.com/read?mode=LSD&mid=sec...  \n",
      "23  https://m.news.naver.com/read?mode=LSD&mid=sec...  \n",
      "24  https://m.news.naver.com/read?mode=LSD&mid=sec...  \n",
      "25  https://m.news.naver.com/read?mode=LSD&mid=sec...  \n",
      "26  https://m.news.naver.com/read?mode=LSD&mid=sec...  \n",
      "27  https://m.news.naver.com/read?mode=LSD&mid=sec...  \n",
      "28  https://m.news.naver.com/read?mode=LSD&mid=sec...  \n",
      "29  https://m.news.naver.com/read?mode=LSD&mid=sec...  \n"
     ]
    }
   ],
   "source": [
    "import requests\n",
    "from bs4 import BeautifulSoup\n",
    "import pandas as pd\n",
    "\n",
    "#result_df = pd.DataFrame()\n",
    "\n",
    "titles = []\n",
    "search_word = '전기차'\n",
    "i = '10'\n",
    "\n",
    "for i in range(1, 10, 5):\n",
    "    \n",
    "    url = f'https://m.search.naver.com/search.naver?where=m_news&sm=mtb_jum&query={search_word}&start={i}'\n",
    "    req = requests.get(url)\n",
    "    html = req.text\n",
    "    soup = BeautifulSoup(html, 'html.parser')\n",
    "    search_result = soup.select_one('.list_news')\n",
    "\n",
    "\n",
    "    news_links = soup.find_all(\"a\", attrs = {\"class\":\"news_tit\"})\n",
    "\n",
    "    for title in news_links:\n",
    "        titles.append(title.get_text())\n",
    "        #a_tag = search_result.select('#news_result_list > li:nth-child(1) > div > a')\n",
    "        \n",
    "        #linsk = soup.select('a[href]')\n",
    "\n",
    "             \n",
    "        url = title.attrs['href']  \n",
    "        #url = title.attrs[ url['href'] for url in soup.find_all('a', attrs={'class':'news_tit'}) ]\n",
    "        \n",
    "        #titles.append(url)\n",
    "        \n",
    "\n",
    "\n",
    "    #import json\n",
    "\n",
    "\n",
    "    #with open(\"data.json\", \"w\", encoding='utf-8') as f: \n",
    "     #   json.dump(titles, f, ensure_ascii=False)    \n",
    "    \n",
    "\n",
    "    news_df = pd.DataFrame({ '기사 제목':titles,'기사주소':url})\n",
    "    \n",
    "    news_df.to_csv(\"news.csv\", encoding='euc-kr')\n",
    "    \n",
    "    \n",
    "print(df)\n",
    "#soup\n",
    "#print(html)"
   ]
  },
  {
   "cell_type": "code",
   "execution_count": 2,
   "id": "43256833",
   "metadata": {},
   "outputs": [
    {
     "name": "stdout",
     "output_type": "stream",
     "text": [
      "{\n",
      "\"lastBuildDate\": \"Wed, 24 Nov 2021 20:14:26 +0900\",\n",
      "\"total\": 687794,\n",
      "\"start\": 1,\n",
      "\"display\": 10,\n",
      "\"items\": [\n",
      "{\n",
      "\"title\": \"대미 수출 비중 ‘17년 만에 최대’… 반도체·이차전지 타고 한국 수출구도도...\",\n",
      "\"originallink\": \"https://hankookilbo.com/News/Read/A2021112409130003734?did=NA\",\n",
      "\"link\": \"https://news.naver.com/main/read.naver?mode=LSD&mid=sec&sid1=101&oid=469&aid=0000643078\",\n",
      "\"description\": \"따른 <b>전기차</b> 배터리 수요로 반도체와 이차전지 등의 대미 수출이 최근 2년간 50%나 급증하면서 수출 비중도 늘었다. 특히 국내 기업들의 중국 현지매출은 2013년 정점(2,502억 달러)을 찍었다가 2019년 1,475억 달러까지... \",\n",
      "\"pubDate\": \"Wed, 24 Nov 2021 20:01:00 +0900\"\n",
      "\n",
      "},\n",
      "{\n",
      "\"title\": \"“<b>전기차</b> 덕에… 車 디자인에도 변화 가능성 열려”\",\n",
      "\"originallink\": \"http://www.segye.com/content/html/2021/11/24/20211124515575.html?OutUrl=naver\",\n",
      "\"link\": \"https://news.naver.com/main/read.naver?mode=LSD&mid=sec&sid1=103&oid=022&aid=0003641340\",\n",
      "\"description\": \"특성” “<b>전기차</b> 덕분에 자동차 디자인에도 변화의 가능성이 열렸다.” 세계적 자동차 디자이너인 피터... 슈라이어 사장은 “<b>전기차</b>나 자율주행 같은 기술은 구동 방식, 내장 디자인 등 차의 운영방식을 크게 바꿀 것”... \",\n",
      "\"pubDate\": \"Wed, 24 Nov 2021 19:58:00 +0900\"\n",
      "\n",
      "},\n",
      "{\n",
      "\"title\": \"대구 스타벤처기업 네트워킹데이…유니콘 육성\",\n",
      "\"originallink\": \"http://www.dkilbo.com/news/articleView.html?idxno=350170\",\n",
      "\"link\": \"http://www.dkilbo.com/news/articleView.html?idxno=350170\",\n",
      "\"description\": \"난치성 신경질환 치료제를 개발하는 ㈜아스트로젠(2020년)도 중소벤처기업부 아기유니콘 선정 및 150억 투자유치를 이끌어 냈고, 모빌리티분야 혁신기업으로 주목받고 있는 ㈜드림에이스는 올해 미국 폭스콘의 <b>전기차</b>... \",\n",
      "\"pubDate\": \"Wed, 24 Nov 2021 19:56:00 +0900\"\n",
      "\n",
      "},\n",
      "{\n",
      "\"title\": \"[산학협력단 브리핑] <b>전기차</b> 전성시대\",\n",
      "\"originallink\": \"http://www.ggilbo.com/news/articleView.html?idxno=881577\",\n",
      "\"link\": \"http://www.ggilbo.com/news/articleView.html?idxno=881577\",\n",
      "\"description\": \"이호근 대덕대 자동차학과 교수 미국 <b>전기차</b> 기업 '리비안'이 테슬라의 대항마로 지난주 화려하게 시장... 리비안은 2009년 설립됐고, 미국에서 인기가 많은 픽업트럭을 <b>전기차</b>로 만드는데 있어서는 가장 경쟁력이 앞선... \",\n",
      "\"pubDate\": \"Wed, 24 Nov 2021 19:54:00 +0900\"\n",
      "\n",
      "},\n",
      "{\n",
      "\"title\": \"폴스타 '프리셉트 콘셉트', 2024년 '폴스타5'로 등장\",\n",
      "\"originallink\": \"http://www.gpkorea.com/news/articleView.html?idxno=80283\",\n",
      "\"link\": \"http://www.gpkorea.com/news/articleView.html?idxno=80283\",\n",
      "\"description\": \"볼보 <b>전기차</b> 브랜드 폴스타는 지난해 새로운 EV 모델로 프리셉트 콘셉트를 선보였으며 지난 23일(현지시간)에는 소셜미디어 계정을 통해 생산 준비가 거의 완료된 시제품 사진을 공개했다. 이미지 속 차량은 패스트백과... \",\n",
      "\"pubDate\": \"Wed, 24 Nov 2021 19:38:00 +0900\"\n",
      "\n",
      "},\n",
      "{\n",
      "\"title\": \"저비용에 파격 인센티브, 배터리업계 `선벨트`로 집결\",\n",
      "\"originallink\": \"http://www.dt.co.kr/contents.html?article_no=2021112502101632033001&ref=naver\",\n",
      "\"link\": \"https://news.naver.com/main/read.naver?mode=LSD&mid=sec&sid1=101&oid=029&aid=0002707883\",\n",
      "\"description\": \"미국에서 생산되는 도요타의 하이브리드차(HEV)는 물론 순수 <b>전기차</b>에 탑재될 배터리를 자체적으로 조달하겠다는 구상으로 보인다. 앞서 도요타는 미국내 <b>전기차</b> 배터리 사업을 위해 총 34억 달러(약 4조원)을... \",\n",
      "\"pubDate\": \"Wed, 24 Nov 2021 19:36:00 +0900\"\n",
      "\n",
      "},\n",
      "{\n",
      "\"title\": \"친환경사업 투자 신한카드, 1000억 `ESG 채권` 발행\",\n",
      "\"originallink\": \"http://www.dt.co.kr/contents.html?article_no=2021112502100963075002&ref=naver\",\n",
      "\"link\": \"https://news.naver.com/main/read.naver?mode=LSD&mid=sec&sid1=101&oid=029&aid=0002707878\",\n",
      "\"description\": \"3년 만기, 2.478% 금리로 발행된 이 채권은 재생에너지, <b>전기차</b>, 고효율 에너지 등 친환경적인 사업분야에 투자할 자금조달을 목적으로 발행한 그린본드다. 조달된 자금은 <b>전기차</b> 등 친환경 차량을 구매하는 고객에게... \",\n",
      "\"pubDate\": \"Wed, 24 Nov 2021 19:34:00 +0900\"\n",
      "\n",
      "},\n",
      "{\n",
      "\"title\": \"“집·자동차 드려요”…오스트리아서 ‘백신 복권’ 출시\",\n",
      "\"originallink\": \"http://www.ichannela.com/news/main/news_detailPage.do?publishId=000000274999\",\n",
      "\"link\": \"https://news.naver.com/main/read.naver?mode=LSD&mid=sec&sid1=104&oid=449&aid=0000218354\",\n",
      "\"description\": \"오스트리아 공영방송은 백신 접종자를 대상으로 단독주택과 <b>전기차</b> 등을 1천 개의 경품을 주는 '백신 복권'을 출시했습니다. [수잔 드라팔릭/ 오스트리아 사마리아인 연합 회장] &quot;이 센터와 빈뿐만 아니라 오스트리아... \",\n",
      "\"pubDate\": \"Wed, 24 Nov 2021 19:32:00 +0900\"\n",
      "\n",
      "},\n",
      "{\n",
      "\"title\": \"고급 <b>전기차</b> '샤이 테크' 열풍…수줍음으로 빚은 럭셔리\",\n",
      "\"originallink\": \"http://www.econovill.com/news/articleView.html?idxno=556704\",\n",
      "\"link\": \"http://www.econovill.com/news/articleView.html?idxno=556704\",\n",
      "\"description\": \" 샤이 테크(shy tech)가 최근 고급 <b>전기차</b> 시장에서 새로운 화두로 떠오르고 있다. 샤이 테크는 평소 이용자... 첨단 기능을 제공하는 동시에 차량의 디자인을 단순화시킴으로써 <b>전기차</b>의 고급감을 강화하는 요소로... \",\n",
      "\"pubDate\": \"Wed, 24 Nov 2021 19:24:00 +0900\"\n",
      "\n",
      "},\n",
      "{\n",
      "\"title\": \"충전 중 SM3 <b>전기차</b>서 불…주민 긴급 대피\",\n",
      "\"originallink\": \"http://mbn.mk.co.kr/pages/news/newsView.php?category=mbn00009&news_seq_no=4645766\",\n",
      "\"link\": \"https://news.naver.com/main/read.naver?mode=LSD&mid=sec&sid1=102&oid=057&aid=0001623718\",\n",
      "\"description\": \"오늘(24일) 오전 8시쯤 충북 충주시 호암동의 한 아파트 지하주차장에 세워진 르노삼성 SM3 Z.E <b>전기차</b>에서 불이 나 1시간 20분 만에 꺼졌습니다. 당시 <b>전기차</b>는 급속 충전기와 연결된 상태로, 불길에 휩싸이자 주차장에... \",\n",
      "\"pubDate\": \"Wed, 24 Nov 2021 19:20:00 +0900\"\n",
      "\n",
      "}\n",
      "]\n",
      "}\n",
      "\n"
     ]
    }
   ],
   "source": [
    "import urllib.request\n",
    "\n",
    "client_id = \"5nrnaEfIpurFYmS5F4WP\"\n",
    "client_secret = \"vR2SYXZNPB\"\n",
    "encText = urllib.parse.quote(\"전기차\") # 검색할 키워드\n",
    "\n",
    "url = \"https://openapi.naver.com/v1/search/news?query=\" + encText # json 결과가 필요할 때 사용\n",
    "# url = \"https://openapi.naver.com/v1/search/news.xml?query=\" + encText # xml 결과가 필요할 때 사용\n",
    "\n",
    "request = urllib.request.Request(url)\n",
    "request.add_header(\"X-Naver-Client-Id\", client_id)\n",
    "request.add_header(\"X-Naver-Client-Secret\", client_secret)\n",
    "response = urllib.request.urlopen(request)\n",
    "rescode = response.getcode()\n",
    "if(rescode == 200):\n",
    "    response_body = response.read()\n",
    "    print(response_body.decode('utf-8'))\n",
    "    \n",
    "else:\n",
    "    print(\"Error Code:\" + rescode)\n",
    "\n",
    "\n",
    "\n"
   ]
  },
  {
   "cell_type": "code",
   "execution_count": null,
   "outputs": [
    {
     "name": "stdout",
     "output_type": "stream",
     "text": [
      " * Serving Flask app \"__main__\" (lazy loading)\r\n",
      " * Environment: production\r\n",
      "   WARNING: This is a development server. Do not use it in a production deployment.\r\n",
      "   Use a production WSGI server instead.\r\n",
      " * Debug mode: off\r\n"
     ]
    },
    {
     "name": "stderr",
     "output_type": "stream",
     "text": [
      " * Running on http://127.0.0.1:5000/ (Press CTRL+C to quit)\n",
      "127.0.0.1 - - [24/Nov/2021 20:01:32] \"\u001B[33mGET / HTTP/1.1\u001B[0m\" 404 -\n",
      "127.0.0.1 - - [24/Nov/2021 20:01:32] \"\u001B[33mGET /favicon.ico HTTP/1.1\u001B[0m\" 404 -\n",
      "127.0.0.1 - - [24/Nov/2021 20:01:35] \"\u001B[37mGET /news HTTP/1.1\u001B[0m\" 200 -\n"
     ]
    }
   ],
   "source": [
    "!pip install flask_cors"
   ],
   "metadata": {
    "collapsed": false,
    "pycharm": {
     "name": "#%%\n"
    }
   }
  },
  {
   "cell_type": "code",
   "execution_count": 1,
   "outputs": [
    {
     "name": "stdout",
     "output_type": "stream",
     "text": [
      "{'lastBuildDate': 'Mon, 29 Nov 2021 17:32:07 +0900', 'total': 690688, 'start': 1, 'display': 100, 'items': [{'title': '현대차-서울시, 2021 자율주행 챌린지...카이스트 우승', 'originallink': 'http://www.businesskorea.co.kr/news/articleView.html?idxno=82466', 'link': 'http://www.businesskorea.co.kr/news/articleView.html?idxno=82466', 'description': '올해는 <b>전기차</b> 기반으로 실제 도심 교통환경에서의 자율주행 기술 연구 활성화를 위해 현대차그룹과... 최초로 <b>전기차</b> 기반 자율주행차를 제작했다. 현대차그룹은 이와 함께 하드웨어 기술을 지원함으로써 차량... ', 'pubDate': 'Mon, 29 Nov 2021 17:30:00 +0900'}, {'title': \"하이브리드차 '친환경차' 범주에서 제외되나\", 'originallink': 'http://www.delighti.co.kr/news/articleView.html?idxno=31574', 'link': 'http://www.delighti.co.kr/news/articleView.html?idxno=31574', 'description': '신정훈 국회의원 신 의원실에 따르면, 현행법은 <b>전기차</b>, 수소차, 하이브리드차를 친환경차로 정의하고 개발... 미국, 중국, 일본 등은 친환경차를 <b>전기차</b>, 수소차, PHEV(플러그인 하이브리드카)까지만 포함하고 있다. 특히... ', 'pubDate': 'Mon, 29 Nov 2021 17:30:00 +0900'}, {'title': 'SK온-한국전기안전공사-SK에코플랜트-KD파워, 친환경 ESS 4자 MOU 체결', 'originallink': 'http://www.onews.tv/news/articleView.html?idxno=100602', 'link': 'http://www.onews.tv/news/articleView.html?idxno=100602', 'description': 'SK온은 폐차된 <b>전기차</b>에서 수거한 배터리로 ㈜케이디파워와\\xa0ESS를 구축하고,\\xa0향후\\xa02년 동안\\xa0SK에코플랜트가 건설중인 경기도 안양 아파트단지 현장 임시동력설비 4자간 협약.사진=SK온©열린뉴스통신 에\\xa0ESS를... ', 'pubDate': 'Mon, 29 Nov 2021 17:30:00 +0900'}, {'title': '현대차, 대전에 <b>전기차</b> 초고속 충전소 E-pit 구축', 'originallink': 'http://www.todaykorea.co.kr/news/articleView.html?idxno=294857', 'link': 'http://www.todaykorea.co.kr/news/articleView.html?idxno=294857', 'description': \"국내 <b>전기차</b> 시장에 대응해 충청 지역 최대 도시인 대전에도 충전 인프라를 구축키로 했다. 현대차그룹은 대전 유성구에 위치한 국립중앙과학관에 <b>전기차</b> 초고속 충전소 'E-pit'를 설치하고 본격적인 운영에 들어간다고... \", 'pubDate': 'Mon, 29 Nov 2021 17:30:00 +0900'}, {'title': 'SK온, 폐차한 <b>전기차</b> 배터리로 ESS 만든다… &quot;친환경 자원선순환 구축&quot;', 'originallink': 'https://www.news2day.co.kr/article/20211129500070', 'link': 'https://www.news2day.co.kr/article/20211129500070', 'description': '[사진=SK온] SK온이 <b>전기차</b>에서 사용한 배터리를 이용해 에너지저장장치(ESS)를 만든다. SK온은 29일... SK온은 폐차된 <b>전기차</b>에서 수거한 배터리로 케이디파워와 ESS를 구축하고, 향후 2년 동안 SK에코플랜트가 건설 중인... ', 'pubDate': 'Mon, 29 Nov 2021 17:30:00 +0900'}, {'title': '다이텍연, ㈜라지와 ‘화재 진압용 질식소화포 개발’', 'originallink': 'http://okfashion.co.kr/detail.php?number=57138&thread=81r46r02', 'link': 'http://okfashion.co.kr/detail.php?number=57138&thread=81r46r02', 'description': '기존 내연기관 자동차 화재의 경우 화재발생시 보통 1135리터의 물이 사용되며, <b>전기차</b>의 경우 내연기관차... 발생한 <b>전기차</b>는 대부분 전소된다.이번에 소개된 질식소화포는 불연성 재질의 대형 천으로 화재 차량 전체를... ', 'pubDate': 'Mon, 29 Nov 2021 17:28:00 +0900'}, {'title': '현대차그룹 대학생 대상 ‘2021 자율주행 챌린지’ 열어, 카이스트 우승', 'originallink': 'https://www.businesspost.co.kr/BP?command=article_view&num=261876', 'link': 'https://www.businesspost.co.kr/BP?command=article_view&num=261876', 'description': '올해는 <b>전기차</b> 기반으로 실제 도심 교통환경에서 자율주행기술 연구 활성화를 위해 현대차그룹과 서울시가... 최초로 <b>전기차</b> 기반 자율주행차를 제작했다. 이날 본선에는 △계명대 △성균관대 △인천대 △인하대... ', 'pubDate': 'Mon, 29 Nov 2021 17:28:00 +0900'}, {'title': '[현장에서]돌발 상황에 급정거 ‘척’…대학생이 만든 니로EV 자율주행차', 'originallink': 'http://www.newsway.co.kr/news/view?tp=1&ud=2021112917224653678', 'link': 'http://www.newsway.co.kr/news/view?tp=1&ud=2021112917224653678', 'description': '<b>전기차</b>를 기반으로 자율주행차를 제작한 것도 이번이 처음이다. 현대차그룹은 참가팀에 기아 니로EV 등... 현대차그룹 관계자는 “이번 대회는 무엇보다 국내 최초 <b>전기차</b> 기반으로 실제 도심 교통환경에서 여러 대의... ', 'pubDate': 'Mon, 29 Nov 2021 17:26:00 +0900'}, {'title': '[중후장대 소식] 현대로템‧SK온‧SK케미칼', 'originallink': 'https://www.asiatime.co.kr/article/20211129500308', 'link': 'https://www.asiatime.co.kr/article/20211129500308', 'description': '함께 <b>전기차</b>에서 사용한 배터리를 통해 친환경 ESS를 구축한다. 또한 SK케미칼은 인공지능(AI) 기반 신약... SK온, <b>전기차</b>가 사용한 배터리로 ‘친환경 ESS’ 구축 한국전기안전공사 김한상 신재생안전처장(왼쪽부터)... ', 'pubDate': 'Mon, 29 Nov 2021 17:26:00 +0900'}, {'title': \"현대차 대형 전기 SUV '아이오닉 7'에 LG 냉장고·스타일러 설치될 듯\", 'originallink': 'https://www.news2day.co.kr/article/20211129500066', 'link': 'https://www.news2day.co.kr/article/20211129500066', 'description': \"업계선 &quot;LG전자, 현대차의 <b>전기차</b> 내부 인테리어 전략에 힘 보탤 것&quot; 전망 현대자동차 콘셉트카 '세븐' [사진... <b>전기차</b>에 힘을 쏟고 있는 현대차와 전장 부품에 강점이 있는 LG전자의 협업이 본격화하고 있다는 평가가... \", 'pubDate': 'Mon, 29 Nov 2021 17:24:00 +0900'}, {'title': \"현대차가 서울 도심서 연 '자율주행 챌린지' 우승은 '카이스트'\", 'originallink': 'http://www.getnews.co.kr/news/articleView.html?idxno=561929', 'link': 'http://www.getnews.co.kr/news/articleView.html?idxno=561929', 'description': '올해는 <b>전기차</b> 기반으로 실제 도심 교통환경에서의 자율주행 기술 연구 활성화를 위해 현대차그룹과 서울시가 공동으로 개최했다. 이번 대푀 우승팀 상금 1억원과 북미 견학의 기회가 주어지며, 준우승팀은 상금... ', 'pubDate': 'Mon, 29 Nov 2021 17:24:00 +0900'}, {'title': '‘세 번째 챔피언 타이틀 노린다!’ DS 테치타, 포뮬러 E 2021/22시즌 출전 발...', 'originallink': 'https://www.motortrendkorea.com/sub/view.html?no=6195&cate1Name=NEWS', 'link': 'https://www.motortrendkorea.com/sub/view.html?no=6195&cate1Name=NEWS', 'description': 'DS 오토모빌 <b>전기차</b> 레이싱팀 ‘DS 테치타(DS Techeetah)’가 온라인을 통해 미디어 발표회를 진행했다.... 14일 대한민국 서울에서 피날레를 맞이할 예정이다. DS, DS오토모빌, 포뮬러E, 레이싱, 모터스포츠, <b>전기차</b>', 'pubDate': 'Mon, 29 Nov 2021 17:24:00 +0900'}, {'title': \"'2차전지소재 공략' 민경준 포스코케미칼 사장, 4년차 장수 CEO 되나\", 'originallink': 'http://www.newspim.com/news/view/20211129000842', 'link': 'http://www.newspim.com/news/view/20211129000842', 'description': '앞으로 <b>전기차</b> 시장 성장에 따라 2차 전지시장이 급성장할 것으로 전망된다. 포스코케미칼을 소재 회사로 키우고 있는 민 사장의 연임 가능성에 무게가 실리고 있다. 포스코케미칼은 2023년까지 양극재 12만톤, 음극재... ', 'pubDate': 'Mon, 29 Nov 2021 17:23:00 +0900'}, {'title': \"&quot;유료방송-PP 간 갈등 해결책 나왔다&quot; 과기부·방통위, '선계약-후공급' 원칙...\", 'originallink': 'https://www.techm.kr/news/articleView.html?idxno=91505', 'link': 'https://www.techm.kr/news/articleView.html?idxno=91505', 'description': '서장원 CJ ENM 전략지원실장은 &quot;시청자, 소비자들을 위한 콘텐츠 투자를 많이 하려고 하지만 제작비 회수율은 1/3 밖에 안된다&quot;며 &quot;미디어 콘텐츠가 반도체나 <b>전기차</b> 같은 성장 산업처럼 키울 수 있는 전략이 준비돼 있는지... ', 'pubDate': 'Mon, 29 Nov 2021 17:22:00 +0900'}, {'title': \"&quot;GPS 과감히 뺐더니&quot;…KAIST 학생들 '자율주행 챌린지' 1위\", 'originallink': 'https://www.hankyung.com/economy/article/202111291999g', 'link': 'https://news.naver.com/main/read.naver?mode=LSD&mid=sec&sid1=101&oid=015&aid=0004634265', 'description': '올해는 <b>전기차</b> 기반으로 실제 도심 교통환경에서의 자율주행 기술 연구 활성화를 위해 현대차그룹과... 지난 대회까지 내연기관차를 활용한 것과 달리 이번 대회에선 기아 <b>전기차</b> 니로가 자율주행차 제작의 기반이... ', 'pubDate': 'Mon, 29 Nov 2021 17:21:00 +0900'}, {'title': 'SK온, 한국전기안전공사 등과 재사용배터리 ESS 구축 4자 협약 체결', 'originallink': 'http://www.ftoday.co.kr/news/articleView.html?idxno=228399', 'link': 'http://www.ftoday.co.kr/news/articleView.html?idxno=228399', 'description': \"사진=SK온 SK온이 <b>전기차</b>에서 사용한 배터리를 이용해 '친환경 ESS'를 만들기로 했다. 이를 위해 SK온은... SK온은 폐차된 <b>전기차</b>에서 수거한 배터리로 케이디파워와 ESS를 구축하고, 향후 2년 동안 SK에코플랜트가... \", 'pubDate': 'Mon, 29 Nov 2021 17:18:00 +0900'}, {'title': '<b>전기차</b> 탄 원정개미… 美 테슬라, 中 이차전지에 베팅', 'originallink': 'http://www.fnnews.com/news/202111291719082761', 'link': 'https://news.naver.com/main/read.naver?mode=LSD&mid=sec&sid1=101&oid=014&aid=0004747241', 'description': \"테슬라, 리비안 오토모티브, 루시드그룹 등 <b>전기차</b> 테마주를 향한 국내투자자들의 직접 투자 수요가 늘고 있다. 아시아 증시에선 이차전지 등 <b>전기차</b> 소재·부품주로 투자가 몰리는 가운데 일부 신생 기업은 '거품... \", 'pubDate': 'Mon, 29 Nov 2021 17:18:00 +0900'}, {'title': '&quot;대학생이 만든 자율주행차, 서울 달렸다&quot;…현대차 경진대회(종합)', 'originallink': 'https://www.news1.kr/articles/?4507566', 'link': 'https://news.naver.com/main/read.naver?mode=LSD&mid=sec&sid1=103&oid=421&aid=0005753732', 'description': '올해는 <b>전기차</b> 기반으로 실제 도심 교통환경에서의 자율주행 기술 연구 활성화를 위해 현대차그룹과... 현대차그룹 관계자는 &quot;이번 대회는 국내 최초로 <b>전기차</b> 기반으로 실제 도심 교통환경에서 여러 대의 자율주행... ', 'pubDate': 'Mon, 29 Nov 2021 17:17:00 +0900'}, {'title': '현대모비스, 모빌리티 소프트웨어 기업 전략으로 글로벌 시장 공략', 'originallink': 'https://www.khan.co.kr/economy/auto/article/202111291715001', 'link': 'https://news.naver.com/main/read.naver?mode=LSD&mid=sec&sid1=103&oid=032&aid=0003113169', 'description': '제품으로 <b>전기차</b> 시장을 선점하겠다는 의미다. 완성차 업체들은 이를 기반으로 다양한 미래형 <b>전기차</b> PBV(목적기반차량)을 개발할 수 있다. 이러한 전략은 현대모비스가 현재 <b>전기차</b>, 하이브리드차, 수소<b>전기차</b> 등 모든... ', 'pubDate': 'Mon, 29 Nov 2021 17:16:00 +0900'}, {'title': \"[기자수첩] 미래차로 갈아타는 자동차 회사들 '개발자 급구'\", 'originallink': 'http://www.fntimes.com/html/view.php?ud=202111291709131227de3572ddd_18', 'link': 'http://www.fntimes.com/html/view.php?ud=202111291709131227de3572ddd_18', 'description': \"하드웨어 측면에서는 다수 시장조사기관들이 머지않은 미래에 <b>전기차</b>가 도로를 장악할 것이라고 예상한다.... 하드웨어는 <b>전기차</b> 전용플랫폼 '얼티엄'이 중심이다. 얼티엄에 탑재되는 배터리는 LG에너지솔루션과... \", 'pubDate': 'Mon, 29 Nov 2021 17:16:00 +0900'}, {'title': \"'<b>전기차</b> 후발주자' 닛산, 2조엔 쏟아붓는다\", 'originallink': 'https://www.hankyung.com/international/article/2021112925071', 'link': 'https://news.naver.com/main/read.naver?mode=LSD&mid=sec&sid1=104&oid=015&aid=0004634254', 'description': '세계 자동차 시장의 주류로 떠오른 <b>전기차</b> 시장에서 뒤처진 일본 자동차 회사들이 자금력을 무기로 테슬라 등 선두업체 따라잡기에 나섰다는 분석이 나온다. 닛산은 2026년까지 <b>전기차</b>와 관련 기술 개발에 2조엔을... ', 'pubDate': 'Mon, 29 Nov 2021 17:16:00 +0900'}, {'title': '[카드News] BC카드·삼성카드', 'originallink': 'http://www.metroseoul.co.kr/article/20211129500418', 'link': 'http://www.metroseoul.co.kr/article/20211129500418', 'description': \"/삼성카드 ◆삼성카드, <b>전기차</b> 고객 대상 '삼성 iD EV 카드' 출시 삼성카드가 <b>전기차</b> 운전자 취향에 맞춘 혜택을 담은 '삼성 iD EV 카드'를 출시했다. 이 상품은 전월 이용금액에 따라 <b>전기차</b> 충전 요금을 최대 70%까지... \", 'pubDate': 'Mon, 29 Nov 2021 17:14:00 +0900'}, {'title': \"현대차그룹, 서울시와 대학생 대상 '2021 자율주행 챌린지' 개최\", 'originallink': 'http://www.4th.kr/news/articleView.html?idxno=2009394', 'link': 'http://www.4th.kr/news/articleView.html?idxno=2009394', 'description': '올해는 <b>전기차</b> 기반으로 실제 도심 교통환경에서의 자율주행 기술 연구 활성화를 위해 현대차그룹과... 최초로 <b>전기차</b> 기반 자율주행차를 제작했다. 현대차그룹은 이와 함께 하드웨어 기술을 지원함으로써 차량... ', 'pubDate': 'Mon, 29 Nov 2021 17:14:00 +0900'}, {'title': '탄소중립 우등생?…노르웨이, 원유·가스 생산 늘렸다', 'originallink': 'https://www.hankyung.com/international/article/2021112925081', 'link': 'https://news.naver.com/main/read.naver?mode=LSD&mid=sec&sid1=104&oid=015&aid=0004634251', 'description': '노르웨이는 지난해 전기자동차 판매 비중이 54.3%에 달할 정도로 세계에서 <b>전기차</b> 판매 비율이 가장 높은 나라다. 글로벌 회계·컨설팅업체 KPMG의 ‘탄소중립 준비 지수’에서 1위 국가로 선정되기도 했다. 노르웨이는... ', 'pubDate': 'Mon, 29 Nov 2021 17:14:00 +0900'}, {'title': '[시선집중 현장] <b>전기차</b>에 의한 <b>전기차</b>를 위한 서울모빌리티쇼', 'originallink': 'http://www.updownnews.co.kr/news/articleView.html?idxno=237234', 'link': 'http://www.updownnews.co.kr/news/articleView.html?idxno=237234', 'description': '국내 완성차 브랜드의 선두주자인 현대자동차‧기아는 나란히 주력 <b>전기차</b>를 선보였으며, 특히 세계 최초로 공개한 기아의 니로가 큰 이목을 끌었다. 현대차의 고급 브랜드 제네시스의 경우 전시장 전체를 <b>전기차</b>로... ', 'pubDate': 'Mon, 29 Nov 2021 17:14:00 +0900'}, {'title': \"새만금 개발 '활기'…재생에너지 스마트산단·수변도시 조성\", 'originallink': 'https://www.hankyung.com/realestate/article/2021112923591', 'link': 'https://news.naver.com/main/read.naver?mode=LSD&mid=sec&sid1=101&oid=015&aid=0004634240', 'description': '1·2공구에는 <b>전기차</b> 등 모빌리티와 재생에너지 기업 중심으로 입주가 진행되고 있다. 내년 말부터 입주... 군산형 일자리 사업에는 에디슨모터스, 대창기업 등이 참여해 <b>전기차</b> 클러스터를 조성하게 된다.... ', 'pubDate': 'Mon, 29 Nov 2021 17:12:00 +0900'}, {'title': '<b>전기차</b> 폐배터리를 ESS로 쓴다', 'originallink': 'https://www.hankyung.com/economy/article/2021112924361', 'link': 'https://news.naver.com/main/read.naver?mode=LSD&mid=sec&sid1=101&oid=015&aid=0004634242', 'description': 'SK온이 <b>전기차</b>에서 사용한 폐배터리를 수거해 건설현장의 친환경 에너지저장장치(ESS)로 재사용하기로... 협약에 따라 SK온은 <b>전기차</b>에서 배터리를 수거해 케이디파워와 ESS를 구축한다. SK에코플랜트의 경기 안양... ', 'pubDate': 'Mon, 29 Nov 2021 17:12:00 +0900'}, {'title': \"성장세 꺾인 소형 SUV···'니로·XM3'가 부활 이끌까\", 'originallink': 'http://www.sisajournal-e.com/news/articleView.html?idxno=244381', 'link': 'http://www.sisajournal-e.com/news/articleView.html?idxno=244381', 'description': '기아는 내년 1분기에 하이브리드 모델을 출시하고, 상반기 내 <b>전기차</b>를 출시할 계획이다. 니로는 2017년부터 2020년까지 4년 연속 내수 시장에서 2만대 이상을 판매했으며, 해외 수출 주력 모델이다. 지난해 니로는... ', 'pubDate': 'Mon, 29 Nov 2021 17:12:00 +0900'}, {'title': '대학생이 만든 자율주행 <b>전기차</b>에 현대차·서울시 3억 쏜다', 'originallink': 'http://news.mt.co.kr/mtview.php?no=2021112915370168549', 'link': 'https://news.naver.com/main/read.naver?mode=LSD&mid=sec&sid1=101&oid=008&aid=0004676654', 'description': '미래 자동차 기술을 이끌 대학생들이 직접 제작한 <b>전기차</b> 기반 자율주행차가 실제 교통운행 환경을 갖춘... 올해는 <b>전기차</b> 기반으로 실제 도심 교통환경에서 자율주행 기술 연구를 활성화를 위해 현대차그룹과... ', 'pubDate': 'Mon, 29 Nov 2021 17:11:00 +0900'}, {'title': '[현장] &quot;대학생들이 직접 제작&quot; 서울 상암동 누비는 자율주행차들', 'originallink': 'http://www.newsprime.co.kr/news/article.html?no=556864', 'link': 'http://www.newsprime.co.kr/news/article.html?no=556864', 'description': '올해는 <b>전기차</b> 기반으로 실제 도심 교통환경에서의 자율주행 기술 연구 활성화를 위해 현대차그룹과... 지난 행사와는 다르게 이번 참가팀에게는 현대자동차(005380) 니로 EV를 이용해 최초 <b>전기차</b> 기반 자율주행차를... ', 'pubDate': 'Mon, 29 Nov 2021 17:10:00 +0900'}, {'title': 'KAIST, 2021 자율주행 챌린지 우승..GPS 없이 1위 차지한 비결은?', 'originallink': 'http://www.dailycar.co.kr/content/news.html?type=view&autoId=41811', 'link': 'http://www.dailycar.co.kr/content/news.html?type=view&autoId=41811', 'description': '현대차그룹은 올해 도심 구간에서 진행된 자율주행 챌린지 진행을 위해, 각 대학에 니로 EV <b>전기차</b>를 제공했다. 대회 역사 상 <b>전기차</b>를 기반으로 한 현대차그룹 주도 자율주행차 대회가 열린 것은 올해가 처음이다.... ', 'pubDate': 'Mon, 29 Nov 2021 17:10:00 +0900'}, {'title': \"삼성카드, 'iD EV 카드' 출시\", 'originallink': 'http://www.shinailbo.co.kr/news/articleView.html?idxno=1487856', 'link': 'http://www.shinailbo.co.kr/news/articleView.html?idxno=1487856', 'description': \"삼성카드가 <b>전기차</b> 오너 취향에 맞춘 혜택을 담은 '삼성 iD EV 카드'를 29일 선보였다. 삼성 iD EV 카드는 전월 이용금액에 따라 다양한 혜택을 제공한다. 먼저 <b>전기차</b> 충전요금 최대 70% 할인을 월 최대 3만원까지... \", 'pubDate': 'Mon, 29 Nov 2021 17:06:00 +0900'}, {'title': \"쑥쑥 크는 랩어카운트 시장 150조 '육박'\", 'originallink': 'https://www.hankyung.com/finance/article/2021112924111', 'link': 'https://news.naver.com/main/read.naver?mode=LSD&mid=sec&sid1=101&oid=015&aid=0004634220', 'description': '김륜태 신영증권 수석운용역은 “테슬라는 <b>전기차</b> 생태계가 커진다면 빠른 성장이 기대되는 기업이긴 했지만 당시만 해도 외국계 투자은행에서는 순수 <b>전기차</b> 시대가 도래하려면 아주 오래 걸릴 것으로 보고 외면하는... ', 'pubDate': 'Mon, 29 Nov 2021 17:06:00 +0900'}, {'title': \"[핫클립] 테슬라 모델Y의 천적 피스커 '오션' 나왔다\", 'originallink': 'http://www.inews24.com/view/1427463', 'link': 'https://news.naver.com/main/read.naver?mode=LSD&mid=sec&sid1=105&oid=031&aid=0000639302', 'description': '전설적인 자동차 디자이너 헨릭 피스커가 설립한 <b>전기차</b> 제조사 피스커는 미국 LA 모터쇼에서 럭셔리 SUV... 피스커의 <b>전기차</b>의 주행거리가 테슬라 모델Y보다 긴 것은 배터리 기술을 차별화했기 때문으로 보인다.... ', 'pubDate': 'Mon, 29 Nov 2021 17:06:00 +0900'}, {'title': \"서울시내서 펴쳐진 자율주행차 레이스…카이스트 '우승'\", 'originallink': 'http://www.mediapen.com/news/view/682106', 'link': 'http://www.mediapen.com/news/view/682106', 'description': '올해는 <b>전기차</b> 기반으로 실제 도심 교통환경에서의 자율주행 기술 연구 활성화를 위해 현대차그룹과... 최초로 <b>전기차</b> 기반 자율주행차를 제작했다. 현대차그룹은 이와 함께 하드웨어 기술을 지원함으로써 차량... ', 'pubDate': 'Mon, 29 Nov 2021 17:04:00 +0900'}, {'title': \"한국<b>전기차</b>사용자협회, 'EV 에코캠프' 성료\", 'originallink': 'http://www.etnews.com/20211129000241', 'link': 'https://news.naver.com/main/read.naver?mode=LSD&mid=sec&sid1=103&oid=030&aid=0002984794', 'description': \"사단법인 한국<b>전기차</b>사용자협회(이하 협회)가 '<b>전기차</b> 사용자와 함께 하는 EV 에코캠프'를 개최했다. 협회는 지난 26일부터 28일까지 경상북도 상주시 상주보 오토캠핑장에서 2박3일간 행사를 진행했다고 29일 밝혔다.... \", 'pubDate': 'Mon, 29 Nov 2021 17:04:00 +0900'}, {'title': '피에히 EV 스포츠카, 포르쉐 타이칸 가격 넘었다 `2억5000만원`', 'originallink': 'http://www.gpkorea.com/news/articleView.html?idxno=80449', 'link': 'http://www.gpkorea.com/news/articleView.html?idxno=80449', 'description': '피에히 오토모티브는 포르쉐 설립자 페르디난드 포르쉐의 증손자 토니 피에히와 산업 디자이너 리 스타크가 공동 설립한 <b>전기차</b> 스타트업으로 지난 10월, 2인승 전기 스포츠카 피에히 GT를 공개하며 큰 관심을... ', 'pubDate': 'Mon, 29 Nov 2021 17:02:00 +0900'}, {'title': \"'포뮬러E 최강' DS 테치타, 3번째 더블 챔피언 도전할 새 디자인\", 'originallink': 'http://www.gpkorea.com/news/articleView.html?idxno=80435', 'link': 'http://www.gpkorea.com/news/articleView.html?idxno=80435', 'description': \"DS E-텐스 FE21 DS 오토모빌(이하 DS)의 <b>전기차</b> 레이싱 팀 'DS 테치타(DS Techeetah)'가 26일(금, 프랑스 현지 시각)... 우리는 포뮬러 E에서 갈고 닦은 <b>전기차</b> 기술과 노하우를 양산 모델에 꾸준히 적용해 나갈 계획이다&quot;고... \", 'pubDate': 'Mon, 29 Nov 2021 17:02:00 +0900'}, {'title': \"삼성카드, <b>전기차</b> 오너 취향에 맞춘 '삼성 iD EV 카드' 출시\", 'originallink': 'http://www.dailyimpact.co.kr/news/articleView.html?idxno=73437', 'link': 'http://www.dailyimpact.co.kr/news/articleView.html?idxno=73437', 'description': \"삼성카드 \\xa0삼성카드는 '삼성 iD 카드'의 후속작으로 <b>전기차</b> 오너의 취향에 맞춘 혜택을 담은 '삼성 iD EV 카드'를 선보였다고 29일 밝혔다. 이 카드는 전월 이용금액이 30만원 이상일 경우 <b>전기차</b> 충전요금 50% 결제일... \", 'pubDate': 'Mon, 29 Nov 2021 17:02:00 +0900'}, {'title': '[단독]&quot;캐스퍼, 가장 애정가는 차&quot;…현대차 고정관념 깬 남자', 'originallink': 'https://www.joongang.co.kr/article/25027842', 'link': 'https://news.naver.com/main/read.naver?mode=LSD&mid=sec&sid1=101&oid=025&aid=0003154651', 'description': '아이오닉의 <b>전기차</b>라는 것을 알 수 있다. 체스 말들이 ‘폰-나이트-비숍-룩-킹-퀸’으로 구성된 것처럼 ‘현대 룩’이라는 정체성으로 체스 판을 완성할 것이다. <b>전기차</b> 디자인, 삶의 공간화에 초점 Q : <b>전기차</b> 시대가... ', 'pubDate': 'Mon, 29 Nov 2021 17:02:00 +0900'}, {'title': '日 닛산, 향후 5년간 <b>전기차</b> 개발에 21조원 투입', 'originallink': 'https://biz.chosun.com/international/international_economy/2021/11/29/YW5GLOQFTJCGPKK66A7UCS6NHQ/?utm_source=naver&utm_medium=original&utm_campaign=biz', 'link': 'https://news.naver.com/main/read.naver?mode=LSD&mid=sec&sid1=104&oid=366&aid=0000776990', 'description': '자동차가 <b>전기차</b> 개발을 위한 집중 투자에 나섰다고 블룸버그 통신과 로이터 통신 등 주요 외신이 29일 보도했다. 여기에 대해서는 그동안 미국과 유럽에 비해 소극적이었던 일본 자동차 업계가 본격적으로 <b>전기차</b>... ', 'pubDate': 'Mon, 29 Nov 2021 17:01:00 +0900'}, {'title': '제주에너지공사, ‘2021년 한국에너지 대상’ 정부 표창 수상', 'originallink': 'http://www.electimes.com/article.php?aid=1638172316225874010', 'link': 'http://www.electimes.com/article.php?aid=1638172316225874010', 'description': '또한 <b>전기차</b> 개방형 충전기, 교통약자 맞춤형 <b>전기차</b> 충전인프라 등 총 542기의 <b>전기차</b> 충전 인프라도 구축했다. 이러한 노력으로 현재 정부의 재생에너지 목표(20%) 대비 제주는 이미 17%를 달성했다. 또한, 도내 <b>전기차</b>... ', 'pubDate': 'Mon, 29 Nov 2021 17:00:00 +0900'}, {'title': '[11/29 중국증시종합] 혼조 마감, 오미크론 확산에 코로나 진단株↑', 'originallink': 'http://www.newspim.com/news/view/20211129000994', 'link': 'http://www.newspim.com/news/view/20211129000994', 'description': '횡점동자(002056) 등 10개 종목이 줄줄이 상한가를 기록한 리튬배터리 섹터는 <b>전기차</b> 배터리 대장주 닝더스다이(300750)가 오전 장중 684.5위안으로 신고가를 기록하며 해당 섹터 강세를 견인했다. 오후 들어... ', 'pubDate': 'Mon, 29 Nov 2021 17:00:00 +0900'}, {'title': 'SK온, <b>전기차</b> 사용 배터리로 ‘친환경 ESS’ 구축', 'originallink': 'http://www.dizzotv.com/site/data/html_dir/2021/11/29/2021112980179.html', 'link': 'http://www.dizzotv.com/site/data/html_dir/2021/11/29/2021112980179.html', 'description': 'SK온이 <b>전기차</b>에서 사용한 배터리를 이용해 ‘친환경 ESS’를 만들기로 했다. SK온은 한국전기안전공사... SK온은 폐차된 <b>전기차</b>에서 수거한 배터리로 케이디파워와 ESS를 구축하고, 향후 2년 동안 SK에코플랜트가... ', 'pubDate': 'Mon, 29 Nov 2021 17:00:00 +0900'}, {'title': '현대차그룹, 국립중앙과학관에 <b>전기차</b> 초고속 충전소 설치·운영', 'originallink': 'http://www.hg-times.com/news/articleView.html?idxno=235606', 'link': 'http://www.hg-times.com/news/articleView.html?idxno=235606', 'description': \"현대자동차그룹은 대전광역시 유성구에 있는 국립중앙과학관에 <b>전기차</b> 초고속 충전소 'E-pit (이피트)'를... 도심형 <b>전기차</b> 초고속 충전소다. 이번 충전소는 올해 2월 공공기관 소유 유휴부지 중 일부에 민간기업이... \", 'pubDate': 'Mon, 29 Nov 2021 16:58:00 +0900'}, {'title': '현대차그룹, 서울시와 손잡고 대학생 경진대최 개최', 'originallink': 'http://www.gpkorea.com/news/articleView.html?idxno=80447', 'link': 'http://www.gpkorea.com/news/articleView.html?idxno=80447', 'description': '올해는 <b>전기차</b> 기반으로 실제 도심 교통환경에서의 자율주행 기술 연구 활성화를 위해 현대차그룹과... 현대차그룹 관계자는 &quot;이번 대회는 국내 최초로 <b>전기차</b> 기반으로 실제 도심 교통환경에서 여러 대의 자율주행... ', 'pubDate': 'Mon, 29 Nov 2021 16:58:00 +0900'}, {'title': '“이젠 창의력의 영역”..자동차 업계, 반도체 부족 대응전략 살펴보니', 'originallink': 'http://www.dailycar.co.kr/content/news.html?type=view&autoId=41810', 'link': 'http://www.dailycar.co.kr/content/news.html?type=view&autoId=41810', 'description': '하지만 <b>전기차</b>나 고급 세단 등 반도체가 많이 필요한 차량에선 한계가 있다는 게 중론이다. 실제 폭스바겐은 최근 독일 츠비카우 공장의 가동을 일시중단했다. 임시방편으론 더 이상 반도체 부족에 대응하기... ', 'pubDate': 'Mon, 29 Nov 2021 16:58:00 +0900'}, {'title': '닛산, 차량 전기화에 총력…5년간 21조원 투입', 'originallink': 'http://www.delighti.co.kr/news/articleView.html?idxno=31570', 'link': 'http://www.delighti.co.kr/news/articleView.html?idxno=31570', 'description': '\\xa0일본 닛산자동차가 탄소 배출 억제 추세로 <b>전기차</b>(EV) 및 하이브리드 차량의 수요가 급증할 것으로 예상된다며 향후 5년간 2조엔(약 21조 원)을 투입, 차량 전기화를 가속화할 계획이라고 29일 발표했다. 도쿄발 외신... ', 'pubDate': 'Mon, 29 Nov 2021 16:54:00 +0900'}, {'title': '‘학생 중심 대학운영’…조선대 민영돈 총장', 'originallink': 'http://news.kmib.co.kr/article/view.asp?arcid=0016517747&code=61121111&cp=nv', 'link': 'https://news.naver.com/main/read.naver?mode=LSD&mid=sec&sid1=102&oid=005&aid=0001487671', 'description': '교내는 물론 교외에서도 <b>전기차</b>를 활용한 자율주행 시험차를 운영해 학생들의 역량 강화에 힘쓰는 등 인공지능 연구 개발에 동참하고 있다. 메타버스 플랫폼을 활용한 IT 페스티벌과 캡스톤 디자인 발표대회, 아이디어... ', 'pubDate': 'Mon, 29 Nov 2021 16:52:00 +0900'}, {'title': \"춘천시, 최초로 '공공 이불 빨래방' 만든다\", 'originallink': 'http://www.weeklytoday.com/news/articleView.html?idxno=431600', 'link': 'http://www.weeklytoday.com/news/articleView.html?idxno=431600', 'description': '위치는 구 신동사무소가 될 예정이며 대형세탁기와 건조기 각 3세트, <b>전기차</b> 1대, 경유차 1대로 운영된다.\\xa0이르면 내년 5월 공간조성과 장비설치를 마무리하고 같은 해 8월 문을 열 예정이다.', 'pubDate': 'Mon, 29 Nov 2021 16:50:00 +0900'}, {'title': '국립중앙과학관, 초고속 <b>전기차</b> 충전소 개소', 'originallink': 'http://www.ggilbo.com/news/articleView.html?idxno=882295', 'link': 'http://www.ggilbo.com/news/articleView.html?idxno=882295', 'description': '초고속 <b>전기차</b> 충전소 사진. 국립중앙과학관 제공초고속 <b>전기차</b> 충전소 사진. 국립중앙과학관 제공 국립중앙과학관은 29일부터 <b>전기차</b>를 보유한 관람객과 시민들의 충전 편의를 제공하고자 부설주차장 내에 초고속... ', 'pubDate': 'Mon, 29 Nov 2021 16:48:00 +0900'}, {'title': \"대유플러스, GS건설 공동 개발 '갱폼용 탄소나노튜브 발열시트' 상용화 적용\", 'originallink': 'http://www.thefirstmedia.net/news/articleView.html?idxno=84971', 'link': 'http://www.thefirstmedia.net/news/articleView.html?idxno=84971', 'description': '한편, 대유플러스는 이번 탄소나노튜브 면상발열체 기술을 친환경에너지 연계형 난방 시스템으로 확장할 계획이며, 나아가 대유위니아그룹의 타 사업영역과 연계해 가전제품과 차량용 시트, <b>전기차</b> 난방시스템 등에도... ', 'pubDate': 'Mon, 29 Nov 2021 16:48:00 +0900'}, {'title': '인도네시아 지역산업발전회의(RCID) 2021 참관기', 'originallink': 'http://news.kotra.or.kr/user/extra/kotranews/bbs/linkView/jsp/Page.do?dataIdx=191986', 'link': 'http://news.kotra.or.kr/user/extra/kotranews/bbs/linkView/jsp/Page.do?dataIdx=191986', 'description': '인도네시아 정부도 세계적인 그린 경제로의 전환 흐림에 발맞춰 대규모 신재생에너지 정책지원 발표, 2050년까지 <b>전기차</b>만 판매허용, 2056년까지 화력발전소 전체 폐쇄 등 친환경 경제구조를 갖추기 위해 노력... ', 'pubDate': 'Mon, 29 Nov 2021 16:46:00 +0900'}, {'title': '테슬라, 中공장에 2242억원 투자…4000명 추가 채용', 'originallink': 'http://www.newsis.com/view/?id=NISX20211129_0001668717&cID=10101&pID=10100', 'link': 'https://news.naver.com/main/read.naver?mode=LSD&mid=sec&sid1=104&oid=003&aid=0010860415', 'description': '기사내용 요약생산라인 개선 프로젝트…10% 증산 가능성 미국 <b>전기차</b> 회사 테슬라가 중국 상하이 공장의... 테슬라의 유일한 중국 내 생산 시설인 상하이 공장은 연간 최대 50만대의 <b>전기차</b>를 생산할 수 있도록... ', 'pubDate': 'Mon, 29 Nov 2021 16:44:00 +0900'}, {'title': '전문가들 “방송채널 선계약 후공급 동의... 중소PP 보호 방안 마련해야”', 'originallink': 'https://biz.newdaily.co.kr/site/data/html/2021/11/29/2021112900158.html', 'link': 'https://biz.newdaily.co.kr/site/data/html/2021/11/29/2021112900158.html', 'description': '반도체나 <b>전기차</b> 같은 성장 산업처럼 미래성장산업을 키울 수 있는 전략이 준비돼 있는지 확인해야 한다”며 “한국의 유료방송 산업이 성장하려면 무슨 일을 할지 결정해야 할 시기다. 타이밍을 놓치면 5~10년 뒤 추락한... ', 'pubDate': 'Mon, 29 Nov 2021 16:44:00 +0900'}, {'title': '“마차 넘어 ‘마구간’ 경쟁”…<b>전기차</b> 충전소 짓는 자동차 회사들', 'originallink': 'https://www.seoul.co.kr/news/newsView.php?id=20211129500192&wlog_tag3=naver', 'link': 'https://news.naver.com/main/read.naver?mode=LSD&mid=sec&sid1=101&oid=081&aid=0003233711', 'description': '‘마차 만드는 사람들이 마구간도 많이 짓겠다고 싸움하는 격.’ <b>전기차</b> 대전환을 맞은 자동차 회사들이 <b>전기차</b>를 넘어 ‘충전소 설치’로 경쟁하고 있다. <b>전기차</b>의 가장 큰 약점으로 꼽히는 짧은 주행거리와 부족한... ', 'pubDate': 'Mon, 29 Nov 2021 16:42:00 +0900'}, {'title': '[인터뷰] 오세현 아산시장 &quot;50만 자족도시 밑그림 완성 위해 달릴 것&quot;', 'originallink': 'https://www.asiatoday.co.kr/view.php?key=20211115010009089', 'link': 'https://www.asiatoday.co.kr/view.php?key=20211115010009089', 'description': '현대모비스의 400억원 투자 결정 등 <b>전기차</b> 배터리 시스템 부품 생산 관련 신규투자가 이어지고 있다. 또 과학기술정보통신부로부터 ‘충남천안아산 강소연구 개발특구’로 지정받으면서 KTX천안아산역 인근에 차세대... ', 'pubDate': 'Mon, 29 Nov 2021 16:34:00 +0900'}, {'title': '아우디, e-모빌리티 전환 가속화 전략 발표… “미래 이동성에 대한 장기적 비...', 'originallink': 'http://moneys.mt.co.kr/news/mwView.php?no=2021112916318048710', 'link': 'https://news.naver.com/main/read.naver?mode=LSD&mid=sec&sid1=103&oid=417&aid=0000759361', 'description': '2026년부터 글로벌 시장에 출시하는 모든 신차를 전기 모델만 출시 예고 아우디가 순수 <b>전기차</b>를 필두로... ‘2021 오토 상하이’를 통해 ‘A6 e-트론 콘셉트카’를 세계 최초로 공개하며 <b>전기차</b> 시장에서 제품 범위를... ', 'pubDate': 'Mon, 29 Nov 2021 16:34:00 +0900'}, {'title': '겨울철 자동차 동상 예방법 소개···경유차는 DPF 관리', 'originallink': 'http://www.mhns.co.kr/news/articleView.html?idxno=516750', 'link': 'http://www.mhns.co.kr/news/articleView.html?idxno=516750', 'description': '부동액도 저마다 색상이 있다./사진=자동차10년타기시민운동연합 제공 ◇ <b>전기차</b>는 절연형 부동액 사용 <b>전기차</b>도 배터리나 모터의 한파와 열을 식히기 위해 부동액을 사용한다. <b>전기차</b>는 전기가 통하지 않도록 하는... ', 'pubDate': 'Mon, 29 Nov 2021 16:32:00 +0900'}, {'title': 'SK온, <b>전기차</b> 배터리 ESS로 건설현장 임시동력 활용', 'originallink': 'http://www.e-platform.net/news/articleView.html?idxno=70560', 'link': 'http://www.e-platform.net/news/articleView.html?idxno=70560', 'description': \"SK온이 <b>전기차</b>에서 사용한 배터리를 이용한 '친환경 ESS' 실증에 본격 착수한다. 이를 위해 29일... 이번 협약에 따라 SK온은 폐차된 <b>전기차</b>에서 수거한 배터리로 케이디파워와 ESS를 구축하고 향후 2년 동안... \", 'pubDate': 'Mon, 29 Nov 2021 16:32:00 +0900'}, {'title': '대학생들이 만든 자율주행차, 서울 도심 달렸다', 'originallink': 'http://www.smedaily.co.kr/news/articleView.html?idxno=219435', 'link': 'http://www.smedaily.co.kr/news/articleView.html?idxno=219435', 'description': '올해는 <b>전기차</b> 기반으로 실제 도심 교통환경에서의 자율주행 기술 연구 활성화를 위해 현대차그룹과... 현대차그룹 관계자는 &quot;이번 대회는 무엇보다 국내 최초 <b>전기차</b> 기반으로 실제 도심 교통환경에서 여러 대의... ', 'pubDate': 'Mon, 29 Nov 2021 16:32:00 +0900'}, {'title': '“베트남 車가 결국엔 현대기아차 뛰어넘을 것”', 'originallink': 'http://www.thedrive.co.kr/news/newsview.php?ncode=1065597641398944', 'link': 'http://www.thedrive.co.kr/news/newsview.php?ncode=1065597641398944', 'description': '매체는\\xa0“내연\\xa0기관차에서\\xa0순수\\xa0<b>전기차</b>로의\\xa0전환이\\xa0자동차산업\\xa0역사상\\xa0가장\\xa0큰\\xa0변화라는\\xa0투의\\xa0주장을\\xa0되풀이하는\\xa0것은\\xa0옳지\\xa0않다”면서,\\xa0100년이\\xa0넘는\\xa0자동차산업\\xa0역사상\\xa0가장\\xa0큰\\xa0변화는\\xa0아시아에... ', 'pubDate': 'Mon, 29 Nov 2021 16:30:00 +0900'}, {'title': '국립중앙과학관, 초고속 <b>전기차</b> 충전소 개소', 'originallink': 'http://www.g-enews.com/ko-kr/news/article/news_all/20211129161106348786fbbc3c26_1/article.html', 'link': 'http://www.g-enews.com/ko-kr/news/article/news_all/20211129161106348786fbbc3c26_1/article.html', 'description': \"국립중앙과학관은 부설주차장 내에 초고속 <b>전기차</b> 충전소를 29일부터 운영한다고 밝혔다. 올해 2월 정부가 마련한 '<b>전기차</b> 급속충전 인프라 확충계획'에 따라 과학관이 여유부지 제공과 행정 인허가를 지원하고... \", 'pubDate': 'Mon, 29 Nov 2021 16:30:00 +0900'}, {'title': \"삼성카드, <b>전기차</b> 오너 겨냥 '삼성 iD EV 카드' 출시\", 'originallink': 'http://www.finomy.com/news/articleView.html?idxno=103046', 'link': 'http://www.finomy.com/news/articleView.html?idxno=103046', 'description': \"삼성카드가 '삼성 iD 카드'의 후속작으로 <b>전기차</b> 오너의 취향에 맞춘 혜택을 담은 '삼성 iD EV 카드'를 선보였다. 삼성 iD EV 카드는 전월 이용금액에 따라 <b>전기차</b> 충전 요금 최대 70% 할인을 월 최대 3만원까지 제공한다.... \", 'pubDate': 'Mon, 29 Nov 2021 16:28:00 +0900'}, {'title': \"현대차그룹, '국립중앙과학관 E-pit' 개소…<b>전기차</b> 생태계 조성 기여\", 'originallink': 'http://www.ftoday.co.kr/news/articleView.html?idxno=228384', 'link': 'http://www.ftoday.co.kr/news/articleView.html?idxno=228384', 'description': '사진=현대자동차그룹 현대자동차그룹이 국내 <b>전기차</b> 산업 활성화를 위해 대전광역시에도 <b>전기차</b> 초고속 충전 인프라를 구축한다. 현대차그룹은 대전광역시 유성구에 위치한 국립중앙과학관에 <b>전기차</b> 초고속 충전소... ', 'pubDate': 'Mon, 29 Nov 2021 16:28:00 +0900'}, {'title': \"아우디, 2021서울모빌리티쇼서 1회 충전 시 700km 이상 주행 가능한 'A6 e-트...\", 'originallink': 'http://kr.aving.net/news/view.php?articleId=1659114&Branch_ID=kr&rssid=naver&mn_name=news', 'link': 'http://kr.aving.net/news/view.php?articleId=1659114&Branch_ID=kr&rssid=naver&mn_name=news', 'description': '브랜드의 <b>전기차</b>에서 공통적으로 볼 수 있는 대표적인 디자인 요소인 블랙 인레이가 적용되었다. 또한... 아우디 A6 e-트론 컨셉트의 전면부를 통해 아우디를 대표하는 <b>전기차</b>임을 확인할 수 있다. 눈에 띄는 특징은... ', 'pubDate': 'Mon, 29 Nov 2021 16:26:00 +0900'}, {'title': \"삼성카드, <b>전기차</b> 충전 최대 70% 할인 '삼성 iD EV 카드' 출시\", 'originallink': 'https://daily.hankooki.com/lpage/finance/202111/dh20211129162109148310.htm?s_ref=nv', 'link': 'https://daily.hankooki.com/lpage/finance/202111/dh20211129162109148310.htm?s_ref=nv', 'description': \"삼성카드는 <b>전기차</b> 소유주 취향에 맞춘 혜택을 담은 '삼성 iD EV 카드'를 선보인다고 29일 밝혔다. '삼성 iD EV 카드'는 전월 이용금액에 따라 <b>전기차</b> 충전요금을 최대 70% 할인받을 수 있다. 전월 이용금액이 30만원... \", 'pubDate': 'Mon, 29 Nov 2021 16:26:00 +0900'}, {'title': \"현대차·서울시, 대학생 대상 '2021 자율주행 챌린지' 본선 개최\", 'originallink': 'https://www.asiatoday.co.kr/view.php?key=20211129010017323', 'link': 'https://www.asiatoday.co.kr/view.php?key=20211129010017323', 'description': '올해는 <b>전기차</b>를 기반으로 실제 도심 교통환경에서의 자율주행 기술 연구 활성화를 위해 현대차그룹과... 또한 이번 참가팀들은 현대차그룹이 제공한 니로EV를 이용해 최초로 <b>전기차</b> 기반 자율주행차를 제작했다.... ', 'pubDate': 'Mon, 29 Nov 2021 16:26:00 +0900'}, {'title': '대학생들이 만든 자율주행車… 서울 도심 4km 완주', 'originallink': 'https://biz.newdaily.co.kr/site/data/html/2021/11/29/2021112900150.html', 'link': 'https://biz.newdaily.co.kr/site/data/html/2021/11/29/2021112900150.html', 'description': '올해는 <b>전기차</b> 기반으로 실제 도심 교통환경에서 자율주행 기술 연구 활성화를 위해 현대차그룹과... 지난 대회까지는 내연기관차를 활용했지만 이번에는 현대차그룹이 제공한 ‘니로 EV’를 이용해 최초로 <b>전기차</b> 기반... ', 'pubDate': 'Mon, 29 Nov 2021 16:26:00 +0900'}, {'title': '현대차그룹, 자율주행 상용화 가속페달 밟는다', 'originallink': 'http://www.inews24.com/view/1427453', 'link': 'https://news.naver.com/main/read.naver?mode=LSD&mid=sec&sid1=101&oid=031&aid=0000639280', 'description': '한편 현대차그룹은 지난 8월 모셔널과 함께 현대차의 전용 <b>전기차</b> 모델 아이오닉 5를 기반으로 개발한 로보택시를 공개한 바 있다. 모셔널은 현대차와 미국 자율주행 기술기업 앱티브의 합작법인이다. 아이오닉 5... ', 'pubDate': 'Mon, 29 Nov 2021 16:23:00 +0900'}, {'title': \"국립중앙과학관, '초고속 <b>전기차</b> 충전소' 운영\", 'originallink': 'http://www.joongdo.co.kr/web/view.php?key=20211129010006424', 'link': 'http://www.joongdo.co.kr/web/view.php?key=20211129010006424', 'description': \"초고속 <b>전기차</b> 충전소가 설치돼 29일부터 운영에 들어갔다. 충전소는 최대 260kW까지 초고속 충전이 가능한 충전기 4기와 100kW 급속 충전기 2기 등 총 6기로 구성됐다. 기본 충전방식은 국내 <b>전기차</b> 충전 표준인 'DC콤보... \", 'pubDate': 'Mon, 29 Nov 2021 16:20:00 +0900'}, {'title': \"(영상)내년 <b>전기차</b> 판도 바뀐다…한국·미국 '도약'·중국 '주춤'\", 'originallink': 'http://www.newstomato.com/ReadNews.aspx?no=1090451&inflow=N', 'link': 'http://www.newstomato.com/ReadNews.aspx?no=1090451&inflow=N', 'description': \"뉴스토마토 = 조재훈 기자 | 한국과 미국이 <b>전기차</b>(EV) 시장의 '블루오션'으로 떠올랐다. 기존 전세계 최대... 여기에는 리비안 R1T, 테슬라 사이버트럭, GM 허머 EV, 포드 F-150 라이트닝 등 '미국 <b>전기차</b>의 자존심'이라... \", 'pubDate': 'Mon, 29 Nov 2021 16:20:00 +0900'}, {'title': '[데일리픽] &quot;스파이더맨 보면 NFT 드려요&quot;…오미크론 백신 개발 박차', 'originallink': 'http://www.digitaltoday.co.kr/news/articleView.html?idxno=426416', 'link': 'http://www.digitaltoday.co.kr/news/articleView.html?idxno=426416', 'description': '<b>전기차</b> 충전소에서 충전 중인 폭스바겐 <b>전기차</b> [사진: 셔터스톡] ■ 독일, 2030년 내연기관차량 운행 금지 독일 정부가 오는 2030년까지 독일 전역에 내연기관차량 운행을 금지하고 <b>전기차</b> 1500만대를 보급하는 등... ', 'pubDate': 'Mon, 29 Nov 2021 16:20:00 +0900'}, {'title': 'KTB네트워크는 VC ‘대장주’에 오를까', 'originallink': 'https://www.fetv.co.kr/news/article.html?no=101948', 'link': 'https://www.fetv.co.kr/news/article.html?no=101948', 'description': '미국 바이오 기업 카스젠에서 11배, 미국 바이오 연구장비 기업 버클리라이츠에서 8배, 중국 <b>전기차</b> 업체 샤오펑에서 5배에 육박하는 평가이익을 창출했다. 인도네시아 모빌리티 플랫폼 그랩과 미국 핀테크 플랫폼... ', 'pubDate': 'Mon, 29 Nov 2021 16:20:00 +0900'}, {'title': '브리티시볼트,\\xa0英 최초 배터리 기가팩토리 건설…2023년 가동', 'originallink': 'https://www.theguru.co.kr/news/article.html?no=28335', 'link': 'https://www.theguru.co.kr/news/article.html?no=28335', 'description': '첫 <b>전기차</b> 배터리 기가팩토리를 짓는다. 자금 조달을 위해 런던 증시 상장도 추진한다. 29일 업계에... 대규모 <b>전기차</b> 배터리 공장을 건설하고 있다. 2027년까지 30만 개의 배터리팩을 생산할 수 있는 30GWh 규모로... ', 'pubDate': 'Mon, 29 Nov 2021 16:18:00 +0900'}, {'title': \"DS 오토모빌, 포뮬러 E 출전 차량 'DS E-텐스 FE21' 새 디자인 공개\", 'originallink': 'http://digitalchosun.dizzo.com/site/data/html_dir/2021/11/29/2021112980162.html', 'link': 'http://digitalchosun.dizzo.com/site/data/html_dir/2021/11/29/2021112980162.html', 'description': '성열휘 기자 | DS 오토모빌(이하 DS)의 <b>전기차</b> 레이싱 팀 DS 테치타가 지난 26일(프랑스 현지 시각)... 닦은 <b>전기차</b> 기술과 노하우를 양산 모델에 꾸준히 적용해 나갈 계획&quot;이라고 말했다. DS 테치타는 지난 2018/19... ', 'pubDate': 'Mon, 29 Nov 2021 16:18:00 +0900'}, {'title': '경북도, 기업 투자유치에 올인', 'originallink': 'http://www.idaegu.com/newsView/idg202111290026', 'link': 'http://www.idaegu.com/newsView/idg202111290026', 'description': '<b>전기차</b>, 수소차 분야 등 자동차 산업벨트와 분양 중인 도내 산업단지 등 경북만이 가진 장점을 소개한다.... 있다”며 “<b>전기차</b>, 수소차 분야 기업 유치를 통해 경북이 친환경자동차산업을 선도할 수 있도록 최선을... ', 'pubDate': 'Mon, 29 Nov 2021 16:16:00 +0900'}, {'title': '하이브리드차량 인기 상승…개별소비세 감면 등 혜택 유지 여부 주목', 'originallink': 'http://theviewers.co.kr/View.aspx?No=2129910', 'link': 'http://theviewers.co.kr/View.aspx?No=2129910', 'description': '최근 친환경이 주목받으면서 <b>전기차</b> 등이 각광받고 있지만 아직은 충전인프라가 갖춰지지 않은 탓에... 반면 <b>전기차</b>는 4만8720대로 4.3% 수준이다. 업계 관계자는 “현재는 수소차나 <b>전기차</b>가 친환경에 가장 가까운... ', 'pubDate': 'Mon, 29 Nov 2021 16:14:00 +0900'}, {'title': '2021서울모빌리티쇼, 개막 3일차에 10만 명 돌파!... 조직위 &quot;철저한 방역으로...', 'originallink': 'http://kr.aving.net/news/view.php?articleId=1659108&Branch_ID=kr&rssid=naver&mn_name=news', 'link': 'http://kr.aving.net/news/view.php?articleId=1659108&Branch_ID=kr&rssid=naver&mn_name=news', 'description': '그밖에도 디피코, 마스터<b>전기차</b>, 이브이케이엠씨 등 <b>전기차</b> 전문 브랜드들도 소형 <b>전기차</b>, 전기 트럭 등을 공개했고, 블루샤크는 소형 전기이륜차 R1과 R1 Lite를 전시해 라스트마일 모빌리티의 변화를 보여줬다. 뿐만... ', 'pubDate': 'Mon, 29 Nov 2021 16:14:00 +0900'}, {'title': \"현대차그룹, 국립중앙과학관에 <b>전기차</b> 초고속 충전소 '이피트' 설치\", 'originallink': 'http://www.dizzotv.com/site/data/html_dir/2021/11/29/2021112980157.html', 'link': 'http://www.dizzotv.com/site/data/html_dir/2021/11/29/2021112980157.html', 'description': '현대자동차그룹은 대전 유성구에 위치한 국립중앙과학관 지상 주차장에 <b>전기차</b> 초고속 충전소 ‘E-pit... 현대차그룹은 타사 <b>전기차</b> 이용 고객에게도 충전소를 개방해 국내 충전 표준인 DC콤보 타입1을 기본 충전... ', 'pubDate': 'Mon, 29 Nov 2021 16:14:00 +0900'}, {'title': '푸조, <b>전기차</b> e-208·e-2008 히트펌프 달고 주행거리 증가..국내 출시는?', 'originallink': 'http://www.dailycar.co.kr/content/news.html?type=view&autoId=41809', 'link': 'http://www.dailycar.co.kr/content/news.html?type=view&autoId=41809', 'description': '도심형 <b>전기차</b> 시장에서 서서히 두각을 나타내고 있다. 소형 전기 SUV인 e-2008 또한 보조금 지급 시 3000만원대 구입할 수 있는 장점을 앞세워 소형 <b>전기차</b> 경쟁에서 조금씩 자리를 잡아가고 있다. 올해 1~10월까지... ', 'pubDate': 'Mon, 29 Nov 2021 16:12:00 +0900'}, {'title': \"삼성카드, <b>전기차</b> 오너 맞춤 '삼성 iD EV 카드' 선봬\", 'originallink': 'http://www.paxetv.com/news/articleView.html?idxno=132071', 'link': 'http://www.paxetv.com/news/articleView.html?idxno=132071', 'description': \"삼성카드가 <b>전기차</b> 오너 취향에 맞춘 '삼성 iD EV 카드'를 출시했다. (사진제공=삼성카드) 삼성카드가 '삼성 iD 카드'의 후속작으로 <b>전기차</b> 오너의 취향에 맞춘 혜택을 담은 '삼성 iD EV 카드'를 선보였다고 29일... \", 'pubDate': 'Mon, 29 Nov 2021 16:12:00 +0900'}, {'title': \"현대차그룹·서울시, '2021 자율주행 챌린지' 개최\", 'originallink': 'http://news.bizwatch.co.kr/article/industry/2021/11/29/0018', 'link': 'https://news.naver.com/main/read.naver?mode=LSD&mid=sec&sid1=101&oid=648&aid=0000005060', 'description': '올해는 <b>전기차</b> 기반으로 실제 도심 교통환경에서의 자율주행 연구 활성화를 위해 현대차그룹과 서울시가... 현대차그룹 관계자는 &quot;이번 대회는 무엇보다 국내 최초 <b>전기차</b> 기반으로 실제 도심 교통환경에서 여러 대의... ', 'pubDate': 'Mon, 29 Nov 2021 16:11:00 +0900'}, {'title': \"'모빌리티 산업 잡는 규제?' 모빌리티 통합법 목소리 나와\", 'originallink': 'https://www.hellot.net/news/article.html?no=63824', 'link': 'https://www.hellot.net/news/article.html?no=63824', 'description': '정만기 한국산업연합포럼 회장은 인사말을 통해 국내 <b>전기차</b> 보조금 제도가 의도와 달리 수입차에 유리한 환경을 조성하고 있다고 지적했다. 정 회장은 &quot;우리나라의 경우 현재 수소(전기) 버스가 전기버스 대비 탄소 배출... ', 'pubDate': 'Mon, 29 Nov 2021 16:10:00 +0900'}, {'title': '[29일 상한가 총정리]\\xa0한컴라이프케어 프레스티지바이오파마\\xa0제노코 위메이...', 'originallink': 'http://www.gukjenews.com/news/articleView.html?idxno=2358283', 'link': 'http://www.gukjenews.com/news/articleView.html?idxno=2358283', 'description': \"애플의 자율주행 <b>전기차</b>를 개발하는 '프로젝트 타이탄'을\\xa0애플 워치 소프트웨어 책임자인 케빈 린치가... LG그룹은 LG에너지솔루션, LG전자, LG디스플레이, LG이노텍, LG마그나이파워트레인 등으로 구성돼 <b>전기차</b>... \", 'pubDate': 'Mon, 29 Nov 2021 16:10:00 +0900'}, {'title': \"[마켓Q] '퇴직연금 ETF', 은행 vs 증권 경쟁 치열해질 듯\", 'originallink': 'https://www.asiatime.co.kr/article/20211129500247', 'link': 'https://www.asiatime.co.kr/article/20211129500247', 'description': '메타버스, <b>전기차</b> 등 거의 모든 ETF를 자유롭게 거래할 수 있는 증권사 퇴직연금에 비해 열등하다. 수익률 또한 증권사가 우세하다. 하나은행의 경우 올 3분기 기준 최근 1년간 IRP 수익률은 3.78%에 그친다. 신한은행... ', 'pubDate': 'Mon, 29 Nov 2021 16:08:00 +0900'}, {'title': \"현대차, 15번째 초고속 <b>전기차</b> 충전소 '국립중앙과학관 E-pit'\", 'originallink': 'http://www.opiniontimes.co.kr/news/articleView.html?idxno=83175', 'link': 'http://www.opiniontimes.co.kr/news/articleView.html?idxno=83175', 'description': \"대전 유성구 국립중앙과학관에 설치된 현대차그룹의 초고속 <b>전기차</b> 충전소 'E-pit(이피트)'=현대차 현대자동차그룹이 대전광역시에 <b>전기차</b> 초고속 충전시설을 마련했다. 29일 현대차에따르면 \\xa0대전\\xa0유성구... \", 'pubDate': 'Mon, 29 Nov 2021 16:08:00 +0900'}, {'title': '&quot;이번에는 대전&quot; 현대차그룹, <b>전기차</b> 충전 인프라 확충', 'originallink': 'http://www.newsprime.co.kr/news/article.html?no=556847', 'link': 'http://www.newsprime.co.kr/news/article.html?no=556847', 'description': \"현대자동차그룹이 국내 <b>전기차</b> 산업 활성화를 위해 대전광역시에 <b>전기차</b> 초고속 충전인프라를 구축한다. 현대차그룹은 대전 유성구에 위치한 국립중앙과학관에 <b>전기차</b> 초고속 충전소 'E-pit(이피트)'를 설치하고... \", 'pubDate': 'Mon, 29 Nov 2021 16:06:00 +0900'}, {'title': \"현대자동차그룹, '국립중앙과학관 E-pit'에 <b>전기차</b> 충전소 개소\", 'originallink': 'http://www.100ssd.co.kr/news/articleView.html?idxno=82812', 'link': 'http://www.100ssd.co.kr/news/articleView.html?idxno=82812', 'description': '(사진=현대차그룹) 현대자동차그룹은 대전광역시 유성구에 있는 국립중앙과학관에 <b>전기차</b> 초고속 충전소... 도심형 <b>전기차</b> 초고속 충전소다. 현대차그룹은 이번 충전소는 지난 2월 공공기관 소유 유휴부지 중 일부에... ', 'pubDate': 'Mon, 29 Nov 2021 16:06:00 +0900'}, {'title': \"유료방송·PP '선계약 후공급' 원칙으로…과기부, 연내 가이드라인 마련\", 'originallink': 'http://news.einfomax.co.kr/news/articleView.html?idxno=4186077', 'link': 'http://news.einfomax.co.kr/news/articleView.html?idxno=4186077', 'description': '이날 토론회에 참석한 서장원 CJ ENM 전략지원실장은 &quot;국내 미디어 콘텐츠 산업은 글로벌 경쟁력을 키워나가고 있다&quot;며 &quot;하지만 반도체나 <b>전기차</b> 같은 성장 사업같이 미래 성장동력으로 키울 정책은 준비되어 있는지... ', 'pubDate': 'Mon, 29 Nov 2021 16:04:00 +0900'}, {'title': '민영돈 조선대 총장 향후 2년···“AI교육과 미래 신기술 사업 선도”', 'originallink': 'https://www.wikitree.co.kr/articles/711413', 'link': 'https://www.wikitree.co.kr/articles/711413', 'description': '교내는 물론이며 교외에서도 <b>전기차</b>를 활용한 자율주행 시험차를 운영해 학생들의 역량 강화에 힘쓰는 등 인공지능 연구 개발에 동참하고 있다. 또한 학생들이 인공지능 분야에 관심을 갖고 자유롭게 창작할 수 있도록... ', 'pubDate': 'Mon, 29 Nov 2021 16:02:00 +0900'}, {'title': '헝다자동차, 미개발 토지 7곳 반납해 2400억원 확보', 'originallink': 'http://www.g-enews.com/ko-kr/news/article/news_all/202111291518586072c4c1a19e2e_1/article.html', 'link': 'http://www.g-enews.com/ko-kr/news/article/news_all/202111291518586072c4c1a19e2e_1/article.html', 'description': '헝다그룹 <b>전기차</b> 자회사 헝다자동차는 보유한 미개발 토지 7곳을 반납해 12억8400만 위안(약 2400억5664만... 헝다자동차는 지난 9월 재무 상태 악화와 유동성 부족으로 일부 <b>전기차</b> 연구·개발 프로젝트 등을... ', 'pubDate': 'Mon, 29 Nov 2021 16:02:00 +0900'}, {'title': 'DB하이텍 차세대 전력반도체 연구, 최창식 고객사 확보해 증설하나', 'originallink': 'https://www.businesspost.co.kr/BP?command=article_view&num=261819', 'link': 'https://www.businesspost.co.kr/BP?command=article_view&num=261819', 'description': '최근 완성차회사들이 <b>전기차</b>와 자율주행차 등의 개발에 속도를 내면서 차량용 전력관리반도체도... 최창식 부회장도 차세대 전력관리반도체 공정을 통해 <b>전기차</b>와 자율주행차용 수요를 공략하려는 것으로 보인다.... ', 'pubDate': 'Mon, 29 Nov 2021 16:02:00 +0900'}, {'title': \"李-尹, MZ세대 향한 '러브콜'...누구 손을 들어줄까? 관심\", 'originallink': 'http://www.joseilbo.com/news/news_read.php?uid=439600&class=32&grp=', 'link': 'https://news.naver.com/main/read.naver?mode=LSD&mid=sec&sid1=100&oid=123&aid=0002260797', 'description': \"소확행 공약’ 시리즈를 통해 '가상자산 과세 1년 유예'를 비롯해 '청년 면접수당 지급', ‘<b>전기차</b> 보조금 대상 대폭 확대를 통한 <b>전기차</b> 공급 확대’ 등 청년층의 관심거리에 대한 공약을 제시하고 있다. 윤 후보도 '내일을... \", 'pubDate': 'Mon, 29 Nov 2021 16:02:00 +0900'}, {'title': '현대차그룹, 자율주행 챌린지 개최', 'originallink': 'https://www.fetv.co.kr/news/article.html?no=101963', 'link': 'https://www.fetv.co.kr/news/article.html?no=101963', 'description': '올해는 <b>전기차</b> 기반으로 실제 도심 교통환경에서의 자율주행 기술 연구 활성화를 위해 현대차그룹과... 최초로 <b>전기차</b> 기반 자율주행차를 제작했다. 현대차그룹은 이와 함께 하드웨어 기술을 지원함으로써 차량 개조에... ', 'pubDate': 'Mon, 29 Nov 2021 16:00:00 +0900'}, {'title': '[29일 특징주 총정리] 러시아 백신 관련주 이아이디·이트론 주가 강세...오미...', 'originallink': 'http://www.gukjenews.com/news/articleView.html?idxno=2358267', 'link': 'http://www.gukjenews.com/news/articleView.html?idxno=2358267', 'description': \"애플의 자율주행 <b>전기차</b>를 개발하는 '프로젝트 타이탄'을\\xa0애플 워치 소프트웨어 책임자인 케빈 린치가... LG그룹은 LG에너지솔루션, LG전자, LG디스플레이, LG이노텍, LG마그나이파워트레인 등으로 구성돼 <b>전기차</b> 주요... \", 'pubDate': 'Mon, 29 Nov 2021 16:00:00 +0900'}, {'title': '중국 수백만 달러, 콩고 전 집권층에 불법 유입···광산업 야욕', 'originallink': 'https://www.sedaily.com/NewsView/22U7FF99UN', 'link': 'https://news.naver.com/main/read.naver?mode=LSD&mid=sec&sid1=104&oid=011&aid=0003990742', 'description': '<b>전기차</b> 대수는 총 130만 대로 전 세계 시장 점유율의 40%를 웃돈다. 가디언은 “이는 중국이 배터리 원재료 경쟁에서 우위를 점하고 있다는 것을 의미한다”고 분석했다. 중국의 배터리 제조사 CATL은 전 세계 <b>전기차</b>... ', 'pubDate': 'Mon, 29 Nov 2021 15:59:00 +0900'}, {'title': '자율주행 1호 승객 오세훈 “탈 땐 불안, 내릴 땐 편안”', 'originallink': 'http://www.newstomato.com/ReadNews.aspx?no=1090440&inflow=N', 'link': 'http://www.newstomato.com/ReadNews.aspx?no=1090440&inflow=N', 'description': '오 시장은 “세계적으로 자동차 산업의 주도권이 <b>전기차</b>, 자율차로 넘어가면서 승자 독식 내지는 1등이 시장을 완전히 장악하고 있다”며 “구글이나 테슬라에 비해서 기술이 많이 뒤떨어지고 데이터 축적이 늦어진... ', 'pubDate': 'Mon, 29 Nov 2021 15:56:00 +0900'}, {'title': '[장외시황] 루닛, 코스닥 상장 예비심사 청구', 'originallink': 'https://www.etoday.co.kr/news/view/2082377', 'link': 'https://www.etoday.co.kr/news/view/2082377', 'description': 'IPO(기업공개)관련 주로 <b>전기차</b> 전력변환장치 제조기업 이지트로닉스는 호가 4만2000원(1.20%)으로 오름세를 보였다. 가상현실 기반 메타버스 기술업체 스코넥엔터테인먼트가 3만1500원(-5.97%)으로 밀려났다. 의학 및... ', 'pubDate': 'Mon, 29 Nov 2021 15:54:00 +0900'}, {'title': '현대차, ‘자율주행 챌린지’ 개최…대학생 제작차 서울도심 첫 주행', 'originallink': 'https://daily.hankooki.com/lpage/industry/202111/dh20211129154552147980.htm?s_ref=nv', 'link': 'https://daily.hankooki.com/lpage/industry/202111/dh20211129154552147980.htm?s_ref=nv', 'description': '상암 ‘자율주행자동차 시범운행지구’ 일원서 대학생 자율주행대회 진행 <b>전기차</b> 기반으로 실제 도심... 올해는 <b>전기차</b> 기반으로 실제 도심 교통환경에서의 자율주행 기술 연구 활성화를 위해 현대차그룹과 서울시가... ', 'pubDate': 'Mon, 29 Nov 2021 15:52:00 +0900'}]}\n"
     ]
    }
   ],
   "source": [
    "# 네이버 뉴스 api json\n",
    "import requests\n",
    "\n",
    "client_id = \"5nrnaEfIpurFYmS5F4WP\"\n",
    "client_secret = \"vR2SYXZNPB\"\n",
    "\n",
    "keyword = '전기차'\n",
    "url = \"https://openapi.naver.com/v1/search/news.json\"\n",
    "\n",
    "headers = {\"X-Naver-Client-Id\":client_id, \"X-Naver-Client-Secret\":client_secret}\n",
    "\n",
    "params = {'query':keyword, 'display':100, 'start':1, 'sort':'date'}\n",
    "\n",
    "r = requests.get(url, params = params, headers = headers)\n",
    "\n",
    "j = r.json()\n",
    "print(j)"
   ],
   "metadata": {
    "collapsed": false,
    "pycharm": {
     "name": "#%%\n"
    }
   }
  },
  {
   "cell_type": "code",
   "execution_count": 2,
   "outputs": [
    {
     "name": "stdout",
     "output_type": "stream",
     "text": [
      " * Serving Flask app \"__main__\" (lazy loading)\r\n",
      " * Environment: production\r\n",
      "   WARNING: This is a development server. Do not use it in a production deployment.\r\n",
      "   Use a production WSGI server instead.\r\n",
      " * Debug mode: off\r\n"
     ]
    },
    {
     "name": "stderr",
     "output_type": "stream",
     "text": [
      " * Running on http://127.0.0.1:5000/ (Press CTRL+C to quit)\n",
      "127.0.0.1 - - [29/Nov/2021 17:32:12] \"\u001B[37mGET /news HTTP/1.1\u001B[0m\" 200 -\n",
      "127.0.0.1 - - [29/Nov/2021 17:33:51] \"\u001B[37mGET /news HTTP/1.1\u001B[0m\" 200 -\n",
      "127.0.0.1 - - [29/Nov/2021 17:34:02] \"\u001B[37mGET /news HTTP/1.1\u001B[0m\" 200 -\n",
      "127.0.0.1 - - [29/Nov/2021 17:34:26] \"\u001B[37mGET /news HTTP/1.1\u001B[0m\" 200 -\n",
      "127.0.0.1 - - [29/Nov/2021 17:34:53] \"\u001B[37mGET /news HTTP/1.1\u001B[0m\" 200 -\n",
      "127.0.0.1 - - [29/Nov/2021 17:36:24] \"\u001B[37mGET /news HTTP/1.1\u001B[0m\" 200 -\n",
      "127.0.0.1 - - [29/Nov/2021 18:13:40] \"\u001B[37mGET /news HTTP/1.1\u001B[0m\" 200 -\n",
      "127.0.0.1 - - [29/Nov/2021 18:13:51] \"\u001B[37mGET /news HTTP/1.1\u001B[0m\" 200 -\n",
      "127.0.0.1 - - [29/Nov/2021 18:13:55] \"\u001B[37mGET /news HTTP/1.1\u001B[0m\" 200 -\n",
      "127.0.0.1 - - [29/Nov/2021 18:13:57] \"\u001B[37mGET /news HTTP/1.1\u001B[0m\" 200 -\n",
      "127.0.0.1 - - [29/Nov/2021 18:21:30] \"\u001B[37mGET /news HTTP/1.1\u001B[0m\" 200 -\n",
      "127.0.0.1 - - [29/Nov/2021 18:21:36] \"\u001B[37mGET /news HTTP/1.1\u001B[0m\" 200 -\n"
     ]
    }
   ],
   "source": [
    "from flask import Flask, request, jsonify\n",
    "from flask_cors import CORS\n",
    "\n",
    "app = Flask(__name__)\n",
    "CORS(app)\n",
    "\n",
    "@app.route('/news') #test api\n",
    "def news():\n",
    "    return j\n",
    "\n",
    "if __name__ == \"__main__\":\n",
    "    app.run()"
   ],
   "metadata": {
    "collapsed": false,
    "pycharm": {
     "name": "#%%\n"
    }
   }
  },
  {
   "cell_type": "code",
   "execution_count": null,
   "outputs": [],
   "source": [],
   "metadata": {
    "collapsed": false,
    "pycharm": {
     "name": "#%%\n"
    }
   }
  }
 ],
 "metadata": {
  "kernelspec": {
   "display_name": "Python 3",
   "language": "python",
   "name": "python3"
  },
  "language_info": {
   "codemirror_mode": {
    "name": "ipython",
    "version": 3
   },
   "file_extension": ".py",
   "mimetype": "text/x-python",
   "name": "python",
   "nbconvert_exporter": "python",
   "pygments_lexer": "ipython3",
   "version": "3.8.8"
  }
 },
 "nbformat": 4,
 "nbformat_minor": 5
}