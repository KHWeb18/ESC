{
 "cells": [
  {
   "cell_type": "code",
   "execution_count": 1,
   "id": "27e6d4f7",
   "metadata": {},
   "outputs": [
    {
     "name": "stdout",
     "output_type": "stream",
     "text": [
      "Requirement already satisfied: requests in c:\\users\\ms109\\anaconda3\\lib\\site-packages (2.25.1)\n",
      "Requirement already satisfied: beautifulsoup4 in c:\\users\\ms109\\anaconda3\\lib\\site-packages (4.9.3)\n",
      "Requirement already satisfied: soupsieve>1.2 in c:\\users\\ms109\\anaconda3\\lib\\site-packages (from beautifulsoup4) (2.2.1)\n",
      "Requirement already satisfied: urllib3<1.27,>=1.21.1 in c:\\users\\ms109\\anaconda3\\lib\\site-packages (from requests) (1.26.4)\n",
      "Requirement already satisfied: idna<3,>=2.5 in c:\\users\\ms109\\anaconda3\\lib\\site-packages (from requests) (2.10)\n",
      "Requirement already satisfied: certifi>=2017.4.17 in c:\\users\\ms109\\anaconda3\\lib\\site-packages (from requests) (2020.12.5)\n",
      "Requirement already satisfied: chardet<5,>=3.0.2 in c:\\users\\ms109\\anaconda3\\lib\\site-packages (from requests) (4.0.0)\n",
      "Note: you may need to restart the kernel to use updated packages.\n"
     ]
    }
   ],
   "source": [
    "pip install requests beautifulsoup4"
   ]
  },
  {
   "cell_type": "code",
   "execution_count": null,
   "id": "57070972",
   "metadata": {},
   "outputs": [],
   "source": [
    "pip install selenium"
   ]
  },
  {
   "cell_type": "code",
   "execution_count": 7,
   "id": "7c6857ff",
   "metadata": {
    "scrolled": true
   },
   "outputs": [
    {
     "name": "stdout",
     "output_type": "stream",
     "text": [
      " * Serving Flask app \"__main__\" (lazy loading)\n",
      " * Environment: production\n",
      "   WARNING: This is a development server. Do not use it in a production deployment.\n",
      "   Use a production WSGI server instead.\n",
      " * Debug mode: off\n"
     ]
    },
    {
     "name": "stderr",
     "output_type": "stream",
     "text": [
      " * Running on http://localhost:8080/ (Press CTRL+C to quit)\n",
      "127.0.0.1 - - [09/Nov/2021 22:16:21] \"\u001B[37mGET /newsCrawler HTTP/1.1\u001B[0m\" 200 -\n",
      "127.0.0.1 - - [09/Nov/2021 22:16:24] \"\u001B[33mGET / HTTP/1.1\u001B[0m\" 404 -\n"
     ]
    }
   ],
   "source": [
    "from flask import Flask, url_for, request, jsonify\n",
    "from flask_cors import CORS, cross_origin\n",
    "\n",
    "import json\n",
    "\n",
    "app = Flask(__name__)\n",
    "CORS(app)\n",
    "\n",
    "@app.route('/newsCrawler', methods = ['GET', 'POST'])                                                                                                                                                                                                                                                                                                                                 \n",
    "def test():\n",
    "    \n",
    "    data = titles\n",
    "\n",
    "    \n",
    "    return jsonify(data)\n",
    "\n",
    "\n",
    "if __name__ == '__main__':\n",
    "    app.run(debug=False,host=\"localhost\",port=8080)\n"
   ]
  },
  {
   "cell_type": "code",
   "execution_count": 21,
   "id": "3d740fec",
   "metadata": {
    "scrolled": false
   },
   "outputs": [
    {
     "name": "stdout",
     "output_type": "stream",
     "text": [
      "                                               기사 제목  \\\n",
      "0                     포스코인터·이래AMS, 美 전기차 리비안에 부품 공급    \n",
      "1    현대차, 미국서 '전기차 제조시기' 일부러 늦추려는 이유는 [車 UP & DOWN]    \n",
      "2              정의선, \"전기차 美서 생산 계획···시기 보고 있다\"[뒷북비즈]    \n",
      "3                 정의선 회장 \"배터리 직접생산 안해, 전기차 美생산 계획중\"    \n",
      "4                   정의선 현대차 회장 \"전기차 美생산 계획…시기 보고있다\"    \n",
      "5      \"보조금 없이 통할까\" BMW, 韓 전기차 시장 노린 'iX·iX3' 국내 출시    \n",
      "6                            中 오포, 이르면 2년내 첫 전기차 출시    \n",
      "7                아우디, ‘서울 모빌리티쇼’서 전기차 등 4종 한국 최초 공개    \n",
      "8                  EV9에 니로까지 전기차 라인업 확대…전동화 꿈틀대는 기아    \n",
      "9                      \"턱 없이 부족한 전기차 공용충전기, 원인은...\"    \n",
      "10                        양주 옥정신도시에 초급속 전기차 충전시설 구축    \n",
      "11                                   전기차 大戰 '충전 ON'    \n",
      "12            테슬라와 리비안의 시소게임…美 전기차 대장주의 엇갈리는 시세, 왜?    \n",
      "13          “전기차 수요 폭발…이차전지 시장, 2030년 2510억弗 규모 전망”    \n",
      "14                             1억4630만원 BMW 전기차 나왔다    \n",
      "15                 정의선 \"미국서 전기차 생산 계획\" 공식 언급…시기는 미정    \n",
      "16                           中 오포, 이르면 2년내 첫 전기차 출시    \n",
      "17                 EV9에 니로까지 전기차 라인업 확대…전동화 꿈틀대는 기아    \n",
      "18                                   전기차 大戰 '충전 ON'    \n",
      "19            테슬라와 리비안의 시소게임…美 전기차 대장주의 엇갈리는 시세, 왜?    \n",
      "20                     \"턱 없이 부족한 전기차 공용충전기, 원인은...\"    \n",
      "21                        양주 옥정신도시에 초급속 전기차 충전시설 구축    \n",
      "22          “전기차 수요 폭발…이차전지 시장, 2030년 2510억弗 규모 전망”    \n",
      "23                             1억4630만원 BMW 전기차 나왔다    \n",
      "24            아우디, 서울모빌리티쇼에 전기차 'Q4 e-트론' 등 18대 총출동    \n",
      "25                 文만난 코스타리카 대통령 \"한국의 수소·전기차 우선 고려\"    \n",
      "26                           GM, 전기차 이어 전기보트 시장 노린다    \n",
      "27            여한구 \"한미 신통상 공조 강화…철강·전기차 등 현안 해결도 요구\"    \n",
      "28               \"전기차 구독하세요\"…현대차, 모빌리티 구독 플랫폼 제주 진출    \n",
      "29              '수소에 전기차까지'...SK E&S, ‘자본잠식’ 회사에 베팅    \n",
      "\n",
      "                                                 기사주소  \n",
      "0   https://m.news.naver.com/read?mode=LSD&mid=sec...  \n",
      "1   https://m.news.naver.com/read?mode=LSD&mid=sec...  \n",
      "2   https://m.news.naver.com/read?mode=LSD&mid=sec...  \n",
      "3   https://m.news.naver.com/read?mode=LSD&mid=sec...  \n",
      "4   https://m.news.naver.com/read?mode=LSD&mid=sec...  \n",
      "5   https://m.news.naver.com/read?mode=LSD&mid=sec...  \n",
      "6   https://m.news.naver.com/read?mode=LSD&mid=sec...  \n",
      "7   https://m.news.naver.com/read?mode=LSD&mid=sec...  \n",
      "8   https://m.news.naver.com/read?mode=LSD&mid=sec...  \n",
      "9   https://m.news.naver.com/read?mode=LSD&mid=sec...  \n",
      "10  https://m.news.naver.com/read?mode=LSD&mid=sec...  \n",
      "11  https://m.news.naver.com/read?mode=LSD&mid=sec...  \n",
      "12  https://m.news.naver.com/read?mode=LSD&mid=sec...  \n",
      "13  https://m.news.naver.com/read?mode=LSD&mid=sec...  \n",
      "14  https://m.news.naver.com/read?mode=LSD&mid=sec...  \n",
      "15  https://m.news.naver.com/read?mode=LSD&mid=sec...  \n",
      "16  https://m.news.naver.com/read?mode=LSD&mid=sec...  \n",
      "17  https://m.news.naver.com/read?mode=LSD&mid=sec...  \n",
      "18  https://m.news.naver.com/read?mode=LSD&mid=sec...  \n",
      "19  https://m.news.naver.com/read?mode=LSD&mid=sec...  \n",
      "20  https://m.news.naver.com/read?mode=LSD&mid=sec...  \n",
      "21  https://m.news.naver.com/read?mode=LSD&mid=sec...  \n",
      "22  https://m.news.naver.com/read?mode=LSD&mid=sec...  \n",
      "23  https://m.news.naver.com/read?mode=LSD&mid=sec...  \n",
      "24  https://m.news.naver.com/read?mode=LSD&mid=sec...  \n",
      "25  https://m.news.naver.com/read?mode=LSD&mid=sec...  \n",
      "26  https://m.news.naver.com/read?mode=LSD&mid=sec...  \n",
      "27  https://m.news.naver.com/read?mode=LSD&mid=sec...  \n",
      "28  https://m.news.naver.com/read?mode=LSD&mid=sec...  \n",
      "29  https://m.news.naver.com/read?mode=LSD&mid=sec...  \n"
     ]
    }
   ],
   "source": [
    "import requests\n",
    "from bs4 import BeautifulSoup\n",
    "import pandas as pd\n",
    "\n",
    "#result_df = pd.DataFrame()\n",
    "\n",
    "titles = []\n",
    "search_word = '전기차'\n",
    "i = '10'\n",
    "\n",
    "for i in range(1, 10, 5):\n",
    "    \n",
    "    url = f'https://m.search.naver.com/search.naver?where=m_news&sm=mtb_jum&query={search_word}&start={i}'\n",
    "    req = requests.get(url)\n",
    "    html = req.text\n",
    "    soup = BeautifulSoup(html, 'html.parser')\n",
    "    search_result = soup.select_one('.list_news')\n",
    "\n",
    "\n",
    "    news_links = soup.find_all(\"a\", attrs = {\"class\":\"news_tit\"})\n",
    "\n",
    "    for title in news_links:\n",
    "        titles.append(title.get_text())\n",
    "        #a_tag = search_result.select('#news_result_list > li:nth-child(1) > div > a')\n",
    "        \n",
    "        #linsk = soup.select('a[href]')\n",
    "\n",
    "             \n",
    "        url = title.attrs['href']  \n",
    "        #url = title.attrs[ url['href'] for url in soup.find_all('a', attrs={'class':'news_tit'}) ]\n",
    "        \n",
    "        #titles.append(url)\n",
    "        \n",
    "\n",
    "\n",
    "    #import json\n",
    "\n",
    "\n",
    "    #with open(\"data.json\", \"w\", encoding='utf-8') as f: \n",
    "     #   json.dump(titles, f, ensure_ascii=False)    \n",
    "    \n",
    "\n",
    "    news_df = pd.DataFrame({ '기사 제목':titles,'기사주소':url})\n",
    "    \n",
    "    news_df.to_csv(\"news.csv\", encoding='euc-kr')\n",
    "    \n",
    "    \n",
    "print(df)\n",
    "#soup\n",
    "#print(html)"
   ]
  },
  {
   "cell_type": "code",
   "execution_count": 2,
   "id": "43256833",
   "metadata": {},
   "outputs": [
    {
     "name": "stdout",
     "output_type": "stream",
     "text": [
      "{\n",
      "\"lastBuildDate\": \"Wed, 24 Nov 2021 20:14:26 +0900\",\n",
      "\"total\": 687794,\n",
      "\"start\": 1,\n",
      "\"display\": 10,\n",
      "\"items\": [\n",
      "{\n",
      "\"title\": \"대미 수출 비중 ‘17년 만에 최대’… 반도체·이차전지 타고 한국 수출구도도...\",\n",
      "\"originallink\": \"https://hankookilbo.com/News/Read/A2021112409130003734?did=NA\",\n",
      "\"link\": \"https://news.naver.com/main/read.naver?mode=LSD&mid=sec&sid1=101&oid=469&aid=0000643078\",\n",
      "\"description\": \"따른 <b>전기차</b> 배터리 수요로 반도체와 이차전지 등의 대미 수출이 최근 2년간 50%나 급증하면서 수출 비중도 늘었다. 특히 국내 기업들의 중국 현지매출은 2013년 정점(2,502억 달러)을 찍었다가 2019년 1,475억 달러까지... \",\n",
      "\"pubDate\": \"Wed, 24 Nov 2021 20:01:00 +0900\"\n",
      "\n",
      "},\n",
      "{\n",
      "\"title\": \"“<b>전기차</b> 덕에… 車 디자인에도 변화 가능성 열려”\",\n",
      "\"originallink\": \"http://www.segye.com/content/html/2021/11/24/20211124515575.html?OutUrl=naver\",\n",
      "\"link\": \"https://news.naver.com/main/read.naver?mode=LSD&mid=sec&sid1=103&oid=022&aid=0003641340\",\n",
      "\"description\": \"특성” “<b>전기차</b> 덕분에 자동차 디자인에도 변화의 가능성이 열렸다.” 세계적 자동차 디자이너인 피터... 슈라이어 사장은 “<b>전기차</b>나 자율주행 같은 기술은 구동 방식, 내장 디자인 등 차의 운영방식을 크게 바꿀 것”... \",\n",
      "\"pubDate\": \"Wed, 24 Nov 2021 19:58:00 +0900\"\n",
      "\n",
      "},\n",
      "{\n",
      "\"title\": \"대구 스타벤처기업 네트워킹데이…유니콘 육성\",\n",
      "\"originallink\": \"http://www.dkilbo.com/news/articleView.html?idxno=350170\",\n",
      "\"link\": \"http://www.dkilbo.com/news/articleView.html?idxno=350170\",\n",
      "\"description\": \"난치성 신경질환 치료제를 개발하는 ㈜아스트로젠(2020년)도 중소벤처기업부 아기유니콘 선정 및 150억 투자유치를 이끌어 냈고, 모빌리티분야 혁신기업으로 주목받고 있는 ㈜드림에이스는 올해 미국 폭스콘의 <b>전기차</b>... \",\n",
      "\"pubDate\": \"Wed, 24 Nov 2021 19:56:00 +0900\"\n",
      "\n",
      "},\n",
      "{\n",
      "\"title\": \"[산학협력단 브리핑] <b>전기차</b> 전성시대\",\n",
      "\"originallink\": \"http://www.ggilbo.com/news/articleView.html?idxno=881577\",\n",
      "\"link\": \"http://www.ggilbo.com/news/articleView.html?idxno=881577\",\n",
      "\"description\": \"이호근 대덕대 자동차학과 교수 미국 <b>전기차</b> 기업 '리비안'이 테슬라의 대항마로 지난주 화려하게 시장... 리비안은 2009년 설립됐고, 미국에서 인기가 많은 픽업트럭을 <b>전기차</b>로 만드는데 있어서는 가장 경쟁력이 앞선... \",\n",
      "\"pubDate\": \"Wed, 24 Nov 2021 19:54:00 +0900\"\n",
      "\n",
      "},\n",
      "{\n",
      "\"title\": \"폴스타 '프리셉트 콘셉트', 2024년 '폴스타5'로 등장\",\n",
      "\"originallink\": \"http://www.gpkorea.com/news/articleView.html?idxno=80283\",\n",
      "\"link\": \"http://www.gpkorea.com/news/articleView.html?idxno=80283\",\n",
      "\"description\": \"볼보 <b>전기차</b> 브랜드 폴스타는 지난해 새로운 EV 모델로 프리셉트 콘셉트를 선보였으며 지난 23일(현지시간)에는 소셜미디어 계정을 통해 생산 준비가 거의 완료된 시제품 사진을 공개했다. 이미지 속 차량은 패스트백과... \",\n",
      "\"pubDate\": \"Wed, 24 Nov 2021 19:38:00 +0900\"\n",
      "\n",
      "},\n",
      "{\n",
      "\"title\": \"저비용에 파격 인센티브, 배터리업계 `선벨트`로 집결\",\n",
      "\"originallink\": \"http://www.dt.co.kr/contents.html?article_no=2021112502101632033001&ref=naver\",\n",
      "\"link\": \"https://news.naver.com/main/read.naver?mode=LSD&mid=sec&sid1=101&oid=029&aid=0002707883\",\n",
      "\"description\": \"미국에서 생산되는 도요타의 하이브리드차(HEV)는 물론 순수 <b>전기차</b>에 탑재될 배터리를 자체적으로 조달하겠다는 구상으로 보인다. 앞서 도요타는 미국내 <b>전기차</b> 배터리 사업을 위해 총 34억 달러(약 4조원)을... \",\n",
      "\"pubDate\": \"Wed, 24 Nov 2021 19:36:00 +0900\"\n",
      "\n",
      "},\n",
      "{\n",
      "\"title\": \"친환경사업 투자 신한카드, 1000억 `ESG 채권` 발행\",\n",
      "\"originallink\": \"http://www.dt.co.kr/contents.html?article_no=2021112502100963075002&ref=naver\",\n",
      "\"link\": \"https://news.naver.com/main/read.naver?mode=LSD&mid=sec&sid1=101&oid=029&aid=0002707878\",\n",
      "\"description\": \"3년 만기, 2.478% 금리로 발행된 이 채권은 재생에너지, <b>전기차</b>, 고효율 에너지 등 친환경적인 사업분야에 투자할 자금조달을 목적으로 발행한 그린본드다. 조달된 자금은 <b>전기차</b> 등 친환경 차량을 구매하는 고객에게... \",\n",
      "\"pubDate\": \"Wed, 24 Nov 2021 19:34:00 +0900\"\n",
      "\n",
      "},\n",
      "{\n",
      "\"title\": \"“집·자동차 드려요”…오스트리아서 ‘백신 복권’ 출시\",\n",
      "\"originallink\": \"http://www.ichannela.com/news/main/news_detailPage.do?publishId=000000274999\",\n",
      "\"link\": \"https://news.naver.com/main/read.naver?mode=LSD&mid=sec&sid1=104&oid=449&aid=0000218354\",\n",
      "\"description\": \"오스트리아 공영방송은 백신 접종자를 대상으로 단독주택과 <b>전기차</b> 등을 1천 개의 경품을 주는 '백신 복권'을 출시했습니다. [수잔 드라팔릭/ 오스트리아 사마리아인 연합 회장] &quot;이 센터와 빈뿐만 아니라 오스트리아... \",\n",
      "\"pubDate\": \"Wed, 24 Nov 2021 19:32:00 +0900\"\n",
      "\n",
      "},\n",
      "{\n",
      "\"title\": \"고급 <b>전기차</b> '샤이 테크' 열풍…수줍음으로 빚은 럭셔리\",\n",
      "\"originallink\": \"http://www.econovill.com/news/articleView.html?idxno=556704\",\n",
      "\"link\": \"http://www.econovill.com/news/articleView.html?idxno=556704\",\n",
      "\"description\": \" 샤이 테크(shy tech)가 최근 고급 <b>전기차</b> 시장에서 새로운 화두로 떠오르고 있다. 샤이 테크는 평소 이용자... 첨단 기능을 제공하는 동시에 차량의 디자인을 단순화시킴으로써 <b>전기차</b>의 고급감을 강화하는 요소로... \",\n",
      "\"pubDate\": \"Wed, 24 Nov 2021 19:24:00 +0900\"\n",
      "\n",
      "},\n",
      "{\n",
      "\"title\": \"충전 중 SM3 <b>전기차</b>서 불…주민 긴급 대피\",\n",
      "\"originallink\": \"http://mbn.mk.co.kr/pages/news/newsView.php?category=mbn00009&news_seq_no=4645766\",\n",
      "\"link\": \"https://news.naver.com/main/read.naver?mode=LSD&mid=sec&sid1=102&oid=057&aid=0001623718\",\n",
      "\"description\": \"오늘(24일) 오전 8시쯤 충북 충주시 호암동의 한 아파트 지하주차장에 세워진 르노삼성 SM3 Z.E <b>전기차</b>에서 불이 나 1시간 20분 만에 꺼졌습니다. 당시 <b>전기차</b>는 급속 충전기와 연결된 상태로, 불길에 휩싸이자 주차장에... \",\n",
      "\"pubDate\": \"Wed, 24 Nov 2021 19:20:00 +0900\"\n",
      "\n",
      "}\n",
      "]\n",
      "}\n",
      "\n"
     ]
    }
   ],
   "source": [
    "import urllib.request\n",
    "\n",
    "client_id = \"5nrnaEfIpurFYmS5F4WP\"\n",
    "client_secret = \"vR2SYXZNPB\"\n",
    "encText = urllib.parse.quote(\"전기차\") # 검색할 키워드\n",
    "\n",
    "url = \"https://openapi.naver.com/v1/search/news?query=\" + encText # json 결과가 필요할 때 사용\n",
    "# url = \"https://openapi.naver.com/v1/search/news.xml?query=\" + encText # xml 결과가 필요할 때 사용\n",
    "\n",
    "request = urllib.request.Request(url)\n",
    "request.add_header(\"X-Naver-Client-Id\", client_id)\n",
    "request.add_header(\"X-Naver-Client-Secret\", client_secret)\n",
    "response = urllib.request.urlopen(request)\n",
    "rescode = response.getcode()\n",
    "if(rescode == 200):\n",
    "    response_body = response.read()\n",
    "    print(response_body.decode('utf-8'))\n",
    "    \n",
    "else:\n",
    "    print(\"Error Code:\" + rescode)\n",
    "\n",
    "\n",
    "\n"
   ]
  },
  {
   "cell_type": "code",
   "execution_count": null,
   "outputs": [
    {
     "name": "stdout",
     "output_type": "stream",
     "text": [
      " * Serving Flask app \"__main__\" (lazy loading)\r\n",
      " * Environment: production\r\n",
      "   WARNING: This is a development server. Do not use it in a production deployment.\r\n",
      "   Use a production WSGI server instead.\r\n",
      " * Debug mode: off\r\n"
     ]
    },
    {
     "name": "stderr",
     "output_type": "stream",
     "text": [
      " * Running on http://127.0.0.1:5000/ (Press CTRL+C to quit)\n",
      "127.0.0.1 - - [24/Nov/2021 20:01:32] \"\u001B[33mGET / HTTP/1.1\u001B[0m\" 404 -\n",
      "127.0.0.1 - - [24/Nov/2021 20:01:32] \"\u001B[33mGET /favicon.ico HTTP/1.1\u001B[0m\" 404 -\n",
      "127.0.0.1 - - [24/Nov/2021 20:01:35] \"\u001B[37mGET /news HTTP/1.1\u001B[0m\" 200 -\n"
     ]
    }
   ],
   "source": [
    "!pip install flask_cors"
   ],
   "metadata": {
    "collapsed": false,
    "pycharm": {
     "name": "#%%\n"
    }
   }
  },
  {
   "cell_type": "code",
   "execution_count": 1,
   "outputs": [
    {
     "name": "stdout",
     "output_type": "stream",
     "text": [
      "{'lastBuildDate': 'Mon, 29 Nov 2021 16:28:14 +0900', 'total': 690622, 'start': 1, 'display': 10, 'items': [{'title': '대학생들이 만든 자율주행車… 서울 도심 4km 완주', 'originallink': 'https://biz.newdaily.co.kr/site/data/html/2021/11/29/2021112900150.html', 'link': 'https://biz.newdaily.co.kr/site/data/html/2021/11/29/2021112900150.html', 'description': '올해는 <b>전기차</b> 기반으로 실제 도심 교통환경에서 자율주행 기술 연구 활성화를 위해 현대차그룹과... 지난 대회까지는 내연기관차를 활용했지만 이번에는 현대차그룹이 제공한 ‘니로 EV’를 이용해 최초로 <b>전기차</b> 기반... ', 'pubDate': 'Mon, 29 Nov 2021 16:26:00 +0900'}, {'title': \"현대차·서울시, 대학생 대상 '2021 자율주행 챌린지' 본선 개최\", 'originallink': 'https://www.asiatoday.co.kr/view.php?key=20211129010017323', 'link': 'https://www.asiatoday.co.kr/view.php?key=20211129010017323', 'description': '올해는 <b>전기차</b>를 기반으로 실제 도심 교통환경에서의 자율주행 기술 연구 활성화를 위해 현대차그룹과... 또한 이번 참가팀들은 현대차그룹이 제공한 니로EV를 이용해 최초로 <b>전기차</b> 기반 자율주행차를 제작했다.... ', 'pubDate': 'Mon, 29 Nov 2021 16:26:00 +0900'}, {'title': \"아우디, 2021서울모빌리티쇼서 1회 충전 시 700km 이상 주행 가능한 'A6 e-트...\", 'originallink': 'http://kr.aving.net/news/view.php?articleId=1659114&Branch_ID=kr&rssid=naver&mn_name=news', 'link': 'http://kr.aving.net/news/view.php?articleId=1659114&Branch_ID=kr&rssid=naver&mn_name=news', 'description': '브랜드의 <b>전기차</b>에서 공통적으로 볼 수 있는 대표적인 디자인 요소인 블랙 인레이가 적용되었다. 또한... 아우디 A6 e-트론 컨셉트의 전면부를 통해 아우디를 대표하는 <b>전기차</b>임을 확인할 수 있다. 눈에 띄는 특징은... ', 'pubDate': 'Mon, 29 Nov 2021 16:26:00 +0900'}, {'title': \"삼성카드, <b>전기차</b> 충전 최대 70% 할인 '삼성 iD EV 카드' 출시\", 'originallink': 'https://daily.hankooki.com/lpage/finance/202111/dh20211129162109148310.htm?s_ref=nv', 'link': 'https://daily.hankooki.com/lpage/finance/202111/dh20211129162109148310.htm?s_ref=nv', 'description': \"삼성카드는 <b>전기차</b> 소유주 취향에 맞춘 혜택을 담은 '삼성 iD EV 카드'를 선보인다고 29일 밝혔다. '삼성 iD EV 카드'는 전월 이용금액에 따라 <b>전기차</b> 충전요금을 최대 70% 할인받을 수 있다. 전월 이용금액이 30만원... \", 'pubDate': 'Mon, 29 Nov 2021 16:26:00 +0900'}, {'title': '현대차그룹, 자율주행 상용화 가속페달 밟는다', 'originallink': 'http://www.inews24.com/view/1427453', 'link': 'https://news.naver.com/main/read.naver?mode=LSD&mid=sec&sid1=101&oid=031&aid=0000639280', 'description': '한편 현대차그룹은 지난 8월 모셔널과 함께 현대차의 전용 <b>전기차</b> 모델 아이오닉 5를 기반으로 개발한 로보택시를 공개한 바 있다. 모셔널은 현대차와 미국 자율주행 기술기업 앱티브의 합작법인이다. 아이오닉 5... ', 'pubDate': 'Mon, 29 Nov 2021 16:23:00 +0900'}, {'title': \"내년 <b>전기차</b> 판도 바뀐다…한국·미국 '도약'·중국 '둔화'\", 'originallink': 'http://www.newstomato.com/ReadNews.aspx?no=1090451&inflow=N', 'link': 'http://www.newstomato.com/ReadNews.aspx?no=1090451&inflow=N', 'description': \"뉴스토마토 = 조재훈 기자 | 한국과 미국이 <b>전기차</b>(EV) 시장의 '블루오션'으로 떠올랐다. 기존 전세계 최대... 여기에는 리비안 R1T, 테슬라 사이버트럭, GM 허머 EV, 포드 F-150 라이트닝 등 '미국 <b>전기차</b>의 자존심'이라... \", 'pubDate': 'Mon, 29 Nov 2021 16:20:00 +0900'}, {'title': \"국립중앙과학관, '초고속 <b>전기차</b> 충전소' 운영\", 'originallink': 'http://www.joongdo.co.kr/web/view.php?key=20211129010006424', 'link': 'http://www.joongdo.co.kr/web/view.php?key=20211129010006424', 'description': \"초고속 <b>전기차</b> 충전소가 설치돼 29일부터 운영에 들어갔다. 충전소는 최대 260kW까지 초고속 충전이 가능한 충전기 4기와 100kW 급속 충전기 2기 등 총 6기로 구성됐다. 기본 충전방식은 국내 <b>전기차</b> 충전 표준인 'DC콤보... \", 'pubDate': 'Mon, 29 Nov 2021 16:20:00 +0900'}, {'title': 'KTB네트워크는 VC ‘대장주’에 오를까', 'originallink': 'https://www.fetv.co.kr/news/article.html?no=101948', 'link': 'https://www.fetv.co.kr/news/article.html?no=101948', 'description': '미국 바이오 기업 카스젠에서 11배, 미국 바이오 연구장비 기업 버클리라이츠에서 8배, 중국 <b>전기차</b> 업체 샤오펑에서 5배에 육박하는 평가이익을 창출했다. 인도네시아 모빌리티 플랫폼 그랩과 미국 핀테크 플랫폼... ', 'pubDate': 'Mon, 29 Nov 2021 16:20:00 +0900'}, {'title': '[데일리픽] &quot;스파이더맨 보면 NFT 드려요&quot;…오미크론 백신 개발 박차', 'originallink': 'http://www.digitaltoday.co.kr/news/articleView.html?idxno=426416', 'link': 'http://www.digitaltoday.co.kr/news/articleView.html?idxno=426416', 'description': '<b>전기차</b> 충전소에서 충전 중인 폭스바겐 <b>전기차</b> [사진: 셔터스톡] ■ 독일, 2030년 내연기관차량 운행 금지 독일 정부가 오는 2030년까지 독일 전역에 내연기관차량 운행을 금지하고 <b>전기차</b> 1500만대를 보급하는 등... ', 'pubDate': 'Mon, 29 Nov 2021 16:20:00 +0900'}, {'title': \"DS 오토모빌, 포뮬러 E 출전 차량 'DS E-텐스 FE21' 새 디자인 공개\", 'originallink': 'http://digitalchosun.dizzo.com/site/data/html_dir/2021/11/29/2021112980162.html', 'link': 'http://digitalchosun.dizzo.com/site/data/html_dir/2021/11/29/2021112980162.html', 'description': '성열휘 기자 | DS 오토모빌(이하 DS)의 <b>전기차</b> 레이싱 팀 DS 테치타가 지난 26일(프랑스 현지 시각)... 닦은 <b>전기차</b> 기술과 노하우를 양산 모델에 꾸준히 적용해 나갈 계획&quot;이라고 말했다. DS 테치타는 지난 2018/19... ', 'pubDate': 'Mon, 29 Nov 2021 16:18:00 +0900'}]}\n"
     ]
    }
   ],
   "source": [
    "# 네이버 뉴스 api json\n",
    "import requests\n",
    "\n",
    "client_id = \"5nrnaEfIpurFYmS5F4WP\"\n",
    "client_secret = \"vR2SYXZNPB\"\n",
    "\n",
    "keyword = '전기차'\n",
    "url = \"https://openapi.naver.com/v1/search/news.json\"\n",
    "\n",
    "headers = {\"X-Naver-Client-Id\":client_id, \"X-Naver-Client-Secret\":client_secret}\n",
    "\n",
    "params = {'query':keyword, 'display':10, 'start':1, 'sort':'date'}\n",
    "\n",
    "r = requests.get(url, params = params, headers = headers)\n",
    "\n",
    "j = r.json()\n",
    "print(j)"
   ],
   "metadata": {
    "collapsed": false,
    "pycharm": {
     "name": "#%%\n"
    }
   }
  },
  {
   "cell_type": "code",
   "execution_count": null,
   "outputs": [
    {
     "name": "stdout",
     "output_type": "stream",
     "text": [
      " * Serving Flask app \"__main__\" (lazy loading)\r\n",
      " * Environment: production\r\n",
      "   WARNING: This is a development server. Do not use it in a production deployment.\r\n",
      "   Use a production WSGI server instead.\r\n",
      " * Debug mode: off\r\n"
     ]
    },
    {
     "name": "stderr",
     "output_type": "stream",
     "text": [
      " * Running on http://127.0.0.1:5000/ (Press CTRL+C to quit)\n",
      "127.0.0.1 - - [29/Nov/2021 16:28:28] \"\u001B[33mGET / HTTP/1.1\u001B[0m\" 404 -\n",
      "127.0.0.1 - - [29/Nov/2021 16:28:29] \"\u001B[33mGET /favicon.ico HTTP/1.1\u001B[0m\" 404 -\n",
      "127.0.0.1 - - [29/Nov/2021 16:28:33] \"\u001B[37mGET /news HTTP/1.1\u001B[0m\" 200 -\n",
      "127.0.0.1 - - [29/Nov/2021 16:28:34] \"\u001B[33mGET /images/icons/gear.png HTTP/1.1\u001B[0m\" 404 -\n",
      "127.0.0.1 - - [29/Nov/2021 16:40:18] \"\u001B[37mGET /news HTTP/1.1\u001B[0m\" 200 -\n"
     ]
    }
   ],
   "source": [
    "from flask import Flask, request, jsonify\n",
    "from flask_cors import CORS\n",
    "\n",
    "app = Flask(__name__)\n",
    "CORS(app)\n",
    "\n",
    "@app.route('/news') #test api\n",
    "def news():\n",
    "    return j\n",
    "\n",
    "if __name__ == \"__main__\":\n",
    "    app.run()"
   ],
   "metadata": {
    "collapsed": false,
    "pycharm": {
     "name": "#%%\n",
     "is_executing": true
    }
   }
  },
  {
   "cell_type": "code",
   "execution_count": null,
   "outputs": [],
   "source": [],
   "metadata": {
    "collapsed": false,
    "pycharm": {
     "name": "#%%\n"
    }
   }
  }
 ],
 "metadata": {
  "kernelspec": {
   "display_name": "Python 3",
   "language": "python",
   "name": "python3"
  },
  "language_info": {
   "codemirror_mode": {
    "name": "ipython",
    "version": 3
   },
   "file_extension": ".py",
   "mimetype": "text/x-python",
   "name": "python",
   "nbconvert_exporter": "python",
   "pygments_lexer": "ipython3",
   "version": "3.8.8"
  }
 },
 "nbformat": 4,
 "nbformat_minor": 5
}