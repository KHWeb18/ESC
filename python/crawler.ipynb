{
 "cells": [
  {
   "cell_type": "code",
   "execution_count": 1,
   "id": "27e6d4f7",
   "metadata": {},
   "outputs": [
    {
     "name": "stdout",
     "output_type": "stream",
     "text": [
      "Requirement already satisfied: requests in c:\\users\\ms109\\anaconda3\\lib\\site-packages (2.25.1)\n",
      "Requirement already satisfied: beautifulsoup4 in c:\\users\\ms109\\anaconda3\\lib\\site-packages (4.9.3)\n",
      "Requirement already satisfied: soupsieve>1.2 in c:\\users\\ms109\\anaconda3\\lib\\site-packages (from beautifulsoup4) (2.2.1)\n",
      "Requirement already satisfied: urllib3<1.27,>=1.21.1 in c:\\users\\ms109\\anaconda3\\lib\\site-packages (from requests) (1.26.4)\n",
      "Requirement already satisfied: idna<3,>=2.5 in c:\\users\\ms109\\anaconda3\\lib\\site-packages (from requests) (2.10)\n",
      "Requirement already satisfied: certifi>=2017.4.17 in c:\\users\\ms109\\anaconda3\\lib\\site-packages (from requests) (2020.12.5)\n",
      "Requirement already satisfied: chardet<5,>=3.0.2 in c:\\users\\ms109\\anaconda3\\lib\\site-packages (from requests) (4.0.0)\n",
      "Note: you may need to restart the kernel to use updated packages.\n"
     ]
    }
   ],
   "source": [
    "pip install requests beautifulsoup4"
   ]
  },
  {
   "cell_type": "code",
   "execution_count": 2,
   "id": "e49764d8",
   "metadata": {},
   "outputs": [
    {
     "name": "stdout",
     "output_type": "stream",
     "text": [
      "Requirement already satisfied: selenium in c:\\users\\ms109\\anaconda3\\lib\\site-packages (4.0.0)\n",
      "Requirement already satisfied: urllib3[secure]~=1.26 in c:\\users\\ms109\\anaconda3\\lib\\site-packages (from selenium) (1.26.4)\n",
      "Requirement already satisfied: trio-websocket~=0.9 in c:\\users\\ms109\\anaconda3\\lib\\site-packages (from selenium) (0.9.2)\n",
      "Requirement already satisfied: trio~=0.17 in c:\\users\\ms109\\anaconda3\\lib\\site-packages (from selenium) (0.19.0)\n",
      "Requirement already satisfied: outcome in c:\\users\\ms109\\anaconda3\\lib\\site-packages (from trio~=0.17->selenium) (1.1.0)\n",
      "Requirement already satisfied: attrs>=19.2.0 in c:\\users\\ms109\\anaconda3\\lib\\site-packages (from trio~=0.17->selenium) (20.3.0)\n",
      "Requirement already satisfied: cffi>=1.14 in c:\\users\\ms109\\anaconda3\\lib\\site-packages (from trio~=0.17->selenium) (1.14.5)\n",
      "Requirement already satisfied: sortedcontainers in c:\\users\\ms109\\anaconda3\\lib\\site-packages (from trio~=0.17->selenium) (2.3.0)\n",
      "Requirement already satisfied: idna in c:\\users\\ms109\\anaconda3\\lib\\site-packages (from trio~=0.17->selenium) (2.10)\n",
      "Requirement already satisfied: sniffio in c:\\users\\ms109\\anaconda3\\lib\\site-packages (from trio~=0.17->selenium) (1.2.0)\n",
      "Requirement already satisfied: async-generator>=1.9 in c:\\users\\ms109\\anaconda3\\lib\\site-packages (from trio~=0.17->selenium) (1.10)\n",
      "Requirement already satisfied: pycparser in c:\\users\\ms109\\anaconda3\\lib\\site-packages (from cffi>=1.14->trio~=0.17->selenium) (2.20)\n",
      "Requirement already satisfied: wsproto>=0.14 in c:\\users\\ms109\\anaconda3\\lib\\site-packages (from trio-websocket~=0.9->selenium) (1.0.0)\n",
      "Requirement already satisfied: cryptography>=1.3.4 in c:\\users\\ms109\\anaconda3\\lib\\site-packages (from urllib3[secure]~=1.26->selenium) (3.4.7)\n",
      "Requirement already satisfied: pyOpenSSL>=0.14 in c:\\users\\ms109\\anaconda3\\lib\\site-packages (from urllib3[secure]~=1.26->selenium) (20.0.1)\n",
      "Requirement already satisfied: certifi in c:\\users\\ms109\\anaconda3\\lib\\site-packages (from urllib3[secure]~=1.26->selenium) (2020.12.5)\n",
      "Requirement already satisfied: six>=1.5.2 in c:\\users\\ms109\\anaconda3\\lib\\site-packages (from pyOpenSSL>=0.14->urllib3[secure]~=1.26->selenium) (1.15.0)\n",
      "Requirement already satisfied: h11<1,>=0.9.0 in c:\\users\\ms109\\anaconda3\\lib\\site-packages (from wsproto>=0.14->trio-websocket~=0.9->selenium) (0.12.0)\n",
      "Note: you may need to restart the kernel to use updated packages.\n"
     ]
    }
   ],
   "source": [
    "pip install selenium"
   ]
  },
  {
   "cell_type": "code",
   "execution_count": 23,
   "id": "a69dcbe5",
   "metadata": {
    "scrolled": false
   },
   "outputs": [
    {
     "name": "stdout",
     "output_type": "stream",
     "text": [
      "[' 한-헝가리 정상회담…文 \"전기차 배터리 등 유망산업 교역확대\" ', ' 현대홈쇼핑, 업계 최초로 전기차 당일 배송 서비스 운영 ', ' 현대차그룹, 서울대와 손잡고 미래 전기차 기술 선점 나선다 ', ' 중국 전기차 바이톤 파산 위기…中당국 “살 곳만 살아야” ', \" [단독] 현대차, 승부수 던졌다…'GV70 전기차' 미국서 생산 \", ' 테슬라 잡은 현대차, 국내 전기차 판매 1위 질주 ', \" 정의선 전기차 배터리 승부수..서울대 연구센터 설립 '300억 투자' \", \" 볼보, 2030년까지 '전기차 기업 전환' 선언…각국에 청정에너지 투자 촉구 \", \" '싼' 배터리 찾는 전기차…LFP가 '대세' 될까 \", ' 문 대통령 \"헝가리와 전기차 배터리 등 미래산업 교역 확대\" ', \" 韓-헝가리 '전략적 동반자 관계' 격상…전기차 배터리 등 협력 심화 \", ' [증시이슈]LG화학, 연이은 전기차 화재에 5.66% 하락 마감 ', \" 세계 전기차·배터리·광산업계, 리튬 확보 '합종연횡' 치열 \", ' 한-V4 기업, 전기차 배터리 등 협력MOU…유럽시장 공동개척 ', ' 애경그룹, IT 신설법인 설립…\"전기차 충전사업 검토\" ']\n"
     ]
    }
   ],
   "source": [
    "import requests\n",
    "from bs4 import BeautifulSoup\n",
    "\n",
    "\n",
    "titles = []\n",
    "search_word = '전기차'\n",
    "url = f'https://m.search.naver.com/search.naver?where=m_news&sm=mtb_jum&query={search_word}'\n",
    "req = requests.get(url)\n",
    "html = req.text\n",
    "soup = BeautifulSoup(html, 'html.parser')\n",
    "search_result = soup.select_one('.list_news')\n",
    "\n",
    "\n",
    "news_links = search_result.select('.bx > .news_wrap > a' )\n",
    "\n",
    "for title in news_links:\n",
    "    titles.append(title.get_text())\n",
    "    \n",
    "\n",
    "import json\n",
    "\n",
    "\n",
    "with open(\"data.json\", \"w\", encoding='utf-8') as f: \n",
    "    json.dump(titles, f, ensure_ascii=False)    \n",
    "    \n",
    "\n",
    "    \n",
    "print(titles)\n",
    "#soup\n",
    "#print(html)\n",
    "\n",
    "app = Flask(__name__)\n",
    "CORS(app)\n",
    "\n",
    "@app.route('/test', methods = ['GET', 'POST'])\n",
    "def test():\n",
    "    data = {\"success\": True}\n",
    "    \n",
    "    data[\"userId\"] = \"blabla\"\n",
    "    data[\"email\"] = \"blabla@gmail.com\"\n",
    "    \n",
    "    return jsonify(data)\n"
   ]
  },
  {
   "cell_type": "code",
   "execution_count": 4,
   "id": "6ff9d713",
   "metadata": {},
   "outputs": [],
   "source": [
    "from flask import Flask, url_for, request, jsonify\n",
    "from flask_cors import CORS, cross_origin\n",
    "\n",
    "import json"
   ]
  },
  {
   "cell_type": "code",
   "execution_count": 8,
   "id": "dfbfeb16",
   "metadata": {},
   "outputs": [],
   "source": [
    "#예시\n",
    "\n",
    "import json\n",
    "\n",
    "dict_example = {'Name': 'Juno', 'Age':3, 'School':'Kindergarten'} \n",
    "\n",
    "with open(\"name.json\", \"w\") as f: \n",
    "    json.dump(dict_example, f)\n",
    "\n",
    "app = Flask(__name__)\n",
    "CORS(app)\n",
    "\n",
    "# json 형식으로 success(성공여부 - True) 전달해보기\n",
    "@app.route('/spring2pythonRequest', methods = ['GET', 'POST'])\n",
    "def spring2pythonRequest():\n",
    "    data = {\"success\": True}\n",
    "    \n",
    "    return jsonify(data)\n",
    "\n",
    "# 이번에는 좀 더 여러 정보를 전송해보자!\n",
    "@app.route('/spring2pythonRequestMulti', methods = ['GET', 'POST'])\n",
    "\n",
    "\n",
    "\n",
    "def spring2pythonRequestMulti():\n",
    "    data = {\"success\": True}\n",
    "    \n",
    "    data[\"userId\"] = \"blabla\"\n",
    "    data[\"email\"] = \"blabla@gmail.com\"\n",
    "    \n",
    "    return jsonify(data)"
   ]
  }
 ],
 "metadata": {
  "kernelspec": {
   "display_name": "Python 3",
   "language": "python",
   "name": "python3"
  },
  "language_info": {
   "codemirror_mode": {
    "name": "ipython",
    "version": 3
   },
   "file_extension": ".py",
   "mimetype": "text/x-python",
   "name": "python",
   "nbconvert_exporter": "python",
   "pygments_lexer": "ipython3",
   "version": "3.8.8"
  }
 },
 "nbformat": 4,
 "nbformat_minor": 5
}
