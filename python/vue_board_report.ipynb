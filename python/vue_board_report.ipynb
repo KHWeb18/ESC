{
 "cells": [
  {
   "cell_type": "code",
   "execution_count": 3,
   "id": "8e6ab912",
   "metadata": {},
   "outputs": [],
   "source": [
    "from flask import Flask, url_for, request, jsonify\n",
    "from flask_cors import CORS, cross_origin\n",
    "\n",
    "import json\n",
    "import requests\n",
    "import datetime\n",
    "import os"
   ]
  },
  {
   "cell_type": "code",
   "execution_count": 4,
   "id": "8e6554e9",
   "metadata": {},
   "outputs": [
    {
     "name": "stdout",
     "output_type": "stream",
     "text": [
      "{'access_token': '7wGtEmpDFGiziMbjMx2fjLPeOKE0TG4pWYaYtwo9dRsAAAF8_od0tw', 'token_type': 'bearer', 'refresh_token': 'zfgGxyEg6-xDFBvyn_DA4CX1Ze2aQkyPj8FT-Ao9dRsAAAF8_od0tw', 'expires_in': 21599, 'scope': 'account_email talk_message profile_nickname friends', 'refresh_token_expires_in': 5183999}\n"
     ]
    }
   ],
   "source": [
    "import requests\n",
    "\n",
    "url = \"https://kauth.kakao.com/oauth/token\"\n",
    "\n",
    "#data = {\n",
    "#    \"grant_type\" : \"authorization_code\",\n",
    "#    \"client_id\" : \"REST_API_키\",\n",
    "#    \"redirect_uri\" : \"https://localhost.com\",\n",
    "#    \"code\" : \"발급받은 토큰값\"\n",
    "#}\n",
    "\n",
    "data = {\n",
    "    \"grant_type\" : \"authorization_code\",\n",
    "    \"client_id\" : \"\",\n",
    "    \"redirect_uri\" : \"https://localhost.com\",\n",
    "    \"code\" : \"\"\n",
    "}\n",
    "\n",
    "response = requests.post(url, data=data)\n",
    "\n",
    "if response.status_code != 200:\n",
    "    print(\"Error!\")\n",
    "else:\n",
    "    tokens = response.json()\n",
    "    print(tokens)"
   ]
  },
  {
   "cell_type": "code",
   "execution_count": 5,
   "id": "f181eeeb",
   "metadata": {},
   "outputs": [],
   "source": [
    "KAKAO_TOKEN_SAVED_FILE = \"res/kakao_msg/kakao_token.json\"\n",
    "APP_KEY_SAVED_FILE = \"res/kakao_msg/app_key\""
   ]
  },
  {
   "cell_type": "code",
   "execution_count": 6,
   "id": "1cbf8677",
   "metadata": {},
   "outputs": [],
   "source": [
    "def save_tokens(KAKAO_TOKEN_SAVED_FILE, tokens):\n",
    "    with open(KAKAO_TOKEN_SAVED_FILE, \"w\") as fp:\n",
    "        json.dump(tokens, fp)"
   ]
  },
  {
   "cell_type": "code",
   "execution_count": 7,
   "id": "3fe73716",
   "metadata": {},
   "outputs": [],
   "source": [
    "save_tokens(KAKAO_TOKEN_SAVED_FILE,tokens)"
   ]
  },
  {
   "cell_type": "code",
   "execution_count": 8,
   "id": "d0d181eb",
   "metadata": {},
   "outputs": [],
   "source": [
    "# 초기 한 번만 수행함(REST APP KEY 저장 목적)\n",
    "import pickle\n",
    "\n",
    "app_key = \"\"\n",
    "\n",
    "f = open(APP_KEY_SAVED_FILE, 'wb')\n",
    "pickle.dump(app_key, f)\n",
    "f.close()"
   ]
  },
  {
   "cell_type": "code",
   "execution_count": 22,
   "id": "90e94efa",
   "metadata": {},
   "outputs": [
    {
     "name": "stdout",
     "output_type": "stream",
     "text": [
      "\n"
     ]
    }
   ],
   "source": [
    "# REST APP KEY 저장 잘 되었는지 확인하는 목적\n",
    "f = open(APP_KEY_SAVED_FILE, 'rb')\n",
    "app_key = pickle.load(f)\n",
    "f.close()\n",
    "\n",
    "print()"
   ]
  },
  {
   "cell_type": "code",
   "execution_count": 10,
   "id": "1e28da61",
   "metadata": {},
   "outputs": [],
   "source": [
    "def load_tokens(filename):\n",
    "    with open(filename) as fp:\n",
    "        tokens = json.load(fp)\n",
    "        \n",
    "    return tokens"
   ]
  },
  {
   "cell_type": "code",
   "execution_count": 11,
   "id": "9a0dbfae",
   "metadata": {},
   "outputs": [],
   "source": [
    "def update_tokens(app_key, filename):\n",
    "    tokens = load_tokens(filename)\n",
    "    \n",
    "    url = \"https://kauth.kakao.com/oauth/token\"\n",
    "    \n",
    "    data = {\n",
    "        \"grant_type\" : \"refresh_token\",\n",
    "        \"client_id\" : app_key,\n",
    "        \"refresh_token\" : tokens['refresh_token']\n",
    "    }\n",
    "    \n",
    "    response = requests.post(url, data=data)\n",
    "    \n",
    "    if response.status_code != 200:\n",
    "        print(\"Error!\")\n",
    "        tokens = None\n",
    "    else:\n",
    "        print(response.json())\n",
    "        \n",
    "        # 기존 내용 백업\n",
    "        now = datetime.datetime.now().strftime(\"%Y%m%d_%H%M%S\")\n",
    "        backup_filename = filename + \".\" + now\n",
    "        os.rename(filename, backup_filename)\n",
    "        \n",
    "        # 새롭게 업데이트된 토큰 저장\n",
    "        tokens['access_token'] = response.json()['access_token']\n",
    "        save_tokens(filename, tokens)\n",
    "        \n",
    "    return tokens"
   ]
  },
  {
   "cell_type": "code",
   "execution_count": 21,
   "id": "b0c9b282",
   "metadata": {},
   "outputs": [
    {
     "name": "stdout",
     "output_type": "stream",
     "text": [
      " * Serving Flask app \"__main__\" (lazy loading)\n",
      " * Environment: production\n",
      "   WARNING: This is a development server. Do not use it in a production deployment.\n",
      "   Use a production WSGI server instead.\n",
      " * Debug mode: off\n"
     ]
    },
    {
     "name": "stderr",
     "output_type": "stream",
     "text": [
      " * Running on http://127.0.0.1:5000/ (Press CTRL+C to quit)\n",
      "<ipython-input-21-f84e7b90315b>:7: DeprecationWarning: 'encoding' is ignored and deprecated. It will be removed in Python 3.9\n",
      "  params = json.loads(request.get_data(), encoding='utf-8')\n",
      "127.0.0.1 - - [08/Nov/2021 17:05:00] \"\u001b[37mPOST /spring2pythonRequestWithData HTTP/1.1\u001b[0m\" 200 -\n"
     ]
    },
    {
     "name": "stdout",
     "output_type": "stream",
     "text": [
      "params:  {'boardNo': 13, 'memberId': 'tkddn1212'}\n",
      "values: [13, 'tkddn1212']\n",
      "게시판번호: 13\n",
      "작성자: tkddn1212\n",
      "tokens:  {'access_token': '7wGtEmpDFGiziMbjMx2fjLPeOKE0TG4pWYaYtwo9dRsAAAF8_od0tw', 'token_type': 'bearer', 'refresh_token': 'zfgGxyEg6-xDFBvyn_DA4CX1Ze2aQkyPj8FT-Ao9dRsAAAF8_od0tw', 'expires_in': 21599, 'scope': 'account_email talk_message profile_nickname friends', 'refresh_token_expires_in': 5183999}\n",
      "200\n",
      "tokens:  {'access_token': '7wGtEmpDFGiziMbjMx2fjLPeOKE0TG4pWYaYtwo9dRsAAAF8_od0tw', 'token_type': 'bearer', 'refresh_token': 'zfgGxyEg6-xDFBvyn_DA4CX1Ze2aQkyPj8FT-Ao9dRsAAAF8_od0tw', 'expires_in': 21599, 'scope': 'account_email talk_message profile_nickname friends', 'refresh_token_expires_in': 5183999}\n"
     ]
    }
   ],
   "source": [
    "app = Flask(__name__)\n",
    "CORS(app)\n",
    "\n",
    "@app.route('/spring2pythonRequestWithData', methods = ['GET', 'POST'])\n",
    "def spring2pythonRequestWithData():\n",
    "    \n",
    "    params = json.loads(request.get_data(), encoding='utf-8')\n",
    "    print(\"params: \", params)\n",
    "    \n",
    "    if len(params) == 0:\n",
    "        return jsonify(\"No Parameter\")\n",
    "    \n",
    "    params_string = \"\"\n",
    "    name = \"\"\n",
    "    board_no = \"\"\n",
    "    \n",
    "    ##################### 개조 구간 시작 #####################\n",
    "    #params_string = \"\"\n",
    "    #for key in params.keys():\n",
    "    #    params_string += 'key: {}, value: {}<br>'.format(key, params[key])\n",
    "    \n",
    "    values = []\n",
    "    for key in params.keys():\n",
    "        values.append(params[key])\n",
    "        \n",
    "    print(\"values:\", values)\n",
    "    board_no = values[0]\n",
    "    name =  values[1]\n",
    "    \n",
    "    print(\"게시판번호:\", board_no)\n",
    "    print(\"작성자:\", name)\n",
    "        \n",
    "    \n",
    "    \n",
    "    tokens = load_tokens(KAKAO_TOKEN_SAVED_FILE)\n",
    "    print(\"tokens: \", tokens)\n",
    "\n",
    "    url = \"https://kapi.kakao.com/v2/api/talk/memo/default/send\"\n",
    "\n",
    "    headers = {\n",
    "        \"Authorization\" : \"Bearer \" + tokens['access_token']\n",
    "    }\n",
    "\n",
    "    data = {\n",
    "        \"template_object\" : json.dumps({\n",
    "            \"object_type\" : \"text\",\n",
    "            \"text\" : \"글쓴이{1}의{0}번 게시글이 신고되었습니다 확인부탁드립니다.\".format(board_no,name),\n",
    "            \"link\" : {\n",
    "                \"web_url\" : \"http://localhost:8080/boardReadPage/{0}\".format(board_no)\n",
    "            }\n",
    "        })\n",
    "    }\n",
    "\n",
    "    response = requests.post(url, headers=headers, data=data)\n",
    "    print(response.status_code)\n",
    "    \n",
    "    if response.status_code == 401:\n",
    "        tokens = update_tokens(app_key, KAKAO_TOKEN_SAVED_FILE)\n",
    "        \n",
    "    print(\"tokens: \", tokens)\n",
    "    \n",
    "    ##################### 개조 구간 끄읕 #####################\n",
    "    \n",
    "    return jsonify(params_string)\n",
    "\n",
    "if __name__ == \"__main__\":\n",
    "    app.run()"
   ]
  },
  {
   "cell_type": "code",
   "execution_count": null,
   "id": "af4e8fdd",
   "metadata": {},
   "outputs": [],
   "source": []
  }
 ],
 "metadata": {
  "kernelspec": {
   "display_name": "Python 3",
   "language": "python",
   "name": "python3"
  },
  "language_info": {
   "codemirror_mode": {
    "name": "ipython",
    "version": 3
   },
   "file_extension": ".py",
   "mimetype": "text/x-python",
   "name": "python",
   "nbconvert_exporter": "python",
   "pygments_lexer": "ipython3",
   "version": "3.8.8"
  }
 },
 "nbformat": 4,
 "nbformat_minor": 5
}
