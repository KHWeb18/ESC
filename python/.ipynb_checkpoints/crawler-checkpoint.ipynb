{
 "cells": [
  {
   "cell_type": "code",
   "execution_count": 1,
   "id": "27e6d4f7",
   "metadata": {},
   "outputs": [
    {
     "name": "stdout",
     "output_type": "stream",
     "text": [
      "Requirement already satisfied: requests in c:\\users\\ms109\\anaconda3\\lib\\site-packages (2.25.1)\n",
      "Requirement already satisfied: beautifulsoup4 in c:\\users\\ms109\\anaconda3\\lib\\site-packages (4.9.3)\n",
      "Requirement already satisfied: soupsieve>1.2 in c:\\users\\ms109\\anaconda3\\lib\\site-packages (from beautifulsoup4) (2.2.1)\n",
      "Requirement already satisfied: urllib3<1.27,>=1.21.1 in c:\\users\\ms109\\anaconda3\\lib\\site-packages (from requests) (1.26.4)\n",
      "Requirement already satisfied: idna<3,>=2.5 in c:\\users\\ms109\\anaconda3\\lib\\site-packages (from requests) (2.10)\n",
      "Requirement already satisfied: certifi>=2017.4.17 in c:\\users\\ms109\\anaconda3\\lib\\site-packages (from requests) (2020.12.5)\n",
      "Requirement already satisfied: chardet<5,>=3.0.2 in c:\\users\\ms109\\anaconda3\\lib\\site-packages (from requests) (4.0.0)\n",
      "Note: you may need to restart the kernel to use updated packages.\n"
     ]
    }
   ],
   "source": [
    "pip install requests beautifulsoup4"
   ]
  },
  {
   "cell_type": "code",
   "execution_count": 2,
   "id": "e49764d8",
   "metadata": {},
   "outputs": [
    {
     "name": "stdout",
     "output_type": "stream",
     "text": [
      "Requirement already satisfied: selenium in c:\\users\\ms109\\anaconda3\\lib\\site-packages (4.0.0)\n",
      "Requirement already satisfied: urllib3[secure]~=1.26 in c:\\users\\ms109\\anaconda3\\lib\\site-packages (from selenium) (1.26.4)\n",
      "Requirement already satisfied: trio-websocket~=0.9 in c:\\users\\ms109\\anaconda3\\lib\\site-packages (from selenium) (0.9.2)\n",
      "Requirement already satisfied: trio~=0.17 in c:\\users\\ms109\\anaconda3\\lib\\site-packages (from selenium) (0.19.0)\n",
      "Requirement already satisfied: outcome in c:\\users\\ms109\\anaconda3\\lib\\site-packages (from trio~=0.17->selenium) (1.1.0)\n",
      "Requirement already satisfied: attrs>=19.2.0 in c:\\users\\ms109\\anaconda3\\lib\\site-packages (from trio~=0.17->selenium) (20.3.0)\n",
      "Requirement already satisfied: cffi>=1.14 in c:\\users\\ms109\\anaconda3\\lib\\site-packages (from trio~=0.17->selenium) (1.14.5)\n",
      "Requirement already satisfied: sortedcontainers in c:\\users\\ms109\\anaconda3\\lib\\site-packages (from trio~=0.17->selenium) (2.3.0)\n",
      "Requirement already satisfied: idna in c:\\users\\ms109\\anaconda3\\lib\\site-packages (from trio~=0.17->selenium) (2.10)\n",
      "Requirement already satisfied: sniffio in c:\\users\\ms109\\anaconda3\\lib\\site-packages (from trio~=0.17->selenium) (1.2.0)\n",
      "Requirement already satisfied: async-generator>=1.9 in c:\\users\\ms109\\anaconda3\\lib\\site-packages (from trio~=0.17->selenium) (1.10)\n",
      "Requirement already satisfied: pycparser in c:\\users\\ms109\\anaconda3\\lib\\site-packages (from cffi>=1.14->trio~=0.17->selenium) (2.20)\n",
      "Requirement already satisfied: wsproto>=0.14 in c:\\users\\ms109\\anaconda3\\lib\\site-packages (from trio-websocket~=0.9->selenium) (1.0.0)\n",
      "Requirement already satisfied: cryptography>=1.3.4 in c:\\users\\ms109\\anaconda3\\lib\\site-packages (from urllib3[secure]~=1.26->selenium) (3.4.7)\n",
      "Requirement already satisfied: pyOpenSSL>=0.14 in c:\\users\\ms109\\anaconda3\\lib\\site-packages (from urllib3[secure]~=1.26->selenium) (20.0.1)\n",
      "Requirement already satisfied: certifi in c:\\users\\ms109\\anaconda3\\lib\\site-packages (from urllib3[secure]~=1.26->selenium) (2020.12.5)\n",
      "Requirement already satisfied: six>=1.5.2 in c:\\users\\ms109\\anaconda3\\lib\\site-packages (from pyOpenSSL>=0.14->urllib3[secure]~=1.26->selenium) (1.15.0)\n",
      "Requirement already satisfied: h11<1,>=0.9.0 in c:\\users\\ms109\\anaconda3\\lib\\site-packages (from wsproto>=0.14->trio-websocket~=0.9->selenium) (0.12.0)\n",
      "Note: you may need to restart the kernel to use updated packages.\n"
     ]
    }
   ],
   "source": [
    "pip install selenium"
   ]
  },
  {
   "cell_type": "code",
   "execution_count": 39,
   "id": "a69dcbe5",
   "metadata": {
    "scrolled": false
   },
   "outputs": [
    {
     "name": "stdout",
     "output_type": "stream",
     "text": [
      "[' LG마그나, 인천시와 전기차 부품사업 협력 강화 업무협약 체결 ', 'https://m.news.naver.com/read?mode=LSD&mid=sec&sid1=101&oid=001&aid=0012769694', ' “디폴트 위기 헝다, 英 전기차 스타트업도 매각한다” ', 'https://m.news.naver.com/read?mode=LSD&mid=sec&sid1=101&oid=001&aid=0012769694', \" 제주 '전기차 충전 서비스 규제자유특구' 사실상 승인 \", 'https://m.news.naver.com/read?mode=LSD&mid=sec&sid1=101&oid=001&aid=0012769694', ' 롯데정보통신, 전기차 충전기 2위업체 인수 ', 'https://m.news.naver.com/read?mode=LSD&mid=sec&sid1=101&oid=001&aid=0012769694', ' 대형 SUV 전기차는 이런 모습… 현대차, 콘셉트카 ‘세븐’ 티저 공개 ', 'https://m.news.naver.com/read?mode=LSD&mid=sec&sid1=101&oid=001&aid=0012769694', \" [헝가리 국빈 방문] 文대통령, V4와 '전기차 배터리·수소 경제 협력' 제안 \", 'https://m.news.naver.com/read?mode=LSD&mid=sec&sid1=101&oid=001&aid=0012769694', ' 문 대통령 \"V4와 전기차 배터리 등 미래산업서 협력 강화\" ', 'https://m.news.naver.com/read?mode=LSD&mid=sec&sid1=101&oid=001&aid=0012769694', ' 가로등 전력으로 전기차 완속충전…1시간이면 20㎞ 간다 ', 'https://m.news.naver.com/read?mode=LSD&mid=sec&sid1=101&oid=001&aid=0012769694', ' 한-헝가리 정상회담…文 \"전기차 배터리 등 유망산업 교역확대\"(종합) ', 'https://m.news.naver.com/read?mode=LSD&mid=sec&sid1=101&oid=001&aid=0012769694', ' 文대통령 “우리 기업 인프라 사업 참여” 슬로바키아 총리 “전기차 협력” ', 'https://m.news.naver.com/read?mode=LSD&mid=sec&sid1=101&oid=001&aid=0012769694', ' 유앤아이 자회사, 이랜드 켄싱턴리조트와 전기차 충전소 설치계약 ', 'https://m.news.naver.com/read?mode=LSD&mid=sec&sid1=101&oid=001&aid=0012769694', \" LG엔솔, 美전기차 '니콜라'에 배터리 공급…장기계약 체결 \", 'https://m.news.naver.com/read?mode=LSD&mid=sec&sid1=101&oid=001&aid=0012769694', ' 文대통령 \"韓-헝가리, 전기차 배터리 등 유망산업 교역 확대\" ', 'https://m.news.naver.com/read?mode=LSD&mid=sec&sid1=101&oid=001&aid=0012769694', ' SK온, 中옌청 배터리공장 건설에 3조 투자…중국 전기차 시장 공략 ', 'https://m.news.naver.com/read?mode=LSD&mid=sec&sid1=101&oid=001&aid=0012769694', ' 韓-폴란드 정상회담, 文 \"전기차 배터리 활동 환영\" ', 'https://m.news.naver.com/read?mode=LSD&mid=sec&sid1=101&oid=001&aid=0012769694', ' 文대통령 “우리 기업 인프라 사업 참여” 슬로바키아 총리 “전기차 협력” ', 'https://m.news.naver.com/read?mode=LSD&mid=sec&sid1=100&oid=366&aid=0000771772', \" LG엔솔, 美전기차 '니콜라'에 배터리 공급…장기계약 체결 \", 'https://m.news.naver.com/read?mode=LSD&mid=sec&sid1=100&oid=366&aid=0000771772', ' LG마그나, 인천시와 전기차 부품사업 협력 강화 업무협약 체결 ', 'https://m.news.naver.com/read?mode=LSD&mid=sec&sid1=100&oid=366&aid=0000771772', ' LG마그나, 인천에 전기차 부품 제조시설 투자 ', 'https://m.news.naver.com/read?mode=LSD&mid=sec&sid1=100&oid=366&aid=0000771772', ' 한-헝가리 정상회담…文 \"전기차 배터리 등 유망산업 교역확대\" ', 'https://m.news.naver.com/read?mode=LSD&mid=sec&sid1=100&oid=366&aid=0000771772', ' “디폴트 위기 헝다, 英 전기차 스타트업도 매각한다” ', 'https://m.news.naver.com/read?mode=LSD&mid=sec&sid1=100&oid=366&aid=0000771772', ' 전기차 집중한다더니…헝다, 전기차 사업부 일부 매각 ', 'https://m.news.naver.com/read?mode=LSD&mid=sec&sid1=100&oid=366&aid=0000771772', ' 제주 전기차 충전서비스 특구 사업 임시허가 ', 'https://m.news.naver.com/read?mode=LSD&mid=sec&sid1=100&oid=366&aid=0000771772', ' SK온, 中옌청 배터리공장 건설에 3조 투자…중국 전기차 시장 공략 ', 'https://m.news.naver.com/read?mode=LSD&mid=sec&sid1=100&oid=366&aid=0000771772', ' 韓-폴란드 정상회담, 文 \"전기차 배터리 활동 환영\" ', 'https://m.news.naver.com/read?mode=LSD&mid=sec&sid1=100&oid=366&aid=0000771772', ' 中 전기차 배터리 시장현황 ', 'https://m.news.naver.com/read?mode=LSD&mid=sec&sid1=100&oid=366&aid=0000771772', ' ‘5990만원’짜리 벤츠와 제네시스 전기차 격돌... “EQA VS GV60” [시승기] ', 'https://m.news.naver.com/read?mode=LSD&mid=sec&sid1=100&oid=366&aid=0000771772', ' \"이거 하나면 어디서든 전기차 충전 가능\" ', 'https://m.news.naver.com/read?mode=LSD&mid=sec&sid1=100&oid=366&aid=0000771772', ' \"전도민에 전기차\" 제주, 전기 선박까지 개발·보급 박차 ', 'https://m.news.naver.com/read?mode=LSD&mid=sec&sid1=100&oid=366&aid=0000771772', \" 제주 '전기차 충전 서비스 규제자유특구' 사실상 승인 \", 'https://m.news.naver.com/read?mode=LSD&mid=sec&sid1=100&oid=366&aid=0000771772'] https://m.news.naver.com/read?mode=LSD&mid=sec&sid1=100&oid=366&aid=0000771772\n"
     ]
    }
   ],
   "source": [
    "import requests\n",
    "from bs4 import BeautifulSoup\n",
    "\n",
    "\n",
    "titles = []\n",
    "search_word = '전기차'\n",
    "i = '10'\n",
    "\n",
    "for i in range(1, 10, 5):\n",
    "    \n",
    "    url = f'https://m.search.naver.com/search.naver?where=m_news&sm=mtb_jum&query={search_word}&start={i}'\n",
    "    req = requests.get(url)\n",
    "    html = req.text\n",
    "    soup = BeautifulSoup(html, 'html.parser')\n",
    "    search_result = soup.select_one('.list_news')\n",
    "\n",
    "\n",
    "    news_links = search_result.select('.bx > .news_wrap > a' )\n",
    "\n",
    "    for title in news_links:\n",
    "        titles.append(title.get_text())\n",
    "        a_tag = search_result.select_one('#news_result_list > li:nth-child(1) > div > a')\n",
    "\n",
    "\n",
    "        url = a_tag['href']\n",
    "        titles.append(url)\n",
    "        \n",
    "\n",
    "\n",
    "\n",
    "    import json\n",
    "\n",
    "\n",
    "    with open(\"data.json\", \"w\", encoding='utf-8') as f: \n",
    "        json.dump(titles, f, ensure_ascii=False)    \n",
    "    \n",
    "\n",
    "    \n",
    "print(titles, url)\n",
    "#soup\n",
    "#print(html)\n",
    "\n"
   ]
  },
  {
   "cell_type": "code",
   "execution_count": null,
   "id": "17f2f8d6",
   "metadata": {},
   "outputs": [],
   "source": [
    "from flask import Flask, url_for, request, jsonify\n",
    "from flask_cors import CORS, cross_origin\n",
    "\n",
    "import json\n",
    "\n",
    "app = Flask(__name__)\n",
    "CORS(app)\n",
    "\n",
    "@app.route('/newsCrawler', methods = ['GET', 'POST'])                                                                                                                                                                                                                                                                                                                                 \n",
    "def test():\n",
    "    \n",
    "    data = titles\n",
    "\n",
    "    \n",
    "    return jsonify(data)\n",
    "\n",
    "if __name__ == '__main__':\n",
    "    app.run(debug=False,host=\"127.0.0.1\",port=5000)"
   ]
  },
  {
   "cell_type": "code",
   "execution_count": null,
   "id": "dd88b1d1",
   "metadata": {},
   "outputs": [],
   "source": []
  }
 ],
 "metadata": {
  "kernelspec": {
   "display_name": "Python 3",
   "language": "python",
   "name": "python3"
  },
  "language_info": {
   "codemirror_mode": {
    "name": "ipython",
    "version": 3
   },
   "file_extension": ".py",
   "mimetype": "text/x-python",
   "name": "python",
   "nbconvert_exporter": "python",
   "pygments_lexer": "ipython3",
   "version": "3.8.8"
  }
 },
 "nbformat": 4,
 "nbformat_minor": 5
}
