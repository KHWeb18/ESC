{
 "cells": [
  {
   "cell_type": "code",
   "execution_count": 1,
   "id": "6ccf82b6",
   "metadata": {},
   "outputs": [],
   "source": [
    "import smtplib"
   ]
  },
  {
   "cell_type": "code",
   "execution_count": 2,
   "id": "1e8d34a1",
   "metadata": {},
   "outputs": [],
   "source": [
    "from email.mime.text import MIMEText"
   ]
  },
  {
   "cell_type": "code",
   "execution_count": 3,
   "id": "d8e948bd",
   "metadata": {},
   "outputs": [],
   "source": [
    "# 시스템 라이브러리 활용 패키지\n",
    "import os\n",
    "\n",
    "# 이메일 메시지에 형식을 활용하기 위한 패키지\n",
    "from email.mime.multipart import MIMEMultipart\n",
    "\n",
    "# 이메일 메시지 프로토콜 처리기(엔코더)\n",
    "from email import encoders\n",
    "\n",
    "# 텍스트 형식 메일\n",
    "from email.mime.text import MIMEText\n",
    "\n",
    "# 이미지 형식 메일\n",
    "from email.mime.image import MIMEImage\n",
    "\n",
    "# 오디오 형식 메일\n",
    "from email.mime.audio import MIMEAudio\n",
    "\n",
    "# 이 모든 정보들을 관장하는 객체\n",
    "from email.mime.base import MIMEBase"
   ]
  },
  {
   "cell_type": "code",
   "execution_count": 4,
   "id": "dd8c9442",
   "metadata": {},
   "outputs": [],
   "source": [
    "def send_email(smtp_info, msg):\n",
    "    with smtplib.SMTP(smtp_info[\"smtp_server\"], smtp_info[\"smtp_port\"]) as server:\n",
    "        # TLS 보안 설정 및 시작 (보안 정책상 필수)\n",
    "        server.starttls()\n",
    "        \n",
    "        # 로그인\n",
    "        server.login(smtp_info[\"smtp_user_id\"], smtp_info[\"smtp_user_pw\"])\n",
    "        \n",
    "        # 이메일 전송\n",
    "        # 메시지 전송시 반드시 as_string()으로 변환하여 전송해야함\n",
    "        res = server.sendmail(msg['from'], msg['to'], msg.as_string())\n",
    "        \n",
    "        if not res:\n",
    "            print('이메일 전송 성공!!!')\n",
    "        else:\n",
    "            print(res)"
   ]
  },
  {
   "cell_type": "code",
   "execution_count": 5,
   "id": "e298c60e",
   "metadata": {},
   "outputs": [],
   "source": [
    "def make_multimsg(msg_dict):\n",
    "    multi = MIMEMultipart(_subtype = 'mixed')\n",
    "    \n",
    "    for key, value in msg_dict.items():\n",
    "        # text 형식인 경우\n",
    "        if key == 'text':\n",
    "            with open(value['filename'], encoding='utf-8') as fp:\n",
    "                msg = MIMEText(fp.read(), _subtype = value['subtype'])\n",
    "        # image 형식인 경우\n",
    "        elif key == 'image':\n",
    "            with open(value['filename'], 'rb') as fp:\n",
    "                msg = MIMEImage(fp.read(), _subtype = value['subtype'])\n",
    "        # audio, video는 별도 설정 없이 진행하도록 함\n",
    "        elif key == 'audio':\n",
    "            print(\"음원은 지원하지 않습니다!\")\n",
    "        elif key == 'video':\n",
    "            print(\"영상은 지원하지 않습니다!\")\n",
    "        # 그 외의 형식\n",
    "        else:\n",
    "            with open(value['filename'], 'rb') as fp:\n",
    "                msg = MIMEBase(value['maintype'], _subtype = value['subtype'])\n",
    "                msg.set_payload(fp.read())\n",
    "                encoders.encode_base64(msg)\n",
    "                \n",
    "        # 파일 이름은 첨부파일 제목\n",
    "        msg.add_header('Content-Disposition', 'attachment', \n",
    "                       filename = os.path.basename(value['filename']))\n",
    "\n",
    "        # 파일 첨부!\n",
    "        multi.attach(msg)\n",
    "        \n",
    "    return multi"
   ]
  },
  {
   "cell_type": "code",
   "execution_count": 6,
   "id": "81b08b8b",
   "metadata": {},
   "outputs": [],
   "source": [
    "from flask import Flask, url_for, request, jsonify\n",
    "from flask_cors import CORS, cross_origin\n",
    "\n",
    "import json\n",
    "import requests\n",
    "import datetime\n",
    "import os"
   ]
  },
  {
   "cell_type": "code",
   "execution_count": null,
   "id": "9381db0c",
   "metadata": {},
   "outputs": [
    {
     "name": "stdout",
     "output_type": "stream",
     "text": [
      " * Serving Flask app \"__main__\" (lazy loading)\n",
      " * Environment: production\n",
      "   WARNING: This is a development server. Do not use it in a production deployment.\n",
      "   Use a production WSGI server instead.\n",
      " * Debug mode: off\n"
     ]
    },
    {
     "name": "stderr",
     "output_type": "stream",
     "text": [
      " * Running on http://127.0.0.1:5000/ (Press CTRL+C to quit)\n",
      "127.0.0.1 - - [09/Nov/2021 22:53:16] \"\u001b[37mOPTIONS /sendNaverEamil HTTP/1.1\u001b[0m\" 200 -\n",
      "<ipython-input-8-a7b3c4db7915>:5: DeprecationWarning: 'encoding' is ignored and deprecated. It will be removed in Python 3.9\n",
      "  params = json.loads(request.get_data(), encoding='utf-8')\n"
     ]
    },
    {
     "name": "stdout",
     "output_type": "stream",
     "text": [
      "넘어온값:  {'randomNum2': 46601}\n",
      "인증번호: 46601\n"
     ]
    },
    {
     "name": "stderr",
     "output_type": "stream",
     "text": [
      "127.0.0.1 - - [09/Nov/2021 22:53:17] \"\u001b[37mPOST /sendNaverEamil HTTP/1.1\u001b[0m\" 200 -\n"
     ]
    },
    {
     "name": "stdout",
     "output_type": "stream",
     "text": [
      "이메일 전송 성공!!!\n"
     ]
    }
   ],
   "source": [
    "app = Flask(__name__)\n",
    "CORS(app)\n",
    "@app.route('/sendNaverEamil', methods = ['GET', 'POST'])\n",
    "def sendNaverEamil():\n",
    "    params = json.loads(request.get_data(), encoding='utf-8')\n",
    "    print(\"넘어온값: \", params)\n",
    "    #넘어온값이 없으면\n",
    "    if len(params) == 0:\n",
    "        return jsonify(\"No Parameter\")\n",
    "    \n",
    "    params_number= \"\"\n",
    "    Authentication_num = \"\"\n",
    "    values = []\n",
    "    for key in params.keys():\n",
    "        values.append(params[key])\n",
    "    \n",
    "    \n",
    "    Authentication_num = values[0]\n",
    "    print(\"인증번호:\", Authentication_num)\n",
    "    \n",
    "    smtp_info = dict({\n",
    "    \"smtp_server\": \"smtp.naver.com\",\n",
    "    \"smtp_user_id\": \"\",\n",
    "    \"smtp_user_pw\": \"\",\n",
    "    \"smtp_port\": 587\n",
    "    })\n",
    "\n",
    "    title = \"[EVS]인증번호\"\n",
    "    content =  str(values[0])\n",
    "    sender = smtp_info['smtp_user_id']\n",
    "    receiver = smtp_info['smtp_user_id']\n",
    "\n",
    "    msg = MIMEText(_text = content, _charset = \"utf-8\")\n",
    "\n",
    "    msg['Subject'] = title\n",
    "    msg['From'] = sender\n",
    "    msg['To'] = receiver\n",
    "    \n",
    "    send_email(smtp_info, msg)\n",
    "    \n",
    "    \n",
    "    \n",
    "    return params_number\n",
    "    \n",
    "if __name__ == \"__main__\":\n",
    "    app.run()"
   ]
  },
  {
   "cell_type": "code",
   "execution_count": null,
   "id": "8a36a633",
   "metadata": {},
   "outputs": [],
   "source": []
  },
  {
   "cell_type": "code",
   "execution_count": null,
   "id": "8aa4ccc7",
   "metadata": {},
   "outputs": [],
   "source": []
  }
 ],
 "metadata": {
  "kernelspec": {
   "display_name": "Python 3",
   "language": "python",
   "name": "python3"
  },
  "language_info": {
   "codemirror_mode": {
    "name": "ipython",
    "version": 3
   },
   "file_extension": ".py",
   "mimetype": "text/x-python",
   "name": "python",
   "nbconvert_exporter": "python",
   "pygments_lexer": "ipython3",
   "version": "3.8.8"
  }
 },
 "nbformat": 4,
 "nbformat_minor": 5
}
